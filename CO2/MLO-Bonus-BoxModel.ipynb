{
 "cells": [
  {
   "cell_type": "markdown",
   "metadata": {},
   "source": [
    "# CO$_2$ Box Model\n",
    "\n",
    "We are going to make a box model to try and explain CO2 concentrations.  "
   ]
  },
  {
   "cell_type": "markdown",
   "metadata": {},
   "source": [
    "I am freely taking from this website\n",
    "http://serc.carleton.edu/quantskills/activities/co2_global.html\n",
    "and this website. http://serc.carleton.edu/quantskills/activities/co2_global.html\n",
    "Robert Mackay is the person behind this.  http://www.atmosedu.com/\n",
    "\n",
    "I have double checked the equations against the website already.  But please make sure I have no typos.\n"
   ]
  },
  {
   "cell_type": "markdown",
   "metadata": {},
   "source": [
    "We are going to treat the atmosphere as a simple box model.  Here is a figure describing it.  It is simple.  Think about that we are adding CO2,  it is building up in the atmosphere, and then it is leaving.  The rate we are adding is increasing but it is leaving at a constant rate.  "
   ]
  },
  {
   "cell_type": "code",
   "execution_count": 3,
   "metadata": {},
   "outputs": [
    {
     "data": {
      "text/html": [
       "<img src=\"http://www.atmosedu.com/physlets/GlobalPollution/waterbucket.gif\"/>"
      ],
      "text/plain": [
       "<IPython.core.display.Image object>"
      ]
     },
     "execution_count": 3,
     "metadata": {},
     "output_type": "execute_result"
    }
   ],
   "source": [
    "from IPython.display import Image\n",
    "Image(url='http://www.atmosedu.com/physlets/GlobalPollution/waterbucket.gif')"
   ]
  },
  {
   "cell_type": "markdown",
   "metadata": {},
   "source": [
    "this makes the equation\n",
    "# $\\frac{dC}{dt}=S-\\frac{C}{\\tau}$"
   ]
  },
  {
   "cell_type": "markdown",
   "metadata": {},
   "source": [
    "C is the Concentration of CO$_2$ in the atmospher in ppm.\n",
    "\n",
    "S is the amount of CO$_2$ we are adding every year in ppm.\n",
    "\n",
    "tau ($\\tau$) is is the residence time of CO$_2$ in years.  \n",
    "\n",
    "So basically we are saying the changing the CO$_2$ over time is equal to the amount we put in and how quickly it leaves.\n",
    "\n",
    "Now we just need to solve it!\n",
    "\n",
    "The answeres are from here. http://www.atmosedu.com/physlets/GlobalPollution/instructorNotes.htm"
   ]
  },
  {
   "cell_type": "markdown",
   "metadata": {},
   "source": [
    "# $C=C_oe^{-t/\\tau}+e^{-t/\\tau}\\int_{0}^{t} St^\\prime e^{-t^{\\prime}/\\tau}dt^\\prime$\n",
    "\n",
    "I am not sure about the t-prime and I am looking into it. I think t is total time and t prime is at any time step.  But we know the source term is changing and increasing over time.  But this is the solution over time telling us the concentration C at any time in the atmosphere.\n",
    "\n",
    "But we also need to know how much CO2 we are adding\n",
    "\n",
    "# $S(t)=S_oe^{Rt}$\n",
    "\n",
    "# $S_o$ \n",
    "is the initial addition to the atmosphere at time zero\n",
    "# R\n",
    "is the rate of growth of emission\n",
    "\n",
    "Before we solve the whole equation lets just solve for S(t).  \n",
    "\n",
    "So read in your mauna lao data\n",
    "\n",
    "We will need datetime today\n",
    "\n",
    "### Final equation\n",
    "\n",
    "As you will see below.  The final solution we will solve is \n",
    "# $C=C_oe^{-t/\\tau}+\\frac{S_o}{R+\\frac{1}{\\tau}}\\big[e^{Rt}-e^{-t/\\tau}  \\big]$\n",
    "\n",
    "# $\\tau$\n",
    "tau is the lifetime of CO$_2$ in the atmosphere in years.  We use 120.  \n",
    "\n",
    "\n",
    "\n"
   ]
  },
  {
   "cell_type": "code",
   "execution_count": 2,
   "metadata": {},
   "outputs": [],
   "source": [
    "%matplotlib inline\n",
    "import pandas as pd\n",
    "import numpy as np\n",
    "import matplotlib.pylab as plt\n",
    "from scipy import stats\n",
    "from matplotlib.backends.backend_pdf import PdfPages\n",
    "\n",
    "import datetime"
   ]
  },
  {
   "cell_type": "code",
   "execution_count": 16,
   "metadata": {},
   "outputs": [
    {
     "data": {
      "text/plain": [
       "<AxesSubplot:xlabel='Date_HR'>"
      ]
     },
     "execution_count": 16,
     "metadata": {},
     "output_type": "execute_result"
    },
    {
     "data": {
      "image/png": "[encoded data removed]",
      "text/plain": [
       "<Figure size 432x288 with 1 Axes>"
      ]
     },
     "metadata": {
      "needs_background": "light"
     },
     "output_type": "display_data"
    }
   ],
   "source": [
    "url='https://scrippsco2.ucsd.edu/assets/data/atmospheric/stations/flask_co2/daily/daily_flask_co2_mlo.csv'\n",
    "df_mlo=pd.read_csv(url,skiprows=69,usecols=[0,1,5,6],names=['Date','HR','Flag','CO2']\\\n",
    "                       ,parse_dates=[['Date','HR']]\\\n",
    "                       ,index_col='Date_HR',header=None)\n",
    "df_mlo=df_mlo[df_mlo['Flag']==0].copy()\n",
    "df_mlo['CO2'].plot()"
   ]
  },
  {
   "cell_type": "markdown",
   "metadata": {},
   "source": [
    "to make this work you will need elapsed time.  This is a little tricky to make and takes a few tricks.  lets run through them."
   ]
  },
  {
   "cell_type": "markdown",
   "metadata": {},
   "source": [
    "First you need a start time which is the first index.  But since it is an index you need to use index to get the values out.  to get the values out of an index you type this"
   ]
  },
  {
   "cell_type": "code",
   "execution_count": 17,
   "metadata": {},
   "outputs": [
    {
     "data": {
      "text/plain": [
       "DatetimeIndex(['1960-03-30 12:00:00', '1960-03-31 16:00:00',\n",
       "               '1960-04-24 08:00:00', '1960-08-18 10:00:00',\n",
       "               '1960-10-06 14:48:00', '1960-12-01 10:50:00',\n",
       "               '1961-01-04 12:50:00', '1961-01-17 14:00:00',\n",
       "               '1961-03-01 15:23:00', '1961-06-01 14:20:00',\n",
       "               ...\n",
       "               '2023-05-23 08:16:00', '2023-05-30 08:25:00',\n",
       "               '2023-06-06 07:54:00', '2023-06-20 10:46:00',\n",
       "               '2023-06-27 08:13:00', '2023-07-11 08:08:00',\n",
       "               '2023-07-25 08:02:00', '2023-08-24 08:20:00',\n",
       "               '2023-08-29 09:18:00', '2023-09-05 09:10:00'],\n",
       "              dtype='datetime64[ns]', name='Date_HR', length=2323, freq=None)"
      ]
     },
     "execution_count": 17,
     "metadata": {},
     "output_type": "execute_result"
    }
   ],
   "source": [
    "df_mlo.index"
   ]
  },
  {
   "cell_type": "markdown",
   "metadata": {},
   "source": [
    "to get the 0 row which is the start time you use your brackets"
   ]
  },
  {
   "cell_type": "code",
   "execution_count": 18,
   "metadata": {},
   "outputs": [
    {
     "data": {
      "text/plain": [
       "Timestamp('1960-03-30 12:00:00')"
      ]
     },
     "execution_count": 18,
     "metadata": {},
     "output_type": "execute_result"
    }
   ],
   "source": [
    "df_mlo.index[0]"
   ]
  },
  {
   "cell_type": "markdown",
   "metadata": {},
   "source": [
    "to get the elapsed you subtract the index from the start time.  This works but gives funny results so THIS WONT WORK YET!"
   ]
  },
  {
   "cell_type": "code",
   "execution_count": 19,
   "metadata": {},
   "outputs": [],
   "source": [
    "df_mlo['elapsed'] = (df_mlo.index.to_series() - df_mlo.index.to_series()[0])"
   ]
  },
  {
   "cell_type": "code",
   "execution_count": 20,
   "metadata": {},
   "outputs": [
    {
     "data": {
      "text/html": [
       "<div>\n",
       "<style scoped>\n",
       "    .dataframe tbody tr th:only-of-type {\n",
       "        vertical-align: middle;\n",
       "    }\n",
       "\n",
       "    .dataframe tbody tr th {\n",
       "        vertical-align: top;\n",
       "    }\n",
       "\n",
       "    .dataframe thead th {\n",
       "        text-align: right;\n",
       "    }\n",
       "</style>\n",
       "<table border=\"1\" class=\"dataframe\">\n",
       "  <thead>\n",
       "    <tr style=\"text-align: right;\">\n",
       "      <th></th>\n",
       "      <th>Flag</th>\n",
       "      <th>CO2</th>\n",
       "      <th>elapsed</th>\n",
       "    </tr>\n",
       "    <tr>\n",
       "      <th>Date_HR</th>\n",
       "      <th></th>\n",
       "      <th></th>\n",
       "      <th></th>\n",
       "    </tr>\n",
       "  </thead>\n",
       "  <tbody>\n",
       "    <tr>\n",
       "      <th>1960-03-30 12:00:00</th>\n",
       "      <td>0</td>\n",
       "      <td>318.27</td>\n",
       "      <td>0 days 00:00:00</td>\n",
       "    </tr>\n",
       "    <tr>\n",
       "      <th>1960-03-31 16:00:00</th>\n",
       "      <td>0</td>\n",
       "      <td>318.29</td>\n",
       "      <td>1 days 04:00:00</td>\n",
       "    </tr>\n",
       "    <tr>\n",
       "      <th>1960-04-24 08:00:00</th>\n",
       "      <td>0</td>\n",
       "      <td>319.33</td>\n",
       "      <td>24 days 20:00:00</td>\n",
       "    </tr>\n",
       "    <tr>\n",
       "      <th>1960-08-18 10:00:00</th>\n",
       "      <td>0</td>\n",
       "      <td>315.56</td>\n",
       "      <td>140 days 22:00:00</td>\n",
       "    </tr>\n",
       "    <tr>\n",
       "      <th>1960-10-06 14:48:00</th>\n",
       "      <td>0</td>\n",
       "      <td>312.62</td>\n",
       "      <td>190 days 02:48:00</td>\n",
       "    </tr>\n",
       "  </tbody>\n",
       "</table>\n",
       "</div>"
      ],
      "text/plain": [
       "                     Flag     CO2           elapsed\n",
       "Date_HR                                            \n",
       "1960-03-30 12:00:00     0  318.27   0 days 00:00:00\n",
       "1960-03-31 16:00:00     0  318.29   1 days 04:00:00\n",
       "1960-04-24 08:00:00     0  319.33  24 days 20:00:00\n",
       "1960-08-18 10:00:00     0  315.56 140 days 22:00:00\n",
       "1960-10-06 14:48:00     0  312.62 190 days 02:48:00"
      ]
     },
     "execution_count": 20,
     "metadata": {},
     "output_type": "execute_result"
    }
   ],
   "source": [
    "df_mlo.head()"
   ]
  },
  {
   "cell_type": "code",
   "execution_count": 21,
   "metadata": {},
   "outputs": [
    {
     "data": {
      "text/plain": [
       "dtype('<m8[ns]')"
      ]
     },
     "execution_count": 21,
     "metadata": {},
     "output_type": "execute_result"
    }
   ],
   "source": [
    "df_mlo.elapsed.dtype"
   ]
  },
  {
   "cell_type": "markdown",
   "metadata": {},
   "source": [
    "So we have no idea what that elapsed time type means and we can't do math on it.  So we google stackoverflow and ask for help.  This is not the best post but it helps.  http://stackoverflow.com/questions/24588437/convert-date-to-float-for-linear-regression-on-pandas-data-frame  If you divide a datetime by a timedelta it converts it for you. It is wonky.  And if we divide by 365 days it will put it into years."
   ]
  },
  {
   "cell_type": "code",
   "execution_count": 22,
   "metadata": {},
   "outputs": [],
   "source": [
    "df_mlo['elapsed'] = (df_mlo.index.to_series() - df_mlo.index.to_series()[0])\\\n",
    "                    /datetime.timedelta(days=365)"
   ]
  },
  {
   "cell_type": "code",
   "execution_count": 23,
   "metadata": {},
   "outputs": [
    {
     "data": {
      "text/html": [
       "<div>\n",
       "<style scoped>\n",
       "    .dataframe tbody tr th:only-of-type {\n",
       "        vertical-align: middle;\n",
       "    }\n",
       "\n",
       "    .dataframe tbody tr th {\n",
       "        vertical-align: top;\n",
       "    }\n",
       "\n",
       "    .dataframe thead th {\n",
       "        text-align: right;\n",
       "    }\n",
       "</style>\n",
       "<table border=\"1\" class=\"dataframe\">\n",
       "  <thead>\n",
       "    <tr style=\"text-align: right;\">\n",
       "      <th></th>\n",
       "      <th>Flag</th>\n",
       "      <th>CO2</th>\n",
       "      <th>elapsed</th>\n",
       "    </tr>\n",
       "    <tr>\n",
       "      <th>Date_HR</th>\n",
       "      <th></th>\n",
       "      <th></th>\n",
       "      <th></th>\n",
       "    </tr>\n",
       "  </thead>\n",
       "  <tbody>\n",
       "    <tr>\n",
       "      <th>1960-03-30 12:00:00</th>\n",
       "      <td>0</td>\n",
       "      <td>318.27</td>\n",
       "      <td>0.000000</td>\n",
       "    </tr>\n",
       "    <tr>\n",
       "      <th>1960-03-31 16:00:00</th>\n",
       "      <td>0</td>\n",
       "      <td>318.29</td>\n",
       "      <td>0.003196</td>\n",
       "    </tr>\n",
       "    <tr>\n",
       "      <th>1960-04-24 08:00:00</th>\n",
       "      <td>0</td>\n",
       "      <td>319.33</td>\n",
       "      <td>0.068037</td>\n",
       "    </tr>\n",
       "    <tr>\n",
       "      <th>1960-08-18 10:00:00</th>\n",
       "      <td>0</td>\n",
       "      <td>315.56</td>\n",
       "      <td>0.386073</td>\n",
       "    </tr>\n",
       "    <tr>\n",
       "      <th>1960-10-06 14:48:00</th>\n",
       "      <td>0</td>\n",
       "      <td>312.62</td>\n",
       "      <td>0.520868</td>\n",
       "    </tr>\n",
       "  </tbody>\n",
       "</table>\n",
       "</div>"
      ],
      "text/plain": [
       "                     Flag     CO2   elapsed\n",
       "Date_HR                                    \n",
       "1960-03-30 12:00:00     0  318.27  0.000000\n",
       "1960-03-31 16:00:00     0  318.29  0.003196\n",
       "1960-04-24 08:00:00     0  319.33  0.068037\n",
       "1960-08-18 10:00:00     0  315.56  0.386073\n",
       "1960-10-06 14:48:00     0  312.62  0.520868"
      ]
     },
     "execution_count": 23,
     "metadata": {},
     "output_type": "execute_result"
    }
   ],
   "source": [
    "df_mlo.head()"
   ]
  },
  {
   "cell_type": "markdown",
   "metadata": {},
   "source": [
    "so we have an elapsed time.  so now lets compute an S at every time step.\n",
    "\n",
    "Set your $S_o$ to 3 ppm.  Set R to 1% which is 1/100 which is .01\n",
    "\n",
    "then plot the S over time.\n",
    "## Flashback\n",
    "Make sure to put in decimal places\n",
    "also exponent is np.exp\n"
   ]
  },
  {
   "cell_type": "code",
   "execution_count": 24,
   "metadata": {},
   "outputs": [
    {
     "data": {
      "text/plain": [
       "<AxesSubplot:xlabel='Date_HR'>"
      ]
     },
     "execution_count": 24,
     "metadata": {},
     "output_type": "execute_result"
    },
    {
     "data": {
      "image/png": "[encoded data removed]",
      "text/plain": [
       "<Figure size 432x288 with 1 Axes>"
      ]
     },
     "metadata": {
      "needs_background": "light"
     },
     "output_type": "display_data"
    }
   ],
   "source": [
    "So=3.\n",
    "R=.01\n",
    "df_mlo['S']=So*np.exp(R*df_mlo.elapsed)\n",
    "df_mlo.S.plot()"
   ]
  },
  {
   "cell_type": "markdown",
   "metadata": {},
   "source": [
    "Now here is the solution for the whole CO2 equation.  \n",
    "http://www.atmosedu.com/physlets/GlobalPollution/solution.jpg\n",
    "# $C=C_oe^{-t/\\tau}+\\frac{S_o}{R+\\frac{1}{\\tau}}\\big[e^{Rt}-e^{-t/\\tau}  \\big]$\n",
    "\n",
    "Solve the equation and figure out the best fit parameters for CO2.  How much has CO2 output been growing over the years?  \n",
    "set tau to 120.0.  Remember this is a simple box model so real life might be slightly different.  \n",
    "\n",
    "What would CO$_2$ look like now if the growth rate R was halved starting at the beginning of the dataset?  \n",
    "\n",
    "here are my answers.  Good luck\n"
   ]
  },
  {
   "cell_type": "code",
   "execution_count": 36,
   "metadata": {},
   "outputs": [
    {
     "data": {
      "text/plain": [
       "<matplotlib.axes._subplots.AxesSubplot at 0x1fb12748>"
      ]
     },
     "execution_count": 36,
     "metadata": {},
     "output_type": "execute_result"
    },
    {
     "data": {
      "image/png": "[encoded data removed]",
      "text/plain": [
       "<matplotlib.figure.Figure at 0x1f7848d0>"
      ]
     },
     "metadata": {},
     "output_type": "display_data"
    }
   ],
   "source": []
  },
  {
   "cell_type": "markdown",
   "metadata": {},
   "source": [
    "My answer with the R halved."
   ]
  },
  {
   "cell_type": "code",
   "execution_count": 37,
   "metadata": {},
   "outputs": [
    {
     "data": {
      "text/plain": [
       "<matplotlib.axes._subplots.AxesSubplot at 0x1fd2e240>"
      ]
     },
     "execution_count": 37,
     "metadata": {},
     "output_type": "execute_result"
    },
    {
     "data": {
      "image/png": "[encoded data removed]",
      "text/plain": [
       "<matplotlib.figure.Figure at 0x20174f60>"
      ]
     },
     "metadata": {},
     "output_type": "display_data"
    }
   ],
   "source": []
  },
  {
   "cell_type": "code",
   "execution_count": null,
   "metadata": {
    "collapsed": true
   },
   "outputs": [],
   "source": []
  }
 ],
 "metadata": {
  "kernelspec": {
   "display_name": "Python 3",
   "language": "python",
   "name": "python3"
  },
  "language_info": {
   "codemirror_mode": {
    "name": "ipython",
    "version": 3
   },
   "file_extension": ".py",
   "mimetype": "text/x-python",
   "name": "python",
   "nbconvert_exporter": "python",
   "pygments_lexer": "ipython3",
   "version": "3.8.5"
  }
 },
 "nbformat": 4,
 "nbformat_minor": 1
}
