{
 "cells": [
  {
   "cell_type": "markdown",
   "metadata": {},
   "source": [
    "# Best Fit Line"
   ]
  },
  {
   "cell_type": "markdown",
   "metadata": {},
   "source": [
    "today we are going to write our own code for fitting a line and then compare it to differnt functions in python.  We are going to take our math form Daniel C. Harris, Quantitative Chemical Analysis pages 66 and 67.  Python can fit a line for you.  But it is good to do a few of these functions by hand to see how they work.  "
   ]
  },
  {
   "cell_type": "markdown",
   "metadata": {},
   "source": [
    "To begin we are going to cheat and make our lives easier and use the numpy package.  This package lets us do some array operations really easily and we won't have to do for loops.  I was thinking of being mean and using all for loops.  But lets take advantage of python.  First lets import numpy and see what we can do.  "
   ]
  },
  {
   "cell_type": "code",
   "execution_count": 1,
   "metadata": {},
   "outputs": [],
   "source": [
    "%matplotlib inline  \n",
    "import numpy as np\n",
    "import matplotlib.pyplot as plt\n",
    "from scipy import stats"
   ]
  },
  {
   "cell_type": "code",
   "execution_count": 33,
   "metadata": {},
   "outputs": [
    {
     "name": "stdout",
     "output_type": "stream",
     "text": [
      "[1. 3. 4. 6.]\n"
     ]
    },
    {
     "data": {
      "text/plain": [
       "numpy.ndarray"
      ]
     },
     "execution_count": 33,
     "metadata": {},
     "output_type": "execute_result"
    }
   ],
   "source": [
    "x=np.array([1.,3,4,6])\n",
    "print (x)\n",
    "type(x)"
   ]
  },
  {
   "cell_type": "markdown",
   "metadata": {},
   "source": [
    "So we could enter a list but instead of calling it a list we call it a numpy array.  This is like a supercharged list.  "
   ]
  },
  {
   "cell_type": "markdown",
   "metadata": {},
   "source": [
    "Now we can make the y"
   ]
  },
  {
   "cell_type": "code",
   "execution_count": 34,
   "metadata": {},
   "outputs": [],
   "source": [
    "y=np.array([2,3,4,5])"
   ]
  },
  {
   "cell_type": "markdown",
   "metadata": {},
   "source": [
    "Now this is where numpy gets really cool.  you can multiply and add your lists.  This is different than array math if you have taken linear algebra.  But we will be able to do that also.  "
   ]
  },
  {
   "cell_type": "code",
   "execution_count": 6,
   "metadata": {},
   "outputs": [
    {
     "name": "stdout",
     "output_type": "stream",
     "text": [
      "[ 2.  9. 16. 30.]\n"
     ]
    }
   ],
   "source": [
    "print (x*y)"
   ]
  },
  {
   "cell_type": "markdown",
   "metadata": {},
   "source": [
    "do you see what it just did?  It multiplied elementwise!"
   ]
  },
  {
   "cell_type": "code",
   "execution_count": 7,
   "metadata": {},
   "outputs": [
    {
     "name": "stdout",
     "output_type": "stream",
     "text": [
      "[ 3.  6.  8. 11.]\n"
     ]
    }
   ],
   "source": [
    "print (x+y)"
   ]
  },
  {
   "cell_type": "code",
   "execution_count": 8,
   "metadata": {},
   "outputs": [
    {
     "name": "stdout",
     "output_type": "stream",
     "text": [
      "[-1.  0.  0.  1.]\n"
     ]
    }
   ],
   "source": [
    "print (x-y)"
   ]
  },
  {
   "cell_type": "code",
   "execution_count": 9,
   "metadata": {},
   "outputs": [
    {
     "name": "stdout",
     "output_type": "stream",
     "text": [
      "[0.5 1.  1.  1.2]\n"
     ]
    }
   ],
   "source": [
    "print (x/y)"
   ]
  },
  {
   "cell_type": "code",
   "execution_count": 10,
   "metadata": {},
   "outputs": [
    {
     "name": "stdout",
     "output_type": "stream",
     "text": [
      "[1. 0. 0. 1.]\n"
     ]
    }
   ],
   "source": [
    "print (x%y)"
   ]
  },
  {
   "cell_type": "markdown",
   "metadata": {},
   "source": [
    "If you are doing linear algebra there are methods to do true matrix multiplication.   For example the dot product. "
   ]
  },
  {
   "cell_type": "code",
   "execution_count": 11,
   "metadata": {},
   "outputs": [
    {
     "name": "stdout",
     "output_type": "stream",
     "text": [
      "57.0\n"
     ]
    }
   ],
   "source": [
    "print (np.dot(x,y))"
   ]
  },
  {
   "cell_type": "code",
   "execution_count": 12,
   "metadata": {},
   "outputs": [
    {
     "name": "stdout",
     "output_type": "stream",
     "text": [
      "14.0\n"
     ]
    }
   ],
   "source": [
    "print (np.sum(x))"
   ]
  },
  {
   "cell_type": "code",
   "execution_count": 13,
   "metadata": {},
   "outputs": [
    {
     "name": "stdout",
     "output_type": "stream",
     "text": [
      "4\n"
     ]
    }
   ],
   "source": [
    "print (len(x))"
   ]
  },
  {
   "cell_type": "markdown",
   "metadata": {},
   "source": [
    "remember that tab is your friend. if you type np. and hit tab you will see a ton of functions we can call"
   ]
  },
  {
   "cell_type": "code",
   "execution_count": null,
   "metadata": {},
   "outputs": [],
   "source": [
    "np."
   ]
  },
  {
   "cell_type": "markdown",
   "metadata": {},
   "source": [
    "### What does our data look like?"
   ]
  },
  {
   "cell_type": "code",
   "execution_count": 5,
   "metadata": {},
   "outputs": [
    {
     "data": {
      "text/plain": [
       "Text(0, 0.5, 'y')"
      ]
     },
     "execution_count": 5,
     "metadata": {},
     "output_type": "execute_result"
    },
    {
     "data": {
      "image/png": "[encoded data removed]",
      "text/plain": [
       "<Figure size 432x288 with 1 Axes>"
      ]
     },
     "metadata": {
      "needs_background": "light"
     },
     "output_type": "display_data"
    }
   ],
   "source": [
    "fig,ax=plt.subplots()\n",
    "ax.scatter(x,y)\n",
    "ax.set_xlabel('x')\n",
    "ax.set_ylabel('y')"
   ]
  },
  {
   "cell_type": "markdown",
   "metadata": {},
   "source": [
    "It is not a perfect line.  So we need to fit a best fit line!"
   ]
  },
  {
   "cell_type": "markdown",
   "metadata": {},
   "source": [
    "### Now we can fit a line!!!!"
   ]
  },
  {
   "cell_type": "markdown",
   "metadata": {},
   "source": [
    "I have now given you all the tools you need to figure out the best fit equation of a line.  Remember the best fit equation of the line is y=mx+b where m is the slope and b is the intercept. We fit 2 points last time which define a line.  When you have many points you have to find the best fit.  We can do that!  To do the fit when you have multiple points you get the equations "
   ]
  },
  {
   "cell_type": "markdown",
   "metadata": {},
   "source": [
    "# $m=\\frac{(n\\Sigma x_i y_i - \\Sigma x_i \\Sigma y_i)}{(n\\Sigma (x_i^2)  - (\\Sigma x_i)^2)}  $\n",
    "\n",
    "# $b=\\frac{\\Sigma(x_i^2) \\Sigma y_i - (\\Sigma x_i y_i)\\Sigma x_i}{n\\Sigma (x_i^2) - (\\Sigma x_i)^2}$\n",
    "\n",
    "remember $x_i$ means for each element in the list of x. \n",
    "\n",
    "so in our case $x_0 = 1, x_1=3, x_2=4,x_3=6$ \n",
    "\n",
    "if we sum up all of one list that is $\\Sigma x_i=1+3+4+6=14$  \n",
    "\n",
    "n is the length of our list\n",
    "\n",
    "Remembr PEMDAS!\n",
    "\n",
    "So lets plot our x and y data, look at it and then fit it.  "
   ]
  },
  {
   "cell_type": "markdown",
   "metadata": {},
   "source": [
    "So go ahead and figure out your m and b and then plot the line on the graph.  "
   ]
  },
  {
   "cell_type": "code",
   "execution_count": 33,
   "metadata": {},
   "outputs": [
    {
     "data": {
      "text/plain": [
       "<matplotlib.text.Text at 0x10bff9290>"
      ]
     },
     "execution_count": 33,
     "metadata": {},
     "output_type": "execute_result"
    },
    {
     "data": {
      "image/png": "[encoded data removed]",
      "text/plain": [
       "<matplotlib.figure.Figure at 0x10bfd4b10>"
      ]
     },
     "metadata": {},
     "output_type": "display_data"
    }
   ],
   "source": []
  },
  {
   "cell_type": "markdown",
   "metadata": {},
   "source": [
    "### Now lets use Python to fit the line. \n",
    "### Two functions\n",
    "### 1.  linregress\n",
    "### 2.  Polyfit (not critical for now)"
   ]
  },
  {
   "cell_type": "markdown",
   "metadata": {},
   "source": [
    "### Linregress (short for linear regression)\n",
    "\n",
    "I like linregress from scipy for my basic line fitting.  the strength it has over polyfit is that it returns a p-value and an r which you can convert into r$^2$ along with the slope and intercept.  Lets learn about it!"
   ]
  },
  {
   "cell_type": "code",
   "execution_count": 12,
   "metadata": {},
   "outputs": [],
   "source": [
    "?stats.linregress"
   ]
  },
  {
   "cell_type": "markdown",
   "metadata": {},
   "source": [
    "The key is we give it an x and y and then it returns:\n",
    "-------\n",
    "slope : float\n",
    "    slope of the regression line\n",
    "    \n",
    "intercept : float\n",
    "    intercept of the regression line\n",
    "\n",
    "r-value : float\n",
    "    correlation coefficient\n",
    "\n",
    "p-value : float\n",
    "    two-sided p-value for a hypothesis test whose null hypothesis is\n",
    "    that the slope is zero.\n",
    "\n",
    "stderr : float\n",
    "    Standard error of the estimate"
   ]
  },
  {
   "cell_type": "markdown",
   "metadata": {},
   "source": [
    "We have talked about this some. But I want to say more explicitly here. In python when you call a function it can return many things. It doesn't have to return one number. It can return an array or multiple values.  For linregress it returns 5 values.  We can names these or put them in an array (I use array and list semi-interchangeably, I apologize and I will try to fix this). **HOW PYTHON CAN RETURN MANY THINGS ON THE LEFT SIDE OF AN EQUAL SIGN IS WEIRD**. Get used to it!"
   ]
  },
  {
   "cell_type": "code",
   "execution_count": 7,
   "metadata": {},
   "outputs": [
    {
     "data": {
      "text/plain": [
       "LinregressResult(slope=0.6153846153846154, intercept=1.3461538461538458, rvalue=0.9922778767136677, pvalue=0.007722123286332257, stderr=0.05439282932204183)"
      ]
     },
     "execution_count": 7,
     "metadata": {},
     "output_type": "execute_result"
    }
   ],
   "source": [
    "stats.linregress(x,y)"
   ]
  },
  {
   "cell_type": "markdown",
   "metadata": {},
   "source": [
    "Why do I like stats.linregress?  Becuase it gives us the r-value (square it and you have the r-squared) and the p-value.   How do these results compare against yours that you calculated?"
   ]
  },
  {
   "cell_type": "markdown",
   "metadata": {},
   "source": [
    "But if you want to use your stats results set it equal to something, it will make a list and then you can access it.  Or you can set each item.  so the two ways are.\n",
    "\n",
    "### First way. Set results equal to a list"
   ]
  },
  {
   "cell_type": "code",
   "execution_count": 8,
   "metadata": {},
   "outputs": [],
   "source": [
    "stats_out=stats.linregress(x,y)"
   ]
  },
  {
   "cell_type": "code",
   "execution_count": 9,
   "metadata": {},
   "outputs": [
    {
     "data": {
      "text/plain": [
       "0.6153846153846154"
      ]
     },
     "execution_count": 9,
     "metadata": {},
     "output_type": "execute_result"
    }
   ],
   "source": [
    "stats_out[0]"
   ]
  },
  {
   "cell_type": "code",
   "execution_count": 10,
   "metadata": {},
   "outputs": [
    {
     "data": {
      "text/plain": [
       "LinregressResult(slope=0.6153846153846154, intercept=1.3461538461538458, rvalue=0.9922778767136677, pvalue=0.007722123286332257, stderr=0.05439282932204183)"
      ]
     },
     "execution_count": 10,
     "metadata": {},
     "output_type": "execute_result"
    }
   ],
   "source": [
    "stats_out"
   ]
  },
  {
   "cell_type": "markdown",
   "metadata": {},
   "source": [
    "I just learned a cool trick that I like.  You can also use dot notation with your linregress output!  This is nice!"
   ]
  },
  {
   "cell_type": "markdown",
   "metadata": {},
   "source": [
    "But now you can use the names to get the results."
   ]
  },
  {
   "cell_type": "code",
   "execution_count": 44,
   "metadata": {},
   "outputs": [
    {
     "name": "stdout",
     "output_type": "stream",
     "text": [
      "0.6153846153846154\n"
     ]
    }
   ],
   "source": [
    "print (stats_out.slope)"
   ]
  },
  {
   "cell_type": "code",
   "execution_count": 45,
   "metadata": {},
   "outputs": [
    {
     "name": "stdout",
     "output_type": "stream",
     "text": [
      "1.3461538461538458\n"
     ]
    }
   ],
   "source": [
    "print (stats_out.intercept)"
   ]
  },
  {
   "cell_type": "markdown",
   "metadata": {},
   "source": [
    "### We can give the output meaningful names!"
   ]
  },
  {
   "cell_type": "code",
   "execution_count": 38,
   "metadata": {},
   "outputs": [],
   "source": [
    "slope, intercept, r_value,p_value,stderr= stats.linregress(x,y)"
   ]
  },
  {
   "cell_type": "code",
   "execution_count": 39,
   "metadata": {},
   "outputs": [
    {
     "data": {
      "text/plain": [
       "0.6153846153846154"
      ]
     },
     "execution_count": 39,
     "metadata": {},
     "output_type": "execute_result"
    }
   ],
   "source": [
    "slope"
   ]
  },
  {
   "cell_type": "code",
   "execution_count": 40,
   "metadata": {},
   "outputs": [
    {
     "data": {
      "text/plain": [
       "1.3461538461538458"
      ]
     },
     "execution_count": 40,
     "metadata": {},
     "output_type": "execute_result"
    }
   ],
   "source": [
    "intercept"
   ]
  },
  {
   "cell_type": "markdown",
   "metadata": {},
   "source": [
    "We can give the output nonsensical names.  Remember we control the computer and we are naming them!"
   ]
  },
  {
   "cell_type": "code",
   "execution_count": 41,
   "metadata": {},
   "outputs": [],
   "source": [
    "phineas, ferb, perry,candace,isabelle= stats.linregress(x,y)"
   ]
  },
  {
   "cell_type": "code",
   "execution_count": 42,
   "metadata": {},
   "outputs": [
    {
     "name": "stdout",
     "output_type": "stream",
     "text": [
      "1.3461538461538458\n"
     ]
    }
   ],
   "source": [
    "print (ferb)"
   ]
  },
  {
   "cell_type": "markdown",
   "metadata": {},
   "source": [
    "so it is up to you on how you want to get to the data from a function like stats.linregress()"
   ]
  },
  {
   "cell_type": "markdown",
   "metadata": {},
   "source": [
    "One thing I have problems with is long lines I want on multiple lines.  For example sometimes I like to define a long string and then use that string as a title.  To have it go over multiple lines you can use brackets.  here is an example of a long string I made for a title.   You can see me accessing the results both ways.  Plus I added a \\n to break lines and python let me break up the code on multiple lines since I was in a parantheses.  Sometimes you can also add a \\ to break the lines to get a line continuation.  see https://stackoverflow.com/questions/4172448/is-it-possible-to-break-a-long-line-to-multiple-lines-in-python"
   ]
  },
  {
   "cell_type": "code",
   "execution_count": 46,
   "metadata": {},
   "outputs": [
    {
     "name": "stdout",
     "output_type": "stream",
     "text": [
      "The best fit line as a slope m=0.615 and intercept b=1.346\n",
      "best fit line linregress slope m=0.615 and intercept b=1.346 \n"
     ]
    }
   ],
   "source": [
    "title=('The best fit line as a slope m={:.3f} and intercept b={:.3f}'\\\n",
    "       .format(stats_out[0],stats_out[1])+\n",
    "       '\\nbest fit line linregress slope m={:.3f} and intercept b={:.3f} '\\\n",
    "       .format(slope,intercept))\n",
    "print (title)\n"
   ]
  },
  {
   "cell_type": "markdown",
   "metadata": {},
   "source": [
    "### Now lets fix up our graph!\n",
    "We can put the title back on.\n"
   ]
  },
  {
   "cell_type": "code",
   "execution_count": 47,
   "metadata": {},
   "outputs": [
    {
     "data": {
      "text/plain": [
       "Text(0.5, 1.0, 'The best fit line as a slope m=0.615 and intercept b=1.346\\nbest fit line linregress slope m=0.615 and intercept b=1.346 ')"
      ]
     },
     "execution_count": 47,
     "metadata": {},
     "output_type": "execute_result"
    },
    {
     "data": {
      "image/png": "[encoded data removed]",
      "text/plain": [
       "<Figure size 432x432 with 1 Axes>"
      ]
     },
     "metadata": {
      "needs_background": "light"
     },
     "output_type": "display_data"
    }
   ],
   "source": [
    "fig,ax=plt.subplots()\n",
    "fig.set_size_inches(6,6)  # I made a square graph\n",
    "ax.scatter(x,y)\n",
    "\n",
    "#find the stats\n",
    "\n",
    "#plot the best fit line\n",
    "x_fit=np.linspace(np.min(x),np.max(x))\n",
    "ax.plot(x_fit,x_fit*stats_out[0]+stats_out[1])\n",
    "\n",
    "ax.set_xlabel('x')\n",
    "ax.set_ylabel('y')\n",
    "title=('The best fit line as a slope m={:.3f} and intercept b={:.3f}'\\\n",
    "       .format(stats_out[0],stats_out[1])+\n",
    "       '\\nbest fit line linregress slope m={:.3f} and intercept b={:.3f} '\\\n",
    "       .format(slope,intercept))\n",
    "ax.set_title(title)"
   ]
  },
  {
   "cell_type": "markdown",
   "metadata": {},
   "source": [
    "#### But I think adding a textbox to the graph makes it look more professional\n",
    "\n",
    "Sometimes when making a graph, instead of putting in a title it looks better to put in a text box with just the details.  It is a three step process to make a nice box. Scroll down this link and you can see where I got the recipe from. http://matplotlib.org/users/recipes.html  It is at the bottom where it says Placing Text Boxes\n",
    "\n",
    "1.  First you define the box by making a dictionary of the box properties.  We ususally call it props for the properties of the box.\n",
    "\n",
    "2.  Then you make the text string you want in the box.  for a linear equation you usually want slope, interecept, r$^2$, and p-value\n",
    "\n",
    "3.  You then say where you want the information.  This is within the ax properties since we will put it into the graph.  You tell it the relative location, Then you give it the text, somemore information, and then the props\n",
    "\n",
    "4.  Also add the linregress to this cell to do everything in one place to make it clean"
   ]
  },
  {
   "cell_type": "code",
   "execution_count": 49,
   "metadata": {},
   "outputs": [
    {
     "data": {
      "text/plain": [
       "Text(0.05, 0.95, 'm=0.615\\nb=1.346\\n$r^2$=0.985\\np=0.008')"
      ]
     },
     "execution_count": 49,
     "metadata": {},
     "output_type": "execute_result"
    },
    {
     "data": {
      "image/png": "[encoded data removed]",
      "text/plain": [
       "<Figure size 432x432 with 1 Axes>"
      ]
     },
     "metadata": {
      "needs_background": "light"
     },
     "output_type": "display_data"
    }
   ],
   "source": [
    "fig,ax=plt.subplots()\n",
    "fig.set_size_inches(6,6)  # I made a square graph\n",
    "ax.scatter(x,y)\n",
    "\n",
    "#Stats on the data\n",
    "slope, intercept, r_value,p_value,stderr= stats.linregress(x,y)\n",
    "\n",
    "#plot the best fit line\n",
    "x_fit=np.linspace(np.min(x),np.max(x))\n",
    "ax.plot(x_fit,x_fit*stats_out[0]+stats_out[1])\n",
    "\n",
    "ax.set_xlabel('x')\n",
    "ax.set_ylabel('y')\n",
    "\n",
    "# This is the code I added to get the box below with the normal graphing\n",
    "props=dict(boxstyle='round',facecolor='wheat',alpha=0.5)\n",
    "\n",
    "textstr='m={:.3f}\\nb={:.3f}\\n$r^2$={:.3f}\\np={:.3f}'\\\n",
    "        .format(slope,intercept,r_value**2, p_value)\n",
    "ax.text(0.05,0.95,textstr,transform=ax.transAxes\\\n",
    "        ,fontsize=10,verticalalignment='top',bbox=props)"
   ]
  },
  {
   "cell_type": "code",
   "execution_count": null,
   "metadata": {},
   "outputs": [],
   "source": []
  },
  {
   "cell_type": "markdown",
   "metadata": {},
   "source": [
    "## Class Assignment\n",
    "### Fit a line to the KNYC and KLGA data and plot it\n",
    "Now can you go back and get the KNYC and KLGA weather data and see if they are correlated?  I would use your program and then compare to linregress.  Remember to use np.array([]) to enter the data as a numpy array.  Also remember you need at least one float in your list to make it all floats.  I like the second graph with the box!"
   ]
  },
  {
   "cell_type": "code",
   "execution_count": 3,
   "metadata": {},
   "outputs": [
    {
     "data": {
      "text/plain": [
       "<matplotlib.text.Text at 0x15614fd0>"
      ]
     },
     "execution_count": 3,
     "metadata": {},
     "output_type": "execute_result"
    },
    {
     "data": {
      "image/png": "[encoded data removed]",
      "text/plain": [
       "<matplotlib.figure.Figure at 0x155882b0>"
      ]
     },
     "metadata": {},
     "output_type": "display_data"
    }
   ],
   "source": []
  },
  {
   "cell_type": "code",
   "execution_count": 29,
   "metadata": {},
   "outputs": [
    {
     "data": {
      "text/plain": [
       "<matplotlib.text.Text at 0x9d05cf8>"
      ]
     },
     "execution_count": 29,
     "metadata": {},
     "output_type": "execute_result"
    },
    {
     "data": {
      "image/png": "[encoded data removed]",
      "text/plain": [
       "<matplotlib.figure.Figure at 0xa364dd8>"
      ]
     },
     "metadata": {},
     "output_type": "display_data"
    }
   ],
   "source": []
  },
  {
   "cell_type": "markdown",
   "metadata": {},
   "source": [
    "## This is Bonus material to help you understand p-values.  If you have time left after linregress keep going with this.   But not on HW.\n",
    "\n",
    "## What is a p-value?\n",
    "Statisticians argue about p-values and what they exactly mean.  We are going to do an exercise to help you understand.\n",
    "\n",
    "In my simplistic world I think of a p-value as the chance of the result happening by chance.\n",
    "\n",
    "a p-value of 0.05 means that result could happen by chance 5% of the time.  It sort of but not quite means that the result is real 95% of the time.  \n",
    "\n",
    "a p-value of 0.01 means that result could happen by chance 1% of the time.  It sort of but not quite means that the result is real 99% of the time.   \n",
    "\n",
    "you usually see people writing p<0.05 when they want to show the relationship is siginificant.  We say it is significant because only 5% of the time it happens randomly.\n",
    "\n",
    "This means if we randomly create data.  5% of the time we would get a p-value<0.05.  95% of the time our results would look like junk.  so lets do it!"
   ]
  },
  {
   "cell_type": "markdown",
   "metadata": {},
   "source": [
    "Use the nump function random to get random numbers from 0 to 1.  it is np.random.random(size) and you give how many. lets do 50.  "
   ]
  },
  {
   "cell_type": "code",
   "execution_count": 23,
   "metadata": {},
   "outputs": [
    {
     "data": {
      "text/plain": [
       "array([0.25275895, 0.03305665, 0.94104781, 0.6722305 , 0.23773632,\n",
       "       0.93851915, 0.12961236, 0.10201882, 0.48071812, 0.49040787,\n",
       "       0.75001889, 0.92054346, 0.93788928, 0.70639629, 0.02906303,\n",
       "       0.70715162, 0.55801932, 0.75910762, 0.19028569, 0.03269578,\n",
       "       0.13596112, 0.72398551, 0.65856306, 0.24053408, 0.81387377,\n",
       "       0.60808716, 0.73752055, 0.79190437, 0.00365806, 0.93270819,\n",
       "       0.12394915, 0.81827269, 0.61999088, 0.32774057, 0.87897003,\n",
       "       0.12372507, 0.91374782, 0.93088581, 0.87484   , 0.4256022 ,\n",
       "       0.27847397, 0.15926549, 0.26533697, 0.89631707, 0.98672037,\n",
       "       0.69397302, 0.13111585, 0.33728261, 0.02734482, 0.05421295])"
      ]
     },
     "execution_count": 23,
     "metadata": {},
     "output_type": "execute_result"
    }
   ],
   "source": [
    "np.random.random(50)"
   ]
  },
  {
   "cell_type": "markdown",
   "metadata": {},
   "source": [
    "Now make your x and y data each with 50 numbers"
   ]
  },
  {
   "cell_type": "code",
   "execution_count": 24,
   "metadata": {},
   "outputs": [],
   "source": [
    "x=np.random.random(50)\n",
    "y=np.random.random(50)"
   ]
  },
  {
   "cell_type": "markdown",
   "metadata": {},
   "source": [
    "Now plot the data.  Every time you run it your data will change.  Run it a few times and see if the points move around!"
   ]
  },
  {
   "cell_type": "code",
   "execution_count": 26,
   "metadata": {},
   "outputs": [
    {
     "data": {
      "image/png": "[encoded data removed]",
      "text/plain": [
       "<Figure size 432x432 with 1 Axes>"
      ]
     },
     "metadata": {
      "needs_background": "light"
     },
     "output_type": "display_data"
    }
   ],
   "source": [
    "x=np.random.random(50)\n",
    "y=np.random.random(50)\n",
    "\n",
    "fig,ax=plt.subplots()\n",
    "fig.set_size_inches(6,6)  # I made a square graph\n",
    "ax.scatter(x,y)\n",
    "\n",
    "slope, intercept, r_value,p_value,stderr= stats.linregress(x,y)"
   ]
  },
  {
   "cell_type": "markdown",
   "metadata": {},
   "source": [
    "Now add the best fit line"
   ]
  },
  {
   "cell_type": "code",
   "execution_count": 52,
   "metadata": {},
   "outputs": [
    {
     "data": {
      "text/plain": [
       "Text(0.05, 0.95, 'm=0.173\\nb=0.465\\n$r^2$=0.029\\np=0.234')"
      ]
     },
     "execution_count": 52,
     "metadata": {},
     "output_type": "execute_result"
    },
    {
     "data": {
      "image/png": "[encoded data removed]",
      "text/plain": [
       "<Figure size 432x432 with 1 Axes>"
      ]
     },
     "metadata": {
      "needs_background": "light"
     },
     "output_type": "display_data"
    }
   ],
   "source": [
    "x=np.random.random(50)\n",
    "y=np.random.random(50)\n",
    "\n",
    "fig,ax=plt.subplots()\n",
    "fig.set_size_inches(6,6)  # I made a square graph\n",
    "ax.scatter(x,y)\n",
    "\n",
    "#calculate the best fit line\n",
    "slope, intercept, r_value,p_value,stderr= stats.linregress(x,y)\n",
    "\n",
    "#plot the best fit line\n",
    "x_fit=np.linspace(np.min(x),np.max(x))\n",
    "ax.plot(x_fit,x_fit*slope+intercept)\n",
    "\n",
    "ax.set_xlabel('x')\n",
    "ax.set_ylabel('y')\n",
    "\n",
    "# This is the code I added to get the box below with the normal graphing\n",
    "props=dict(boxstyle='round',facecolor='wheat',alpha=0.5)\n",
    "textstr='m={:.3f}\\nb={:.3f}\\n$r^2$={:.3f}\\np={:.3f}'\\\n",
    "        .format(slope,intercept,r_value**2,p_value)\n",
    "ax.text(0.05,0.95,textstr,transform=ax.transAxes\\\n",
    "        ,fontsize=10,verticalalignment='top',bbox=props)"
   ]
  },
  {
   "cell_type": "markdown",
   "metadata": {},
   "source": [
    "Now rerun the cell and count how many times it takes you to get a p-value less than 0.05.  Then share with your breakout rooms  It took me 27."
   ]
  },
  {
   "cell_type": "markdown",
   "metadata": {},
   "source": [
    "Now lets make the computer work for us.  Think about this.  We can ask the computer to make the graph above 1000 times.  Then we can ask how many times we got a p-value less than 0.05.  If it is random our answer should come about near but probably not exactly 50.  \n",
    "\n",
    "Now lets get rid of the graph and run the regression 1000 times and count how many times we get a significant result"
   ]
  },
  {
   "cell_type": "code",
   "execution_count": 2,
   "metadata": {},
   "outputs": [
    {
     "name": "stdout",
     "output_type": "stream",
     "text": [
      "Loop Number 5 with a p_value of 0.0020893363063933723\n",
      "Loop Number 34 with a p_value of 0.032328839063339276\n",
      "Loop Number 37 with a p_value of 0.031918990019030875\n",
      "Loop Number 44 with a p_value of 0.04149883722011727\n",
      "Loop Number 88 with a p_value of 0.029077609957245145\n",
      "Loop Number 113 with a p_value of 0.028280925002720416\n",
      "Loop Number 148 with a p_value of 0.026359848790453482\n",
      "Loop Number 161 with a p_value of 0.04761320046461643\n",
      "Loop Number 200 with a p_value of 0.02092429442588252\n",
      "Loop Number 232 with a p_value of 0.003942787475875814\n",
      "Loop Number 245 with a p_value of 0.017140372725697416\n",
      "Loop Number 278 with a p_value of 0.03806704023406989\n",
      "Loop Number 288 with a p_value of 0.03387504955197635\n",
      "Loop Number 305 with a p_value of 0.01773746174587094\n",
      "Loop Number 315 with a p_value of 0.045512391783480904\n",
      "Loop Number 326 with a p_value of 0.0008239029473422647\n",
      "Loop Number 340 with a p_value of 0.02422983146755901\n",
      "Loop Number 366 with a p_value of 0.012904399570162494\n",
      "Loop Number 380 with a p_value of 0.013824580878377525\n",
      "Loop Number 396 with a p_value of 0.016029887998137485\n",
      "Loop Number 440 with a p_value of 0.019847292461439247\n",
      "Loop Number 472 with a p_value of 0.04683369590447994\n",
      "Loop Number 482 with a p_value of 0.03372932604942381\n",
      "Loop Number 486 with a p_value of 0.00754118266902817\n",
      "Loop Number 518 with a p_value of 0.013360576805249708\n",
      "Loop Number 536 with a p_value of 0.006479290171271745\n",
      "Loop Number 546 with a p_value of 0.03881887049848885\n",
      "Loop Number 575 with a p_value of 0.01880544077201867\n",
      "Loop Number 644 with a p_value of 0.009885177338994421\n",
      "Loop Number 660 with a p_value of 0.02025698414790276\n",
      "Loop Number 680 with a p_value of 0.0433082165321186\n",
      "Loop Number 688 with a p_value of 0.019246756636728177\n",
      "Loop Number 737 with a p_value of 0.011546867981978865\n",
      "Loop Number 775 with a p_value of 0.04364467720881328\n",
      "Loop Number 784 with a p_value of 0.03270917833280741\n",
      "Loop Number 807 with a p_value of 0.0335512308222035\n",
      "Loop Number 828 with a p_value of 0.03971903323822065\n",
      "Loop Number 867 with a p_value of 0.049020770350411025\n",
      "Loop Number 878 with a p_value of 0.044878574012415726\n",
      "Loop Number 982 with a p_value of 0.001714273416023014\n",
      "I ran the for loop 1000 times and the p_value was less than 0.05 40 times\n"
     ]
    }
   ],
   "source": [
    "num_sig=0\n",
    "\n",
    "for i in np.arange(1000):\n",
    "    x=np.random.random(50)\n",
    "    y=np.random.random(50)\n",
    "\n",
    "    #calculate the best fit line\n",
    "    slope, intercept, r_value,p_value,stderr= stats.linregress(x,y)\n",
    "    if p_value<0.05:\n",
    "        num_sig+=1\n",
    "        print('Loop Number {} with a p_value of {}'.format(i,p_value))\n",
    "\n",
    "print('I ran the for loop 1000 times and the \\\n",
    "p_value was less than 0.05 {} times'.format(num_sig))\n"
   ]
  },
  {
   "cell_type": "markdown",
   "metadata": {},
   "source": [
    "So hopefully this helps you with a p-values.  the p-value tells you how often the result may happen randomly.  So the lower the p-value the lower the probability of the result happening randomly.  Therefore you can \"trust\" the result more.  But really you report the p-value so people know how you are making your choice on the significance of the results.  A lot of methods report a p-value so you will be seeing this!"
   ]
  },
  {
   "cell_type": "code",
   "execution_count": null,
   "metadata": {},
   "outputs": [],
   "source": []
  },
  {
   "cell_type": "code",
   "execution_count": null,
   "metadata": {},
   "outputs": [],
   "source": []
  },
  {
   "cell_type": "code",
   "execution_count": null,
   "metadata": {
    "collapsed": true
   },
   "outputs": [],
   "source": []
  }
 ],
 "metadata": {
  "kernelspec": {
   "display_name": "Python 3",
   "language": "python",
   "name": "python3"
  },
  "language_info": {
   "codemirror_mode": {
    "name": "ipython",
    "version": 3
   },
   "file_extension": ".py",
   "mimetype": "text/x-python",
   "name": "python",
   "nbconvert_exporter": "python",
   "pygments_lexer": "ipython3",
   "version": "3.8.5"
  }
 },
 "nbformat": 4,
 "nbformat_minor": 1
}
