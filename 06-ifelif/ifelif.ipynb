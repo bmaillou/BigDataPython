{
 "cells": [
  {
   "cell_type": "markdown",
   "metadata": {},
   "source": [
    "# If  elif  else"
   ]
  },
  {
   "cell_type": "markdown",
   "metadata": {},
   "source": [
    "### Today we will learn about using if statements to control code and what boolean is.  "
   ]
  },
  {
   "cell_type": "markdown",
   "metadata": {},
   "source": [
    "A boolean tells if something is true or false.  True is usually set to 1 and False to 0.\n",
    "lets try a few things.\n",
    "\n",
    "A double equal sign in Python says it is testing for truth or is a boolean"
   ]
  },
  {
   "cell_type": "code",
   "execution_count": 1,
   "metadata": {},
   "outputs": [],
   "source": [
    "%matplotlib inline\n",
    "import numpy as np\n",
    "import matplotlib.pyplot as plt"
   ]
  },
  {
   "cell_type": "code",
   "execution_count": 2,
   "metadata": {},
   "outputs": [
    {
     "data": {
      "text/plain": [
       "True"
      ]
     },
     "execution_count": 2,
     "metadata": {},
     "output_type": "execute_result"
    }
   ],
   "source": [
    "a=1\n",
    "b=1\n",
    "a==b"
   ]
  },
  {
   "cell_type": "code",
   "execution_count": 3,
   "metadata": {},
   "outputs": [
    {
     "data": {
      "text/plain": [
       "False"
      ]
     },
     "execution_count": 3,
     "metadata": {},
     "output_type": "execute_result"
    }
   ],
   "source": [
    "a=1\n",
    "b=2\n",
    "a==b"
   ]
  },
  {
   "cell_type": "markdown",
   "metadata": {},
   "source": [
    "I just set a and b then asked the computer to tell me if they were equal. That is the double equal signs.  Now we need to add \"and\" and \"or\".   \"and\" requires both things to be true.  \"or\" only requires 1.  Go through all the next code.  Guess the answer.  Uncomment the code.  Run it and see if you are correct.  "
   ]
  },
  {
   "cell_type": "code",
   "execution_count": 5,
   "metadata": {},
   "outputs": [],
   "source": [
    "#a==1 and b==2\n"
   ]
  },
  {
   "cell_type": "code",
   "execution_count": 65,
   "metadata": {},
   "outputs": [],
   "source": [
    "#a==1 and b==1"
   ]
  },
  {
   "cell_type": "code",
   "execution_count": 66,
   "metadata": {},
   "outputs": [],
   "source": [
    "#a==1 or b==1"
   ]
  },
  {
   "cell_type": "code",
   "execution_count": 7,
   "metadata": {},
   "outputs": [],
   "source": [
    "#a==2 or b==1"
   ]
  },
  {
   "cell_type": "markdown",
   "metadata": {},
   "source": [
    "You can also use not to say the opposite... Again try to guess then uncomment the code and see if you get it correct.  write down your guess first!"
   ]
  },
  {
   "cell_type": "code",
   "execution_count": 5,
   "metadata": {},
   "outputs": [],
   "source": [
    "#a==1 and not b==1"
   ]
  },
  {
   "cell_type": "code",
   "execution_count": 7,
   "metadata": {},
   "outputs": [],
   "source": [
    "#not a==2 or b==1"
   ]
  },
  {
   "cell_type": "code",
   "execution_count": 9,
   "metadata": {},
   "outputs": [],
   "source": [
    "#not (a==1 or b==1)"
   ]
  },
  {
   "cell_type": "markdown",
   "metadata": {},
   "source": [
    "You have more options\n",
    "\n",
    "==  Checks if equal\n",
    "\n",
    "!= checks if not equal\n",
    "\n",
    "<> checks if not equal(this is phased out and will give an error)\n",
    "\n",
    "\\> checks if greater than\n",
    "\n",
    "< checks if less than\n",
    "\n",
    "\\>= checks if greater than or equal\n",
    "\n",
    "<= checks if less than or equal\n"
   ]
  },
  {
   "cell_type": "markdown",
   "metadata": {},
   "source": [
    "Again try to guess the answer then go through and check!"
   ]
  },
  {
   "cell_type": "code",
   "execution_count": 9,
   "metadata": {},
   "outputs": [],
   "source": [
    "#a>b"
   ]
  },
  {
   "cell_type": "code",
   "execution_count": 17,
   "metadata": {},
   "outputs": [],
   "source": [
    "#a<b"
   ]
  },
  {
   "cell_type": "code",
   "execution_count": 11,
   "metadata": {},
   "outputs": [],
   "source": [
    "#a!=b"
   ]
  },
  {
   "cell_type": "code",
   "execution_count": 13,
   "metadata": {},
   "outputs": [],
   "source": [
    "#a<>b"
   ]
  },
  {
   "cell_type": "code",
   "execution_count": 23,
   "metadata": {},
   "outputs": [],
   "source": [
    "#a not = b"
   ]
  },
  {
   "cell_type": "code",
   "execution_count": 15,
   "metadata": {},
   "outputs": [],
   "source": [
    "#(a==b) or (a!=b)"
   ]
  },
  {
   "cell_type": "code",
   "execution_count": 17,
   "metadata": {},
   "outputs": [],
   "source": [
    "#not ((a==b) or not (a!=b))"
   ]
  },
  {
   "cell_type": "markdown",
   "metadata": {},
   "source": [
    "# Now you should be a boolean expert!!!!  remember for long statements do the parentheses first."
   ]
  },
  {
   "cell_type": "markdown",
   "metadata": {},
   "source": [
    "Now lets try an if statement"
   ]
  },
  {
   "cell_type": "code",
   "execution_count": 4,
   "metadata": {},
   "outputs": [
    {
     "name": "stdout",
     "output_type": "stream",
     "text": [
      "We did our first if statement\n"
     ]
    }
   ],
   "source": [
    "if a==1:\n",
    "    print( 'We did our first if statement')"
   ]
  },
  {
   "cell_type": "markdown",
   "metadata": {},
   "source": [
    "### Some common errors!!!"
   ]
  },
  {
   "cell_type": "code",
   "execution_count": 30,
   "metadata": {},
   "outputs": [
    {
     "ename": "SyntaxError",
     "evalue": "invalid syntax (<ipython-input-30-e2f1909dd034>, line 1)",
     "output_type": "error",
     "traceback": [
      "\u001b[1;36m  File \u001b[1;32m\"<ipython-input-30-e2f1909dd034>\"\u001b[1;36m, line \u001b[1;32m1\u001b[0m\n\u001b[1;33m    If a==1:   #it is lower case if!\u001b[0m\n\u001b[1;37m       ^\u001b[0m\n\u001b[1;31mSyntaxError\u001b[0m\u001b[1;31m:\u001b[0m invalid syntax\n"
     ]
    }
   ],
   "source": [
    "If a==1:   #it is lower case if!"
   ]
  },
  {
   "cell_type": "code",
   "execution_count": 31,
   "metadata": {},
   "outputs": [
    {
     "ename": "SyntaxError",
     "evalue": "invalid syntax (<ipython-input-31-1b63acf50ef8>, line 1)",
     "output_type": "error",
     "traceback": [
      "\u001b[1;36m  File \u001b[1;32m\"<ipython-input-31-1b63acf50ef8>\"\u001b[1;36m, line \u001b[1;32m1\u001b[0m\n\u001b[1;33m    if a=1:  # you need the double ==, remember boolean!\u001b[0m\n\u001b[1;37m        ^\u001b[0m\n\u001b[1;31mSyntaxError\u001b[0m\u001b[1;31m:\u001b[0m invalid syntax\n"
     ]
    }
   ],
   "source": [
    "if a=1:  # you need the double ==, remember boolean!"
   ]
  },
  {
   "cell_type": "code",
   "execution_count": 32,
   "metadata": {},
   "outputs": [
    {
     "ename": "SyntaxError",
     "evalue": "invalid syntax (<ipython-input-32-009cff4d6cc8>, line 1)",
     "output_type": "error",
     "traceback": [
      "\u001b[1;36m  File \u001b[1;32m\"<ipython-input-32-009cff4d6cc8>\"\u001b[1;36m, line \u001b[1;32m1\u001b[0m\n\u001b[1;33m    if a==1  #you need the :\u001b[0m\n\u001b[1;37m                            ^\u001b[0m\n\u001b[1;31mSyntaxError\u001b[0m\u001b[1;31m:\u001b[0m invalid syntax\n"
     ]
    }
   ],
   "source": [
    "if a==1  #you need the :"
   ]
  },
  {
   "cell_type": "markdown",
   "metadata": {},
   "source": [
    "### now we can make the statement more complicated"
   ]
  },
  {
   "cell_type": "code",
   "execution_count": 5,
   "metadata": {},
   "outputs": [
    {
     "name": "stdout",
     "output_type": "stream",
     "text": [
      "my second if\n"
     ]
    }
   ],
   "source": [
    "if a==1 and b==2:\n",
    "    print ('my second if')"
   ]
  },
  {
   "cell_type": "markdown",
   "metadata": {},
   "source": [
    "But what if you want multiple options?  You use elif"
   ]
  },
  {
   "cell_type": "code",
   "execution_count": 35,
   "metadata": {},
   "outputs": [
    {
     "name": "stdout",
     "output_type": "stream",
     "text": [
      "oh no a=2\n"
     ]
    }
   ],
   "source": [
    "a=2\n",
    "if a==1:\n",
    "    print ('Yeah a=1')\n",
    "elif a==2:\n",
    "    print ('oh no a=2')"
   ]
  },
  {
   "cell_type": "markdown",
   "metadata": {},
   "source": [
    "What if you only want to know if it is different?"
   ]
  },
  {
   "cell_type": "code",
   "execution_count": 37,
   "metadata": {},
   "outputs": [
    {
     "name": "stdout",
     "output_type": "stream",
     "text": [
      "wow a 3, do we really know it is 3?\n"
     ]
    }
   ],
   "source": [
    "a=3\n",
    "if a==1:\n",
    "    print ('Yeah a=1')\n",
    "elif a==2:\n",
    "    print ('oh no a=2')\n",
    "else:\n",
    "    print ('wow a 3, do we really know it is 3?')"
   ]
  },
  {
   "cell_type": "markdown",
   "metadata": {},
   "source": [
    "Remember the else means it could be anything else!"
   ]
  },
  {
   "cell_type": "code",
   "execution_count": 38,
   "metadata": {},
   "outputs": [
    {
     "name": "stdout",
     "output_type": "stream",
     "text": [
      "wow a 3, do we really know it is 3?\n"
     ]
    }
   ],
   "source": [
    "a=3000\n",
    "if a==1:\n",
    "    print ('Yeah a=1')\n",
    "elif a==2:\n",
    "    print ('oh no a=2')\n",
    "else:\n",
    "    print ('wow a 3, do we really know it is 3?')"
   ]
  },
  {
   "cell_type": "markdown",
   "metadata": {},
   "source": [
    "## Now lets use input\n",
    "input takes any input and lets you use it.  We are going to assume people enter correctly and do this simply.  We will not do any error checking. So first lets get a number with input, then print it. \n",
    "\n",
    "input sometimes crashes and is a little buggy.  But it is good for learning if statements.  \n",
    "\n",
    "if you computer becomes stuck you will see the circle next to Python3 on the top right stay filled.  "
   ]
  },
  {
   "cell_type": "code",
   "execution_count": 6,
   "metadata": {},
   "outputs": [
    {
     "name": "stdout",
     "output_type": "stream",
     "text": [
      "Please enter an integer from 1 to 31\n",
      "The input was 1\n"
     ]
    }
   ],
   "source": [
    "a=input(\"Please enter an integer from 1 to 3\")\n",
    "print ('The input was {}'.format(a))"
   ]
  },
  {
   "cell_type": "markdown",
   "metadata": {},
   "source": [
    " Now go back up to that cell and type a letter.  See what happens? Nothing it gives you a letter. Lets see what the type is we get from input."
   ]
  },
  {
   "cell_type": "code",
   "execution_count": 8,
   "metadata": {},
   "outputs": [
    {
     "name": "stdout",
     "output_type": "stream",
     "text": [
      "Please enter an integer from 1 to 3b\n",
      "The input was b\n",
      "<class 'str'>\n"
     ]
    }
   ],
   "source": [
    "a=input(\"Please enter an integer from 1 to 3\")\n",
    "print ('The input was {}'.format(a))\n",
    "print( type(a))"
   ]
  },
  {
   "cell_type": "markdown",
   "metadata": {},
   "source": [
    " Try entering a few things above.  See what happens to type?  try an integer and a float. So we will cast the input to an integer.  But that will cause the program to crash if entered wrong.  Sometime in the future we may do error catching but for now let's assume people enter perfectly.  So cast is an in int and now try an integer,float, and string.\n"
   ]
  },
  {
   "cell_type": "code",
   "execution_count": 24,
   "metadata": {},
   "outputs": [
    {
     "name": "stdout",
     "output_type": "stream",
     "text": [
      "Please enter an integer from 1 to 32\n",
      "The input was 2\n",
      "<class 'int'>\n"
     ]
    }
   ],
   "source": [
    "a=int(input(\"Please enter an integer from 1 to 3\"))\n",
    "print ('The input was {}'.format(a))\n",
    "print( type(a))"
   ]
  },
  {
   "cell_type": "markdown",
   "metadata": {},
   "source": [
    "Now for fun we can combine our input and if statements!"
   ]
  },
  {
   "cell_type": "code",
   "execution_count": 25,
   "metadata": {},
   "outputs": [
    {
     "name": "stdout",
     "output_type": "stream",
     "text": [
      "Please enter an integer from 1 to 32\n",
      "oh no a=2\n"
     ]
    }
   ],
   "source": [
    "a=int(input(\"Please enter an integer from 1 to 3\"))\n",
    "if a==1:\n",
    "    print ('Yeah a=1')\n",
    "elif a==2:\n",
    "    print ('oh no a=2')\n",
    "elif a==3:\n",
    "    print ('a 3!')\n",
    "else:\n",
    "    print ('something else?')"
   ]
  },
  {
   "cell_type": "markdown",
   "metadata": {},
   "source": [
    "### In coding I don't use input that often.  But they can be nice.  It can be buggy but I thought it was fun here.\n",
    "\n",
    "If things stop working you might need to restart your kernal.  This happens often with input.  "
   ]
  },
  {
   "cell_type": "markdown",
   "metadata": {},
   "source": [
    "## Let's put for loops and if statements together.  \n",
    "*  make a for loop with arange from 0-10.  \n",
    "*  print out only when the loop is at 5."
   ]
  },
  {
   "cell_type": "code",
   "execution_count": 26,
   "metadata": {},
   "outputs": [
    {
     "name": "stdout",
     "output_type": "stream",
     "text": [
      "Wow i=5\n"
     ]
    }
   ],
   "source": [
    "for i in np.arange(11):\n",
    "    if i==5:\n",
    "        print ('Wow i={}'.format(i))"
   ]
  },
  {
   "cell_type": "markdown",
   "metadata": {},
   "source": [
    "Lets make it trickier!\n",
    "*  Using mod print if divisible by 2\n",
    "*  Using mod print if divisible by 5\n",
    "*  Else print not divisible by 2 or 5"
   ]
  },
  {
   "cell_type": "code",
   "execution_count": 67,
   "metadata": {},
   "outputs": [
    {
     "name": "stdout",
     "output_type": "stream",
     "text": [
      "Wow i=0 and is divisible by 2\n",
      "Wow i=1 and is not divisible by 2 or 5\n",
      "Wow i=2 and is divisible by 2\n",
      "Wow i=3 and is not divisible by 2 or 5\n",
      "Wow i=4 and is divisible by 2\n",
      "Wow i=5 and is divisible by 5\n",
      "Wow i=6 and is divisible by 2\n",
      "Wow i=7 and is not divisible by 2 or 5\n",
      "Wow i=8 and is divisible by 2\n",
      "Wow i=9 and is not divisible by 2 or 5\n",
      "Wow i=10 and is divisible by 2\n"
     ]
    }
   ],
   "source": [
    "for i in np.arange(11):\n",
    "    if i%2==0:\n",
    "        print ('Wow i={} and is divisible by 2'.format(i))\n",
    "    elif i%5==0:\n",
    "        print ('Wow i={} and is divisible by 5'.format(i) )\n",
    "    else:\n",
    "        print ('Wow i={} and is not divisible by 2 or 5'.format(i) )"
   ]
  },
  {
   "cell_type": "markdown",
   "metadata": {},
   "source": [
    "## I made two classic mistakes!\n",
    "*  can you make it go from 1-10 so we don't have to worry about 0?\n",
    "*  can you change the if statements to say if divisible by both 2 and 5?\n",
    "*  the not quite correct answer is below!"
   ]
  },
  {
   "cell_type": "code",
   "execution_count": 18,
   "metadata": {},
   "outputs": [
    {
     "name": "stdout",
     "output_type": "stream",
     "text": [
      "Wow i=0 and is divisible by both 2 and 5\n",
      "Wow i=1 and is not divisible by 2 or 5\n",
      "Wow i=2 and is divisible by 2\n",
      "Wow i=3 and is not divisible by 2 or 5\n",
      "Wow i=4 and is divisible by 2\n",
      "Wow i=5 and is divisible by 5\n",
      "Wow i=6 and is divisible by 2\n",
      "Wow i=7 and is not divisible by 2 or 5\n",
      "Wow i=8 and is divisible by 2\n",
      "Wow i=9 and is not divisible by 2 or 5\n",
      "Wow i=10 and is divisible by both 2 and 5\n"
     ]
    }
   ],
   "source": []
  },
  {
   "cell_type": "markdown",
   "metadata": {},
   "source": [
    "# Plot Recent Temperature Data!"
   ]
  },
  {
   "cell_type": "markdown",
   "metadata": {},
   "source": [
    "This is a long assignment but is interesting.  I went to weather underground and got the high temperatures from Laguardia (Staion id KLGA) and Montauk (station id KNYMONTA39) for the first seven days of January.  They are listed below.  We want to use input and if statements to ask the user what data they want plotted.  We could plot \n",
    "\n",
    "1.  Laguardia (KLGA) Temperature versus day in January.\n",
    "2.  Montauk (MONT) Temperature versus day in January.\n",
    "3.  Both KLGA and MONT Temperature versus day in January.\n",
    "4.  KLGA versus MONT to see if they are correlated.  \n",
    "\n",
    "The high temperatures in January at Montauk and Laguardia are \n",
    "\n",
    "|Day |  KLGA|  Montauk|\n",
    "|----|------|-------|\n",
    "|1|      52|    53|\n",
    "|2|      43|    44|\n",
    "|3|      39|    40|\n",
    "|4|      34|    37| \n",
    "|5|      33|    36|\n",
    "|6|      31|    30|\n",
    "|7|      34|    32|\n",
    "\n",
    "\n",
    "\n",
    "You can go look at my answer and see what I did but you have to do your own.  Here is how I would attack it.\n",
    "\n",
    "1.  I would make my array of temperatures.  Remember np.array([])?\n",
    "1.  MAKE SURE to add a decimal place to one of your temperatures to make them all floats as good practice for doing math. This will come back and bite you! (Python 3 has fixed this bug but I still add decimals!)\n",
    "2.  I would then use print statements to describe what you are doing and what should be inputted for choices.\n",
    "3.  Then use input to get the number input.  \n",
    "3.  I would add the if statements with the plotting in each if statement.  You are going to need to also use elif and else.  \n",
    "4.  I would make sure to label my graphs well.  \n",
    "5.  I would remember how we have done plots in the past.  what do we need to import?  Our lists start at 0.  How do we do the x-axis?  Do we need a legend on the one with two lines?\n",
    "6.  For comparing LGA and Montauk you will see that you don't want a line.  I would do ax.scatter() \n",
    "7.  Work with your neighbor if you get stuck! \n",
    "8.  You can see what my graphs look like below for each of the 4 options"
   ]
  },
  {
   "cell_type": "code",
   "execution_count": 8,
   "metadata": {},
   "outputs": [],
   "source": [
    "#Put in your program here"
   ]
  },
  {
   "cell_type": "markdown",
   "metadata": {},
   "source": []
  },
  {
   "cell_type": "code",
   "execution_count": null,
   "metadata": {},
   "outputs": [],
   "source": []
  },
  {
   "cell_type": "markdown",
   "metadata": {},
   "source": [
    "## Option 1"
   ]
  },
  {
   "cell_type": "code",
   "execution_count": 6,
   "metadata": {},
   "outputs": [
    {
     "name": "stdout",
     "output_type": "stream",
     "text": [
      "We are going to print Recent Temperature Data!\n",
      "For LaGuardia type 1\n",
      "For Montauk type 2\n",
      "For both on one plot type 3\n",
      "For a plot of LaGuardia versus LaGuardia type 4\n",
      "Please enter your number.....1\n"
     ]
    },
    {
     "data": {
      "image/png": "[encoded data removed]",
      "text/plain": [
       "<Figure size 432x288 with 1 Axes>"
      ]
     },
     "metadata": {
      "needs_background": "light"
     },
     "output_type": "display_data"
    }
   ],
   "source": []
  },
  {
   "cell_type": "markdown",
   "metadata": {},
   "source": [
    "## Option 2"
   ]
  },
  {
   "cell_type": "code",
   "execution_count": 7,
   "metadata": {},
   "outputs": [
    {
     "name": "stdout",
     "output_type": "stream",
     "text": [
      "We are going to print Recent Temperature Data!\n",
      "For LaGuardia type 1\n",
      "For Montauk type 2\n",
      "For both on one plot type 3\n",
      "For a plot of LaGuardia versus LaGuardia type 4\n",
      "Please enter your number.....2\n"
     ]
    },
    {
     "data": {
      "image/png": "[encoded data removed]",
      "text/plain": [
       "<Figure size 432x288 with 1 Axes>"
      ]
     },
     "metadata": {
      "needs_background": "light"
     },
     "output_type": "display_data"
    }
   ],
   "source": []
  },
  {
   "cell_type": "markdown",
   "metadata": {},
   "source": [
    "## Option 3"
   ]
  },
  {
   "cell_type": "code",
   "execution_count": 8,
   "metadata": {},
   "outputs": [
    {
     "name": "stdout",
     "output_type": "stream",
     "text": [
      "We are going to print Recent Temperature Data!\n",
      "For LaGuardia type 1\n",
      "For Montauk type 2\n",
      "For both on one plot type 3\n",
      "For a plot of LaGuardia versus LaGuardia type 4\n",
      "Please enter your number.....3\n"
     ]
    },
    {
     "data": {
      "image/png": "[encoded data removed]",
      "text/plain": [
       "<Figure size 432x288 with 1 Axes>"
      ]
     },
     "metadata": {
      "needs_background": "light"
     },
     "output_type": "display_data"
    }
   ],
   "source": []
  },
  {
   "cell_type": "markdown",
   "metadata": {},
   "source": [
    "## Option 4"
   ]
  },
  {
   "cell_type": "code",
   "execution_count": 9,
   "metadata": {},
   "outputs": [
    {
     "name": "stdout",
     "output_type": "stream",
     "text": [
      "We are going to print Recent Temperature Data!\n",
      "For LaGuardia type 1\n",
      "For Montauk type 2\n",
      "For both on one plot type 3\n",
      "For a plot of LaGuardia versus LaGuardia type 4\n",
      "Please enter your number.....4\n"
     ]
    },
    {
     "data": {
      "image/png": "[encoded data removed]",
      "text/plain": [
       "<Figure size 432x288 with 1 Axes>"
      ]
     },
     "metadata": {
      "needs_background": "light"
     },
     "output_type": "display_data"
    }
   ],
   "source": []
  },
  {
   "cell_type": "markdown",
   "metadata": {},
   "source": [
    "## Answers"
   ]
  },
  {
   "cell_type": "code",
   "execution_count": 6,
   "metadata": {},
   "outputs": [
    {
     "name": "stdout",
     "output_type": "stream",
     "text": [
      "Wow i=1 and is not divisible by 2 or 5\n",
      "Wow i=2 and is divisible by 2\n",
      "Wow i=3 and is not divisible by 2 or 5\n",
      "Wow i=4 and is divisible by 2\n",
      "Wow i=5 and is divisible by 5\n",
      "Wow i=6 and is divisible by 2\n",
      "Wow i=7 and is not divisible by 2 or 5\n",
      "Wow i=8 and is divisible by 2\n",
      "Wow i=9 and is not divisible by 2 or 5\n",
      "Wow i=10 and is divisible by both 2 and 5\n"
     ]
    }
   ],
   "source": [
    "for i in np.arange(1,11):\n",
    "    if i%2==0 and i%10==0:\n",
    "        print 'Wow i={} and is divisible by both 2 and 5'.format(i)\n",
    "    elif i%2==0:\n",
    "        print 'Wow i={} and is divisible by 2'.format(i)\n",
    "    elif i%5==0:\n",
    "        print 'Wow i={} and is divisible by 5'.format(i) \n",
    "    else:\n",
    "        print 'Wow i={} and is not divisible by 2 or 5'.format(i) "
   ]
  },
  {
   "cell_type": "code",
   "execution_count": 5,
   "metadata": {},
   "outputs": [
    {
     "name": "stdout",
     "output_type": "stream",
     "text": [
      "We are going to print Recent Temperature Data!\n",
      "For LaGuardia type 1\n",
      "For Montauk type 2\n",
      "For both on one plot type 3\n",
      "For a plot of LaGuardia versus LaGuardia type 4\n",
      "Please enter your number.....4\n"
     ]
    },
    {
     "data": {
      "image/png": "[encoded data removed]",
      "text/plain": [
       "<Figure size 432x288 with 1 Axes>"
      ]
     },
     "metadata": {
      "needs_background": "light"
     },
     "output_type": "display_data"
    }
   ],
   "source": [
    "KLGA=np.array([52,43,39,34,33,31,34])\n",
    "MONT=np.array([53,44,40,37,36,30,32])\n",
    "\n",
    "print ('We are going to print Recent Temperature Data!')\n",
    "print ('For LaGuardia type 1')\n",
    "print ('For Montauk type 2')\n",
    "print ('For both on one plot type 3')\n",
    "print ('For a plot of LaGuardia versus LaGuardia type 4')\n",
    "a=int(input('Please enter your number.....'))\n",
    "\n",
    "fig,ax=plt.subplots()\n",
    "\n",
    "if a==1:\n",
    "    ax.plot(range(1,8),KLGA)\n",
    "    ax.set_xlabel('Day in January')\n",
    "    ax.set_ylabel(u'Temperature (\\N{DEGREE SIGN}f)')\n",
    "    ax.set_title('LaGuardia')\n",
    "elif a==2:\n",
    "    ax.plot(range(1,8),MONT)\n",
    "    ax.set_xlabel('Day in January')\n",
    "    ax.set_ylabel(u'Temperature (\\u00b0f)')  #I am adding unicode text with the u and then the number for the degree sign\n",
    "    ax.set_title('Montauk')\n",
    "elif a==3:\n",
    "    ax.plot(range(1,8),KLGA,label='KLGA')\n",
    "    ax.plot(range(1,8),MONT,label='MONT')\n",
    "    ax.set_xlabel('Day in January')\n",
    "    ax.set_ylabel(u'Temperature (\\N{DEGREE SIGN}f)')  #I am adding unicode text with the u and then the name of the symbol\n",
    "    ax.set_title('Laguardia and Montauk')  \n",
    "    ax.legend()\n",
    "elif a==4:\n",
    "    ax.scatter(KLGA,MONT)\n",
    "    ax.set_xlabel(u'KLGA Temperature (\\N{DEGREE SIGN}f)')\n",
    "    ax.set_ylabel(u'MONT Temperature (\\N{DEGREE SIGN}f)')  \n",
    "    ax.set_title('LaGuardia versus Montauk')\n",
    "else:\n",
    "    print ('you entered a bad number')"
   ]
  },
  {
   "cell_type": "markdown",
   "metadata": {},
   "source": []
  },
  {
   "cell_type": "code",
   "execution_count": null,
   "metadata": {
    "collapsed": true
   },
   "outputs": [],
   "source": []
  }
 ],
 "metadata": {
  "kernelspec": {
   "display_name": "Python 3",
   "language": "python",
   "name": "python3"
  },
  "language_info": {
   "codemirror_mode": {
    "name": "ipython",
    "version": 3
   },
   "file_extension": ".py",
   "mimetype": "text/x-python",
   "name": "python",
   "nbconvert_exporter": "python",
   "pygments_lexer": "ipython3",
   "version": "3.8.5"
  }
 },
 "nbformat": 4,
 "nbformat_minor": 1
}
