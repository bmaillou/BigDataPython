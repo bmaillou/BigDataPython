{
 "cells": [
  {
   "cell_type": "markdown",
   "metadata": {},
   "source": [
    "# For Loops!!!!!"
   ]
  },
  {
   "cell_type": "markdown",
   "metadata": {},
   "source": [
    "### Today we are going to learn what is a for loop and how they work.  A for loop, goes across every item in a list.  then when you have that item you can do something with it.  For example if you made a grocery list.  You could say for every item in the list I will pick it off the shelf and put it in my cart.  we will do slightly different things like math and printing but the idea is similar!  "
   ]
  },
  {
   "cell_type": "markdown",
   "metadata": {},
   "source": [
    "\n",
    "So lets make a list and then loop over it.  we will start with a small list we make ourselves."
   ]
  },
  {
   "cell_type": "code",
   "execution_count": 1,
   "metadata": {},
   "outputs": [],
   "source": [
    "%matplotlib inline\n",
    "import numpy as np\n",
    "import matplotlib.pyplot as plt\n"
   ]
  },
  {
   "cell_type": "code",
   "execution_count": 2,
   "metadata": {},
   "outputs": [
    {
     "data": {
      "text/plain": [
       "[50, 30, 40, 10, 100]"
      ]
     },
     "execution_count": 2,
     "metadata": {},
     "output_type": "execute_result"
    }
   ],
   "source": [
    "mylist=[50,30,40,10,100]\n",
    "mylist"
   ]
  },
  {
   "cell_type": "code",
   "execution_count": 3,
   "metadata": {},
   "outputs": [
    {
     "name": "stdout",
     "output_type": "stream",
     "text": [
      "50\n",
      "30\n",
      "40\n",
      "10\n",
      "100\n"
     ]
    }
   ],
   "source": [
    "for i in mylist:\n",
    "    print (i)"
   ]
  },
  {
   "cell_type": "markdown",
   "metadata": {},
   "source": [
    "### Okay I admit that wasn't that exciting.  But it gets better"
   ]
  },
  {
   "cell_type": "code",
   "execution_count": 4,
   "metadata": {},
   "outputs": [
    {
     "name": "stdout",
     "output_type": "stream",
     "text": [
      "50 30 40 10 100 "
     ]
    }
   ],
   "source": [
    "# A cool trick I learned recently is that you can force it to the same line.  \n",
    "#use end=\" \", usually python has \n",
    "# a default end which is a new line.  I guess you could add anything!\n",
    "for i in mylist:\n",
    "    print (i,end=\" \")"
   ]
  },
  {
   "cell_type": "code",
   "execution_count": 4,
   "metadata": {},
   "outputs": [
    {
     "name": "stdout",
     "output_type": "stream",
     "text": [
      "50 do I really want the line to end\n",
      "30 do I really want the line to end\n",
      "40 do I really want the line to end\n",
      "10 do I really want the line to end\n",
      "100 do I really want the line to end\n"
     ]
    }
   ],
   "source": [
    "for i in mylist:\n",
    "    print (i,end=\" do I really want the line to end\\n\")"
   ]
  },
  {
   "cell_type": "code",
   "execution_count": 7,
   "metadata": {},
   "outputs": [
    {
     "name": "stdout",
     "output_type": "stream",
     "text": [
      "env\n",
      "chem\n",
      "bio\n",
      "psych\n"
     ]
    }
   ],
   "source": [
    "mystrlist=['env','chem','bio','psych']\n",
    "for dept in mystrlist:\n",
    "    print (dept)"
   ]
  },
  {
   "cell_type": "markdown",
   "metadata": {},
   "source": [
    "Exercise 1.  Can you make a list and loop over it?  Don't forget the colon and the indent.  If you put the colon when typing ipyhton will automatically indent.  "
   ]
  },
  {
   "cell_type": "code",
   "execution_count": null,
   "metadata": {},
   "outputs": [],
   "source": []
  },
  {
   "cell_type": "markdown",
   "metadata": {},
   "source": [
    "### What happens if something is not indented?  "
   ]
  },
  {
   "cell_type": "code",
   "execution_count": 8,
   "metadata": {},
   "outputs": [
    {
     "name": "stdout",
     "output_type": "stream",
     "text": [
      "env\n",
      "chem\n",
      "bio\n",
      "psych\n",
      "psych\n"
     ]
    }
   ],
   "source": [
    "mystrlist=['env','chem','bio','psych']\n",
    "for dept in mystrlist:\n",
    "    print (dept)\n",
    "print (dept)"
   ]
  },
  {
   "cell_type": "markdown",
   "metadata": {},
   "source": [
    "after the indent the for loop is over!"
   ]
  },
  {
   "cell_type": "markdown",
   "metadata": {},
   "source": [
    "Exercise 2.  Go back to your list.  Inside the for loop print dept and mystrlist.  Outside the for loop print the same thing.  "
   ]
  },
  {
   "cell_type": "code",
   "execution_count": null,
   "metadata": {},
   "outputs": [],
   "source": []
  },
  {
   "cell_type": "markdown",
   "metadata": {},
   "source": [
    "But lets make a loop with numbers.  What number is not in the list."
   ]
  },
  {
   "cell_type": "code",
   "execution_count": 20,
   "metadata": {},
   "outputs": [
    {
     "name": "stdout",
     "output_type": "stream",
     "text": [
      "0\n",
      "1\n",
      "2\n",
      "3\n",
      "4\n",
      "5\n",
      "6\n",
      "7\n",
      "8\n",
      "9\n"
     ]
    }
   ],
   "source": [
    "for  i in np.arange(0,10):\n",
    "    print (i)"
   ]
  },
  {
   "cell_type": "markdown",
   "metadata": {},
   "source": [
    "Exercise 3.  What if we want 10?  Can you do that"
   ]
  },
  {
   "cell_type": "code",
   "execution_count": 10,
   "metadata": {},
   "outputs": [],
   "source": []
  },
  {
   "cell_type": "markdown",
   "metadata": {},
   "source": [
    "Exercise 4.  can you do 0 to 10 by 2's?"
   ]
  },
  {
   "cell_type": "code",
   "execution_count": 11,
   "metadata": {},
   "outputs": [
    {
     "name": "stdout",
     "output_type": "stream",
     "text": [
      "0\n",
      "2\n",
      "4\n",
      "6\n",
      "8\n",
      "10\n"
     ]
    }
   ],
   "source": []
  },
  {
   "cell_type": "markdown",
   "metadata": {},
   "source": [
    "### So now we have two ways to loop.  the first is to loop over a list.  The second is to loop over range of numbers.  could we loop over numbers and call a list?  We can do this but it is generally not needed in Python\n",
    "\n",
    "#### I added the \\ as a line continuation so it prints nicer"
   ]
  },
  {
   "cell_type": "code",
   "execution_count": 7,
   "metadata": {},
   "outputs": [
    {
     "name": "stdout",
     "output_type": "stream",
     "text": [
      "i=0  The item in mystrlist[0] is env\n",
      "i=1  The item in mystrlist[1] is chem\n",
      "i=2  The item in mystrlist[2] is bio\n",
      "i=3  The item in mystrlist[3] is psych\n"
     ]
    }
   ],
   "source": [
    "mystrlist=['env','chem','bio','psych']\n",
    "for i in np.arange(0,4):\n",
    "    print ('i={}  The item in mystrlist[{}] is {}'\\\n",
    "           .format(i,i,mystrlist[i]))\n",
    "    "
   ]
  },
  {
   "cell_type": "markdown",
   "metadata": {},
   "source": [
    "Instead of knowing that the length of the list is 4 you could use the len function...."
   ]
  },
  {
   "cell_type": "code",
   "execution_count": 10,
   "metadata": {},
   "outputs": [
    {
     "name": "stdout",
     "output_type": "stream",
     "text": [
      "i= 0  The item in mystrlist[ 0 ] is env\n",
      "i= 1  The item in mystrlist[ 1 ] is chem\n",
      "i= 2  The item in mystrlist[ 2 ] is bio\n",
      "i= 3  The item in mystrlist[ 3 ] is psych\n"
     ]
    }
   ],
   "source": [
    "mystrlist=['env','chem','bio','psych']\n",
    "for i in np.arange(0,len(mystrlist)):\n",
    "    print ('i=',i,' The item in mystrlist[',i,'] is',mystrlist[i])"
   ]
  },
  {
   "cell_type": "markdown",
   "metadata": {},
   "source": [
    "Python has a simple trick to count through a list and give you the list.  It may not make sense now but it will later in the semester!  PAY ATTENTION TO THIS!"
   ]
  },
  {
   "cell_type": "code",
   "execution_count": 11,
   "metadata": {},
   "outputs": [
    {
     "name": "stdout",
     "output_type": "stream",
     "text": [
      "0 env\n",
      "1 chem\n",
      "2 bio\n",
      "3 psych\n"
     ]
    }
   ],
   "source": [
    "mystrlist=['env','chem','bio','psych']\n",
    "for i,mystr in enumerate(mystrlist):\n",
    "    print (i,mystr)"
   ]
  },
  {
   "cell_type": "markdown",
   "metadata": {},
   "source": [
    "Exercise 5.  Can you make a list with linspace and iterate through it?  "
   ]
  },
  {
   "cell_type": "code",
   "execution_count": 15,
   "metadata": {},
   "outputs": [],
   "source": []
  },
  {
   "cell_type": "markdown",
   "metadata": {},
   "source": [
    "as we are iterating we could add to a list.  Lets start with an empty list. then lets add to the list the square of the value.   "
   ]
  },
  {
   "cell_type": "code",
   "execution_count": 10,
   "metadata": {},
   "outputs": [
    {
     "name": "stdout",
     "output_type": "stream",
     "text": [
      "i=0.0 The value of appended to mylist is i^2 which =0.0\n",
      "i=2.5 The value of appended to mylist is i^2 which =6.25\n",
      "i=5.0 The value of appended to mylist is i^2 which =25.0\n",
      "i=7.5 The value of appended to mylist is i^2 which =56.25\n",
      "i=10.0 The value of appended to mylist is i^2 which =100.0\n",
      "We are done outside of the loop and mylist is  [0.0, 6.25, 25.0, 56.25, 100.0]\n",
      "and remember they are in python order so mylist[0]=0.0 since we appended an empty list\n"
     ]
    }
   ],
   "source": [
    "mylist=[]\n",
    "for i in np.linspace(0,10,5):\n",
    "    mylist.append(i**2)\n",
    "    print ('i={} The value of appended to mylist is i^2 which ={}'\\\n",
    "           .format(i,i**2))\n",
    "    \n",
    "print('We are done outside of the loop and mylist is ',mylist)\n",
    "print('and remember they are in python order so mylist[0]\\\n",
    "={} since we appended an empty list'.format(mylist[0]))"
   ]
  },
  {
   "cell_type": "markdown",
   "metadata": {},
   "source": [
    "## Exercise 6.\n",
    "#### Can you make two lists.  The first is months.  The second is days in that month.  Now can you loop through and print \n",
    "\n",
    "##### January has 31 days.\n",
    "\n",
    "##### February has....."
   ]
  },
  {
   "cell_type": "code",
   "execution_count": 66,
   "metadata": {},
   "outputs": [],
   "source": []
  },
  {
   "cell_type": "markdown",
   "metadata": {},
   "source": [
    "## Exercise 7.  \n",
    "Can you now go back to the earlier assignment of plotting a parabola and do it the long old fashioned way in a for loop?  Remember\n",
    "# $y=ax^2+bx+c$\n",
    "set an a,b,and c.\n",
    "get an x range with linspace or range \n",
    "solve for y\n",
    "plot it.  "
   ]
  },
  {
   "cell_type": "code",
   "execution_count": 34,
   "metadata": {},
   "outputs": [
    {
     "data": {
      "text/plain": [
       "[<matplotlib.lines.Line2D at 0x82adeb8>]"
      ]
     },
     "execution_count": 34,
     "metadata": {},
     "output_type": "execute_result"
    },
    {
     "data": {
      "image/png": "[encoded data removed]",
      "text/plain": [
       "<matplotlib.figure.Figure at 0x8256240>"
      ]
     },
     "metadata": {},
     "output_type": "display_data"
    }
   ],
   "source": [
    "import matplotlib.pylab as plt\n",
    "a=\n",
    "b=\n",
    "c="
   ]
  },
  {
   "cell_type": "markdown",
   "metadata": {},
   "source": [
    "We can also sum up in a for loop."
   ]
  },
  {
   "cell_type": "code",
   "execution_count": 27,
   "metadata": {},
   "outputs": [
    {
     "name": "stdout",
     "output_type": "stream",
     "text": [
      "the sume is= 2.4999999999999996\n"
     ]
    }
   ],
   "source": [
    "sum=0\n",
    "mylist=np.linspace(0.2,0.3,10)\n",
    "for i in mylist:\n",
    "    sum+=i   # This is a cool trick and means sum=sum+i\n",
    "print('the sume is=',sum)\n"
   ]
  },
  {
   "cell_type": "markdown",
   "metadata": {},
   "source": [
    "Exercise 8.  Now can you determine the average or the mean using a for loop?  I would also use the len() function.  "
   ]
  },
  {
   "cell_type": "code",
   "execution_count": 76,
   "metadata": {},
   "outputs": [
    {
     "name": "stdout",
     "output_type": "stream",
     "text": [
      "the sume is= 2.5\n",
      "the mean is= 0.25\n"
     ]
    }
   ],
   "source": []
  },
  {
   "cell_type": "markdown",
   "metadata": {},
   "source": [
    "go back to exercise 8 and change the number of items in your list and see if it changes the mean...."
   ]
  },
  {
   "cell_type": "code",
   "execution_count": null,
   "metadata": {
    "collapsed": true
   },
   "outputs": [],
   "source": []
  },
  {
   "cell_type": "markdown",
   "metadata": {},
   "source": [
    "## You can also put for loops inside of for loops"
   ]
  },
  {
   "cell_type": "code",
   "execution_count": 6,
   "metadata": {},
   "outputs": [
    {
     "name": "stdout",
     "output_type": "stream",
     "text": [
      "i=0\n",
      "j=0\n",
      "j=1\n",
      "j=2\n",
      "i=1\n",
      "j=0\n",
      "j=1\n",
      "j=2\n",
      "i=2\n",
      "j=0\n",
      "j=1\n",
      "j=2\n"
     ]
    }
   ],
   "source": [
    "for i in np.arange(0,3):\n",
    "    print('i={}'.format(i))\n",
    "    for j in np.arange(0,3):\n",
    "        print('j={}'.format(j))\n",
    "    "
   ]
  },
  {
   "cell_type": "markdown",
   "metadata": {},
   "source": [
    "### Doing the math in for loops like this is \"old fashioned\" and is how you used to have to program.  Having all these built in functions is really nice and does make life so much easier and most of the course is taking advantage of built in functions whenever we can "
   ]
  },
  {
   "cell_type": "markdown",
   "metadata": {},
   "source": [
    "# ANSWERS"
   ]
  },
  {
   "cell_type": "markdown",
   "metadata": {},
   "source": [
    "Answer Exercise 1.  Just make your own list"
   ]
  },
  {
   "cell_type": "code",
   "execution_count": 28,
   "metadata": {},
   "outputs": [
    {
     "name": "stdout",
     "output_type": "stream",
     "text": [
      "Therese\n",
      "Colette\n",
      "Lisa\n",
      "Hadil\n"
     ]
    }
   ],
   "source": [
    "students=['Therese','Colette','Lisa','Hadil']\n",
    "for student in students:\n",
    "    print (student)"
   ]
  },
  {
   "cell_type": "markdown",
   "metadata": {},
   "source": [
    "Answer Exercise 2.  "
   ]
  },
  {
   "cell_type": "code",
   "execution_count": 30,
   "metadata": {},
   "outputs": [
    {
     "name": "stdout",
     "output_type": "stream",
     "text": [
      "Therese ['Therese', 'Colette', 'Lisa', 'Hadil']\n",
      "Colette ['Therese', 'Colette', 'Lisa', 'Hadil']\n",
      "Lisa ['Therese', 'Colette', 'Lisa', 'Hadil']\n",
      "Hadil ['Therese', 'Colette', 'Lisa', 'Hadil']\n",
      "Hadil ['Therese', 'Colette', 'Lisa', 'Hadil']\n"
     ]
    }
   ],
   "source": [
    "students=['Therese','Colette','Lisa','Hadil']\n",
    "for student in students:\n",
    "    print (student,students)\n",
    "    \n",
    "print (student,students)"
   ]
  },
  {
   "cell_type": "markdown",
   "metadata": {},
   "source": [
    "Answer Exercise 3. "
   ]
  },
  {
   "cell_type": "code",
   "execution_count": 31,
   "metadata": {},
   "outputs": [
    {
     "name": "stdout",
     "output_type": "stream",
     "text": [
      "0\n",
      "1\n",
      "2\n",
      "3\n",
      "4\n",
      "5\n",
      "6\n",
      "7\n",
      "8\n",
      "9\n",
      "10\n"
     ]
    }
   ],
   "source": [
    "for  i in range(11):\n",
    "    print (i)"
   ]
  },
  {
   "cell_type": "markdown",
   "metadata": {},
   "source": [
    "Answer Exercise 4."
   ]
  },
  {
   "cell_type": "code",
   "execution_count": 32,
   "metadata": {},
   "outputs": [
    {
     "name": "stdout",
     "output_type": "stream",
     "text": [
      "0\n",
      "2\n",
      "4\n",
      "6\n",
      "8\n",
      "10\n"
     ]
    }
   ],
   "source": [
    "for  i in range(0,11,2):\n",
    "    print (i)"
   ]
  },
  {
   "cell_type": "markdown",
   "metadata": {},
   "source": [
    "Answer Exercise 5"
   ]
  },
  {
   "cell_type": "code",
   "execution_count": 33,
   "metadata": {},
   "outputs": [
    {
     "name": "stdout",
     "output_type": "stream",
     "text": [
      "0.1\n",
      "0.10526315789473685\n",
      "0.1105263157894737\n",
      "0.11578947368421053\n",
      "0.12105263157894737\n",
      "0.12631578947368421\n",
      "0.13157894736842107\n",
      "0.1368421052631579\n",
      "0.14210526315789473\n",
      "0.1473684210526316\n",
      "0.15263157894736842\n",
      "0.15789473684210525\n",
      "0.1631578947368421\n",
      "0.16842105263157897\n",
      "0.17368421052631577\n",
      "0.17894736842105263\n",
      "0.1842105263157895\n",
      "0.18947368421052632\n",
      "0.19473684210526315\n",
      "0.2\n"
     ]
    }
   ],
   "source": [
    "new_list=np.linspace(0.1,0.2,20)\n",
    "for item in new_list:\n",
    "    print (item)"
   ]
  },
  {
   "cell_type": "markdown",
   "metadata": {},
   "source": [
    "Answer Exercise 6"
   ]
  },
  {
   "cell_type": "code",
   "execution_count": 9,
   "metadata": {},
   "outputs": [
    {
     "name": "stdout",
     "output_type": "stream",
     "text": [
      "January  has  31  days\n",
      "February  has  28  days\n",
      "March  has  31  days\n",
      "April  has  30  days\n",
      "May  has  31  days\n",
      "June  has  30  days\n",
      "July  has  31  days\n",
      "August  has  31  days\n",
      "September  has  30  days\n",
      "October  has  31  days\n",
      "November  has  30  days\n",
      "December  has  31  days\n",
      "\n",
      "I am going to use a trick\n",
      "\n",
      "January  has  31  days\n",
      "February  has  28  days\n",
      "March  has  31  days\n",
      "April  has  30  days\n",
      "May  has  31  days\n",
      "June  has  30  days\n",
      "July  has  31  days\n",
      "August  has  31  days\n",
      "September  has  30  days\n",
      "October  has  31  days\n",
      "November  has  30  days\n",
      "December  has  31  days\n",
      "\n",
      "I am going to use a second trick\n",
      "\n",
      "January  has  31  days\n",
      "February  has  28  days\n",
      "March  has  31  days\n",
      "April  has  30  days\n",
      "May  has  31  days\n",
      "June  has  30  days\n",
      "July  has  31  days\n",
      "August  has  31  days\n",
      "September  has  30  days\n",
      "October  has  31  days\n",
      "November  has  30  days\n",
      "December  has  31  days\n",
      "\n",
      "Npw with format to make it look nice\n",
      "\n",
      "January   has 31 days\n",
      "February  has 28 days\n",
      "March     has 31 days\n",
      "April     has 30 days\n",
      "May       has 31 days\n",
      "June      has 30 days\n",
      "July      has 31 days\n",
      "August    has 31 days\n",
      "September has 30 days\n",
      "October   has 31 days\n",
      "November  has 30 days\n",
      "December  has 31 days\n"
     ]
    }
   ],
   "source": [
    "#Setting my lists\n",
    "Months=['January','February','March','April','May','June','July'\\\n",
    "        ,'August','September','October','November','December']\n",
    "Days=[31,28,31,30,31,30,31,31,30,31,30,31]\n",
    "\n",
    "#Method 1\n",
    "for i in range(12):\n",
    "    print (Months[i],' has ',Days[i],' days')\n",
    "\n",
    "#Methods 2 zip\n",
    "print ('\\nI am going to use a trick\\n')\n",
    "#this is a trick for going through 2 lists.  \n",
    "for i,j in zip(Months,Days):\n",
    "    print (i,' has ',j,' days')\n",
    "    \n",
    "#Method 3, Enumberate\n",
    "print ('\\nI am going to use a second trick\\n')\n",
    "#this is a trick for going through 2 lists.  \n",
    "for i,j in enumerate(Months):\n",
    "    print (j,' has ',Days[i],' days')\n",
    "    \n",
    "#Method 3 printed nicer\n",
    "print ('\\nNpw with format to make it look nice\\n')\n",
    "#this is a trick for going through 2 lists.  \n",
    "for i,j in enumerate(Months):\n",
    "    print( '{:9} has {} days'.format(j,Days[i]))"
   ]
  },
  {
   "cell_type": "markdown",
   "metadata": {},
   "source": [
    "Answer exercise 7"
   ]
  },
  {
   "cell_type": "code",
   "execution_count": 36,
   "metadata": {},
   "outputs": [
    {
     "data": {
      "text/plain": [
       "[<matplotlib.lines.Line2D at 0x20a69cd94e0>]"
      ]
     },
     "execution_count": 36,
     "metadata": {},
     "output_type": "execute_result"
    },
    {
     "data": {
      "image/png": "[encoded data removed]",
      "text/plain": [
       "<Figure size 432x288 with 1 Axes>"
      ]
     },
     "metadata": {},
     "output_type": "display_data"
    }
   ],
   "source": [
    "import matplotlib.pylab as plt\n",
    "a=1\n",
    "b=1\n",
    "c=1\n",
    "x=np.linspace(-10,10)\n",
    "y=[]\n",
    "for i in x:\n",
    "    y.append(a*i**2+b*i+c)\n",
    "\n",
    "fig,ax=plt.subplots()\n",
    "ax.plot(x,y)\n",
    "    "
   ]
  },
  {
   "cell_type": "markdown",
   "metadata": {},
   "source": [
    "Answer Exercise 8"
   ]
  },
  {
   "cell_type": "code",
   "execution_count": 37,
   "metadata": {},
   "outputs": [
    {
     "name": "stdout",
     "output_type": "stream",
     "text": [
      "the sume is= 2.4999999999999996\n",
      "the mean is= 0.24999999999999994\n"
     ]
    }
   ],
   "source": [
    "sum=0\n",
    "mylist=np.linspace(0.2,0.3,10)\n",
    "for i in mylist:\n",
    "    sum+=i\n",
    "print ('the sume is=',sum)\n",
    "print ('the mean is=',sum/len(mylist))"
   ]
  },
  {
   "cell_type": "code",
   "execution_count": null,
   "metadata": {},
   "outputs": [],
   "source": []
  }
 ],
 "metadata": {
  "kernelspec": {
   "display_name": "Python 3",
   "language": "python",
   "name": "python3"
  },
  "language_info": {
   "codemirror_mode": {
    "name": "ipython",
    "version": 3
   },
   "file_extension": ".py",
   "mimetype": "text/x-python",
   "name": "python",
   "nbconvert_exporter": "python",
   "pygments_lexer": "ipython3",
   "version": "3.8.5"
  }
 },
 "nbformat": 4,
 "nbformat_minor": 1
}
