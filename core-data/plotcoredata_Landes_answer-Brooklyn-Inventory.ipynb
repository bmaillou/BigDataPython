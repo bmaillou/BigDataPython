{
 "cells": [
  {
   "cell_type": "markdown",
   "metadata": {},
   "source": [
    "# Sediment Core Analysis"
   ]
  },
  {
   "cell_type": "code",
   "execution_count": 2,
   "metadata": {},
   "outputs": [],
   "source": [
    "%matplotlib inline\n",
    "import pandas as pd\n",
    "import numpy as np\n",
    "import matplotlib.pylab as plt\n",
    "from scipy import stats\n",
    "from matplotlib.backends.backend_pdf import PdfPages"
   ]
  },
  {
   "cell_type": "markdown",
   "metadata": {},
   "source": [
    "Read in Landes Core Data"
   ]
  },
  {
   "cell_type": "code",
   "execution_count": 101,
   "metadata": {},
   "outputs": [],
   "source": [
    "df=pd.read_excel('core-data/Landes_STOTEN.xlsx',sheet_name='Core_XRF')"
   ]
  },
  {
   "cell_type": "code",
   "execution_count": 102,
   "metadata": {},
   "outputs": [
    {
     "data": {
      "text/plain": [
       "Index(['core_id', 'sample_id_long', 'depth_cm_range', 'fine_coarse',\n",
       "       'sampling_neigborhood', 'XRF_Pb_ppm', 'XRF_date', 'Nr_Runs', 'Pb',\n",
       "       'Pb_sd', 'Pb_ins_e', 'Sn', 'Sn_sd', 'Sn_ins_e', 'Zn', 'Zn_sd',\n",
       "       'Zn_ins_e', 'Cd', 'Cd_sd', 'Cd_ins_e', 'Unit'],\n",
       "      dtype='object')"
      ]
     },
     "execution_count": 102,
     "metadata": {},
     "output_type": "execute_result"
    }
   ],
   "source": [
    "df.columns"
   ]
  },
  {
   "cell_type": "markdown",
   "metadata": {},
   "source": [
    "Delete unwanted data in depth column and replace with NaN"
   ]
  },
  {
   "cell_type": "code",
   "execution_count": 103,
   "metadata": {},
   "outputs": [],
   "source": [
    "df = df.replace('PL_UG', np.nan)\n",
    "df = df.replace('PL_UG2', np.nan)\n",
    "df = df.replace('PL_UG3', np.nan)\n",
    "df = df.replace(\"PL_UG (can't find) \", np.nan)\n",
    "\n",
    "df = df.replace('NA', np.nan)"
   ]
  },
  {
   "cell_type": "markdown",
   "metadata": {},
   "source": [
    "IMPORTANT\n",
    "We do not have weights for these cores.   Franziska did not put it in the the data.  We are going to assume all samples are 20.0 grams.  "
   ]
  },
  {
   "cell_type": "code",
   "execution_count": 104,
   "metadata": {},
   "outputs": [],
   "source": [
    "df['weight']=20.0"
   ]
  },
  {
   "cell_type": "markdown",
   "metadata": {},
   "source": [
    "Convert Depth Range to a mean and save to a new column"
   ]
  },
  {
   "cell_type": "code",
   "execution_count": 110,
   "metadata": {},
   "outputs": [],
   "source": [
    "df['depth_cm']=df['depth_cm_range'].str.split('_',expand=True)\\\n",
    "                                    .astype(float).mean(axis=1)"
   ]
  },
  {
   "cell_type": "markdown",
   "metadata": {},
   "source": [
    "Just Save your core and the fine data to work with"
   ]
  },
  {
   "cell_type": "code",
   "execution_count": 106,
   "metadata": {},
   "outputs": [],
   "source": [
    "core_id='18NYHC014'\n",
    "fine_coarse='f'\n",
    "\n",
    "df_fine=df[(df['core_id']==core_id) & (df['fine_coarse']==fine_coarse)]"
   ]
  },
  {
   "cell_type": "markdown",
   "metadata": {},
   "source": [
    "Plot Lead"
   ]
  },
  {
   "cell_type": "code",
   "execution_count": 107,
   "metadata": {},
   "outputs": [
    {
     "data": {
      "image/png": "[encoded data removed]",
      "text/plain": [
       "<Figure size 288x576 with 1 Axes>"
      ]
     },
     "metadata": {
      "needs_background": "light"
     },
     "output_type": "display_data"
    }
   ],
   "source": [
    "fig,ax=plt.subplots()\n",
    "fig.set_size_inches(4,8)\n",
    "ax.scatter(df_fine.Pb,df_fine.depth_cm)\n",
    "ax.invert_yaxis()\n"
   ]
  },
  {
   "cell_type": "code",
   "execution_count": null,
   "metadata": {},
   "outputs": [],
   "source": []
  },
  {
   "cell_type": "markdown",
   "metadata": {
    "collapsed": true
   },
   "source": [
    "### Calculating Inventory\n",
    "\n",
    "In the handout I gave the formula for calculating inventory  but people are used to doing math in Pandas so here are some hints."
   ]
  },
  {
   "cell_type": "markdown",
   "metadata": {},
   "source": [
    "### I can sum one column like lead"
   ]
  },
  {
   "cell_type": "code",
   "execution_count": 86,
   "metadata": {},
   "outputs": [
    {
     "data": {
      "text/plain": [
       "538.33333337"
      ]
     },
     "execution_count": 86,
     "metadata": {},
     "output_type": "execute_result"
    }
   ],
   "source": [
    "df_fine['Pb'].sum()"
   ]
  },
  {
   "cell_type": "markdown",
   "metadata": {},
   "source": [
    "### I can sum a column and divide by a number"
   ]
  },
  {
   "cell_type": "code",
   "execution_count": 87,
   "metadata": {},
   "outputs": [
    {
     "data": {
      "text/plain": [
       "0.53833333337"
      ]
     },
     "execution_count": 87,
     "metadata": {},
     "output_type": "execute_result"
    }
   ],
   "source": [
    "df_fine['Pb'].sum()/1000"
   ]
  },
  {
   "cell_type": "markdown",
   "metadata": {},
   "source": [
    "### I can multiply two columns.  Here I will multiply depth and Pb"
   ]
  },
  {
   "cell_type": "code",
   "execution_count": 88,
   "metadata": {},
   "outputs": [
    {
     "data": {
      "text/plain": [
       "123    954.166667\n",
       "125    367.500000\n",
       "127    608.333333\n",
       "129    665.000000\n",
       "131    462.000000\n",
       "dtype: float64"
      ]
     },
     "execution_count": 88,
     "metadata": {},
     "output_type": "execute_result"
    }
   ],
   "source": [
    "df_fine['Pb']*df_fine['depth_cm']"
   ]
  },
  {
   "cell_type": "markdown",
   "metadata": {},
   "source": [
    "### I can mulitply and then sum!"
   ]
  },
  {
   "cell_type": "code",
   "execution_count": 89,
   "metadata": {},
   "outputs": [
    {
     "data": {
      "text/plain": [
       "3057.000000125"
      ]
     },
     "execution_count": 89,
     "metadata": {},
     "output_type": "execute_result"
    }
   ],
   "source": [
    "(df_fine['Pb']*df_fine['depth_cm']).sum()"
   ]
  },
  {
   "cell_type": "markdown",
   "metadata": {},
   "source": [
    "### This is where you can use the function sum in two ways"
   ]
  },
  {
   "cell_type": "code",
   "execution_count": 90,
   "metadata": {},
   "outputs": [
    {
     "data": {
      "text/plain": [
       "3057.000000125"
      ]
     },
     "execution_count": 90,
     "metadata": {},
     "output_type": "execute_result"
    }
   ],
   "source": [
    "np.sum(df_fine['Pb']*df_fine['depth_cm'])"
   ]
  },
  {
   "cell_type": "code",
   "execution_count": null,
   "metadata": {},
   "outputs": [],
   "source": [
    "df_fine['']"
   ]
  },
  {
   "cell_type": "markdown",
   "metadata": {},
   "source": [
    "# You have everything you need to know to calculate an inventory.  It is easier than you think once you get your units in order!\n",
    "\n",
    "The central park inventories average around 57 g/m2 from table 1.\n"
   ]
  },
  {
   "cell_type": "code",
   "execution_count": 111,
   "metadata": {},
   "outputs": [
    {
     "data": {
      "text/plain": [
       "Text(0.5, 0, 'Tin (mg/Kg)')"
      ]
     },
     "execution_count": 111,
     "metadata": {},
     "output_type": "execute_result"
    },
    {
     "data": {
      "image/png": "[encoded data removed]",
      "text/plain": [
       "<Figure size 288x576 with 2 Axes>"
      ]
     },
     "metadata": {
      "needs_background": "light"
     },
     "output_type": "display_data"
    }
   ],
   "source": [
    "df=pd.read_excel('core-data/ChillrudTable2.xlsx')\n",
    "fig,ax=plt.subplots()\n",
    "fig.set_size_inches(4,8)\n",
    "ax.scatter(df.Pb,df.Depth_cm)\n",
    "ax.set_ylim([55,0])\n",
    "ax.margins(.05)\n",
    "ax.set_xlabel('Lead mg/Kg',color='blue')\n",
    "\n",
    "# This gives you a second axis with a anice plot in just a couple lines.  \n",
    "ax2=ax.twiny()\n",
    "ax2.plot(df.Sn,df.Depth_cm,'.r-',markersize=10)\n",
    "ax2.set_xlabel('Tin (mg/Kg)',color='r')"
   ]
  },
  {
   "cell_type": "markdown",
   "metadata": {},
   "source": [
    "My notes for assigning cores"
   ]
  },
  {
   "cell_type": "code",
   "execution_count": 77,
   "metadata": {},
   "outputs": [],
   "source": [
    "df_cores=pd.read_excel('core-data/Landes_STOTEN.xlsx',sheet_name='Core_XRF')"
   ]
  },
  {
   "cell_type": "code",
   "execution_count": 78,
   "metadata": {},
   "outputs": [
    {
     "data": {
      "text/plain": [
       "18UWHC004    24\n",
       "18NYHC042    24\n",
       "18NYHC038    23\n",
       "18UWHC009    21\n",
       "18UWHC014    20\n",
       "18NYHC043    18\n",
       "18UWHC018    18\n",
       "18UWHC012    17\n",
       "18NYHC020    17\n",
       "18NYHC029    16\n",
       "18NYHC041    16\n",
       "18NYHC044    16\n",
       "18UWHC011    16\n",
       "18UWHC019    16\n",
       "18UWHC015    16\n",
       "18NYHC021    15\n",
       "18NYHC045    15\n",
       "18NYHC011    15\n",
       "18UWHC010    14\n",
       "18NYHC025    14\n",
       "18NYHC034    14\n",
       "18NYHC013    14\n",
       "18NYHC008    14\n",
       "18NYHC019    13\n",
       "18NYHC057    12\n",
       "18UWHC022    12\n",
       "18NYHC009    12\n",
       "18UWHC007    12\n",
       "18UWHC017    12\n",
       "18NYHC031    12\n",
       "18NYHC012    12\n",
       "18NYHC003    12\n",
       "18NYHC026    12\n",
       "18UWHC006    12\n",
       "18NYHC005    12\n",
       "18UWHC013    12\n",
       "18NYHC015    12\n",
       "18NYHC001    12\n",
       "18NYHC033    12\n",
       "18NYHC006    12\n",
       "18UWHC001    12\n",
       "18NYHC014    10\n",
       "18UWHC020    10\n",
       "18UWHC002    10\n",
       "18NYHC024    10\n",
       "18UWHC008    10\n",
       "18UWHC003    10\n",
       "18NYHC028     8\n",
       "18UWHC016     8\n",
       "Name: core_id, dtype: int64"
      ]
     },
     "execution_count": 78,
     "metadata": {},
     "output_type": "execute_result"
    }
   ],
   "source": [
    "df_cores['core_id'].value_counts()"
   ]
  },
  {
   "cell_type": "code",
   "execution_count": null,
   "metadata": {},
   "outputs": [],
   "source": []
  }
 ],
 "metadata": {
  "kernelspec": {
   "display_name": "Python 3",
   "language": "python",
   "name": "python3"
  },
  "language_info": {
   "codemirror_mode": {
    "name": "ipython",
    "version": 3
   },
   "file_extension": ".py",
   "mimetype": "text/x-python",
   "name": "python",
   "nbconvert_exporter": "python",
   "pygments_lexer": "ipython3",
   "version": "3.8.5"
  }
 },
 "nbformat": 4,
 "nbformat_minor": 1
}
