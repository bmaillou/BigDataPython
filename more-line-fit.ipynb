{
 "cells": [
  {
   "cell_type": "markdown",
   "metadata": {},
   "source": [
    "# More Line Fitting and Reading from A File with GDP Data\n",
    "\n",
    "Lets look at some real data and fit a line.  [Life expectencay verus GDP](https://ourworldindata.org/grapher/life-expectancy-vs-gdp-per-capita?xScale=linear) is a common graph.  Lets get the data. Plot it.  Analyze it.  "
   ]
  },
  {
   "cell_type": "markdown",
   "metadata": {},
   "source": [
    "How can we get the data from the website to python?????  \n",
    "Do you really want to type it in?  That could get old very quick.  \n",
    "Copy the data and paste it into excel. This is the first method to do it.  I tell you how below\n",
    "\n",
    "We are going to use a .csv file.  I called mine GDP-Lifespan.csv  CSV stands for comma seperated values.  It is a text file with a comma between each column.\n",
    "Computers love csv files.  They can handle huge datasets and they are really easy to read in.  "
   ]
  },
  {
   "cell_type": "markdown",
   "metadata": {},
   "source": [
    "Now we have it as a file what do we do?  Depending on your package you are running you can read it in different ways.  I find this confusing.  But it is what it is.  So we are going to use numpy today.  "
   ]
  },
  {
   "cell_type": "markdown",
   "metadata": {},
   "source": [
    "The function in numpy to read in data is genfromtext.   so you will type np.genfromtext(.....)\n"
   ]
  },
  {
   "cell_type": "markdown",
   "metadata": {},
   "source": [
    "You have your excel sheet of data with the names and headers.  Just take the GDP data with no names and no headers and save it into a new file called GDP.csv.  You should just have one column of data.  CSV files are fantastic for data.  It stands for comma seperated values.  You can store a lot of data easily and it is machine and program independent.  Now we can read that in.  use [genfromtext](http://docs.scipy.org/doc/numpy/reference/generated/numpy.genfromtxt.html)   So read it in and then print it.  You should get an array.  But we need to make sure that the file you are reading is in the directory you are working from!  Also, sometimes there are difference versions of csv you can save as and the readin programs can get futsy about which versions they like. so you may have to try a few.\n",
    "\n",
    "#### Reminder.  Just put GDP data with no headers into the first column of its own csv file saved from excel. We will start with this\n",
    "\n",
    "File 1.  GDP Only https://github.com/bmaillou/BigDataPython/blob/master/gdp_only.csv\n",
    "\n",
    "File 2.  GDP and Lifespan https://github.com/bmaillou/BigDataPython/blob/master/gdp_and_lifespan.csv\n",
    "\n",
    "File 3.  GDP and Lifespan All Data https://github.com/bmaillou/BigDataPython/blob/master/GDP_Lifespan_all_data.csv\n"
   ]
  },
  {
   "cell_type": "markdown",
   "metadata": {},
   "source": [
    "## Flashback!\n",
    "Do you remember that we did a whole lesson on paths and directories?  This now becomes critical.  We are going to read a file into memory.  You have to tell the computer where that file is.  If you are programming a notebook from the same directory as the file you are all set!  Else you have to specify the path.  So make sure you know your working directory and where things are saved.  **This can really come back to bite you! Pay Attention to it!**\n",
    "\n",
    "#### Put the files from above into the directory you are working in!!!"
   ]
  },
  {
   "cell_type": "code",
   "execution_count": 1,
   "metadata": {},
   "outputs": [
    {
     "data": {
      "text/plain": [
       "'C:\\\\work-teaching\\\\python\\\\fall18\\\\BigDataPython'"
      ]
     },
     "execution_count": 1,
     "metadata": {},
     "output_type": "execute_result"
    }
   ],
   "source": [
    "pwd"
   ]
  },
  {
   "cell_type": "code",
   "execution_count": 1,
   "metadata": {},
   "outputs": [],
   "source": [
    "%matplotlib inline  \n",
    "import matplotlib.pyplot as plt\n",
    "import numpy as np\n",
    "from scipy import stats"
   ]
  },
  {
   "cell_type": "markdown",
   "metadata": {},
   "source": [
    "this is the basic numpy reader.  It works well for basic stuff.  It is a good start but we will move back towards Pandas in a week or so.  \n",
    "### Don't forget to import stats now!"
   ]
  },
  {
   "cell_type": "markdown",
   "metadata": {},
   "source": [
    "## File 1"
   ]
  },
  {
   "cell_type": "code",
   "execution_count": 2,
   "metadata": {},
   "outputs": [],
   "source": [
    "gdp=np.genfromtxt('gdp_only.csv')"
   ]
  },
  {
   "cell_type": "code",
   "execution_count": 3,
   "metadata": {},
   "outputs": [
    {
     "data": {
      "text/plain": [
       "array([ 1200.,  9000.,   800.,  3000.,  1900.,   600.,  1900.,  1300.,\n",
       "        4900.,   700.,  1100.,   800.,  1400.,  7200.,   500.,   600.,\n",
       "        1100.,   600.,  1400.,  1000.,   900., 10700.,   800.,   800.,\n",
       "         500.,  1800.,  1000.,  1200.,   700.,  2100.,   700.,   900.,\n",
       "        1100.,  1600.,  1800.,  1500.,  1400.,  1700.,  1700.,  1800.,\n",
       "         800.,  1600.,  2200.,  5500.,  1900.,  1900.,  1400.,  2600.,\n",
       "         800.,  5800.,  1900.,  2900.,  2100.,  4000.,  3400.,  6300.,\n",
       "        2900.,  1600.,  1800.,  1700.,  2200.,  1000.,  2500.,  2400.,\n",
       "        1800.,  4100., 16700.,  1200.,  5400.,  2600.,  3500.,  8900.,\n",
       "        1500.,  6000.,  6100., 11800.,  5800.,  3200.,  4000.,  4600.,\n",
       "       10200.,  7000.,  3300.,  9500., 11400.,  2300.,  4000.,  2500.,\n",
       "       12300.,  4000.,  6000.,  4800.,  7000.,  1300.,  5100.,  7600.,\n",
       "        6300.,  7400.,   600.,  9000., 11400.,  7600.,  6700., 15700.,\n",
       "        3300.,  4800., 13900.,  5000.,  6100.,  9000.,  6300.,  4500.,\n",
       "       13100.,  3700.,  1100., 21500., 15000., 16900.,  4800., 11100.,\n",
       "        5500., 23600., 10600.,  4700.,  6900., 13300.,  6700., 23200.,\n",
       "       15700., 17800., 11400., 17500., 11200., 19000.,  3900., 12800.,\n",
       "        6400., 18000.,  9900.,  9100., 19000.,  8300.,  2900., 23400.,\n",
       "       31100., 37800., 16800., 29600., 36000.,  7900., 55100.,  4300.,\n",
       "       27400., 28500., 27700., 30000., 29100., 21600., 27600., 17700.,\n",
       "       14400., 28600., 20000., 40000., 19800., 37800., 22000., 27600.,\n",
       "       26700., 30900., 29800., 28800., 26800., 32700., 40000., 29000.,\n",
       "       23700., 28200., 19400., 26800.])"
      ]
     },
     "execution_count": 3,
     "metadata": {},
     "output_type": "execute_result"
    }
   ],
   "source": [
    "gdp"
   ]
  },
  {
   "cell_type": "markdown",
   "metadata": {},
   "source": [
    "You now have numpy and all its power ready to work on your data.  type gdp. then hit tab and see the fucntions you can call. this is a numpy array like the ones we made except you read it in. "
   ]
  },
  {
   "cell_type": "code",
   "execution_count": 4,
   "metadata": {},
   "outputs": [
    {
     "name": "stdout",
     "output_type": "stream",
     "text": [
      "10051.111111111111\n",
      "55100.0\n"
     ]
    }
   ],
   "source": [
    "print (gdp.mean())\n",
    "print (gdp.max())"
   ]
  },
  {
   "cell_type": "markdown",
   "metadata": {},
   "source": [
    "There is a second way you can get the data without downloading. \n",
    "GDP Only https://github.com/bmaillou/BigDataPython/blob/master/gdp_only.csv\n",
    "\n",
    "1.  Click on the link\n",
    "1.  click on raw.\n",
    "1.  copy the url.\n",
    "1.  paste the url into where the filename goes.\n",
    "1.  use it!"
   ]
  },
  {
   "cell_type": "code",
   "execution_count": 38,
   "metadata": {},
   "outputs": [],
   "source": [
    "gdp=np.genfromtxt('https://raw.githubusercontent.com/bmaillou/\\\n",
    "BigDataPython/master/gdp_only.csv')"
   ]
  },
  {
   "cell_type": "code",
   "execution_count": 39,
   "metadata": {},
   "outputs": [
    {
     "name": "stdout",
     "output_type": "stream",
     "text": [
      "[ 1200.  9000.   800.  3000.  1900.   600.  1900.  1300.  4900.   700.\n",
      "  1100.   800.  1400.  7200.   500.   600.  1100.   600.  1400.  1000.\n",
      "   900. 10700.   800.   800.   500.  1800.  1000.  1200.   700.  2100.\n",
      "   700.   900.  1100.  1600.  1800.  1500.  1400.  1700.  1700.  1800.\n",
      "   800.  1600.  2200.  5500.  1900.  1900.  1400.  2600.   800.  5800.\n",
      "  1900.  2900.  2100.  4000.  3400.  6300.  2900.  1600.  1800.  1700.\n",
      "  2200.  1000.  2500.  2400.  1800.  4100. 16700.  1200.  5400.  2600.\n",
      "  3500.  8900.  1500.  6000.  6100. 11800.  5800.  3200.  4000.  4600.\n",
      " 10200.  7000.  3300.  9500. 11400.  2300.  4000.  2500. 12300.  4000.\n",
      "  6000.  4800.  7000.  1300.  5100.  7600.  6300.  7400.   600.  9000.\n",
      " 11400.  7600.  6700. 15700.  3300.  4800. 13900.  5000.  6100.  9000.\n",
      "  6300.  4500. 13100.  3700.  1100. 21500. 15000. 16900.  4800. 11100.\n",
      "  5500. 23600. 10600.  4700.  6900. 13300.  6700. 23200. 15700. 17800.\n",
      " 11400. 17500. 11200. 19000.  3900. 12800.  6400. 18000.  9900.  9100.\n",
      " 19000.  8300.  2900. 23400. 31100. 37800. 16800. 29600. 36000.  7900.\n",
      " 55100.  4300. 27400. 28500. 27700. 30000. 29100. 21600. 27600. 17700.\n",
      " 14400. 28600. 20000. 40000. 19800. 37800. 22000. 27600. 26700. 30900.\n",
      " 29800. 28800. 26800. 32700. 40000. 29000. 23700. 28200. 19400. 26800.]\n"
     ]
    }
   ],
   "source": [
    "print(gdp)"
   ]
  },
  {
   "cell_type": "markdown",
   "metadata": {},
   "source": [
    "## File 2\n",
    "But back to genfromtxt.  Next now add the second row to your csv file of the lifespan. This is our secon file! You should have one column of gpd and one of lifespan.  Now rerun the genfromtxt and see what happens.   \n",
    "\n",
    "### I expect an error here and will see nan!"
   ]
  },
  {
   "cell_type": "code",
   "execution_count": 7,
   "metadata": {},
   "outputs": [],
   "source": [
    "gdp=np.genfromtxt('gdp_and_lifespan.csv')"
   ]
  },
  {
   "cell_type": "code",
   "execution_count": 8,
   "metadata": {},
   "outputs": [
    {
     "data": {
      "text/plain": [
       "array([nan, nan, nan, nan, nan, nan, nan, nan, nan, nan, nan, nan, nan,\n",
       "       nan, nan, nan, nan, nan, nan, nan, nan, nan, nan, nan, nan, nan,\n",
       "       nan, nan, nan, nan, nan, nan, nan, nan, nan, nan, nan, nan, nan,\n",
       "       nan, nan, nan, nan, nan, nan, nan, nan, nan, nan, nan, nan, nan,\n",
       "       nan, nan, nan, nan, nan, nan, nan, nan, nan, nan, nan, nan, nan,\n",
       "       nan, nan, nan, nan, nan, nan, nan, nan, nan, nan, nan, nan, nan,\n",
       "       nan, nan, nan, nan, nan, nan, nan, nan, nan, nan, nan, nan, nan,\n",
       "       nan, nan, nan, nan, nan, nan, nan, nan, nan, nan, nan, nan, nan,\n",
       "       nan, nan, nan, nan, nan, nan, nan, nan, nan, nan, nan, nan, nan,\n",
       "       nan, nan, nan, nan, nan, nan, nan, nan, nan, nan, nan, nan, nan,\n",
       "       nan, nan, nan, nan, nan, nan, nan, nan, nan, nan, nan, nan, nan,\n",
       "       nan, nan, nan, nan, nan, nan, nan, nan, nan, nan, nan, nan, nan,\n",
       "       nan, nan, nan, nan, nan, nan, nan, nan, nan, nan, nan, nan, nan,\n",
       "       nan, nan, nan, nan, nan, nan, nan, nan, nan, nan, nan])"
      ]
     },
     "execution_count": 8,
     "metadata": {},
     "output_type": "execute_result"
    }
   ],
   "source": [
    "gdp"
   ]
  },
  {
   "cell_type": "markdown",
   "metadata": {},
   "source": [
    "We are left with junk?  what happened?  You didn't account for the comma!"
   ]
  },
  {
   "cell_type": "code",
   "execution_count": 9,
   "metadata": {},
   "outputs": [
    {
     "name": "stdout",
     "output_type": "stream",
     "text": [
      "[[1.200e+03 3.130e+01]\n",
      " [9.000e+03 3.226e+01]\n",
      " [8.000e+02 3.525e+01]\n",
      " [3.000e+03 3.694e+01]\n",
      " [1.900e+03 3.696e+01]\n",
      " [6.000e+02 3.798e+01]\n",
      " [1.900e+03 3.901e+01]\n",
      " [1.300e+03 3.933e+01]\n",
      " [4.900e+03 3.947e+01]\n",
      " [7.000e+02 4.124e+01]\n",
      " [1.100e+03 4.171e+01]\n",
      " [8.000e+02 4.221e+01]\n",
      " [1.400e+03 4.265e+01]\n",
      " [7.200e+03 4.277e+01]\n",
      " [5.000e+02 4.284e+01]\n",
      " [6.000e+02 4.320e+01]\n",
      " [1.100e+03 4.446e+01]\n",
      " [6.000e+02 4.456e+01]\n",
      " [1.400e+03 4.488e+01]\n",
      " [1.000e+03 4.522e+01]\n",
      " [9.000e+02 4.543e+01]\n",
      " [1.070e+04 4.656e+01]\n",
      " [8.000e+02 4.697e+01]\n",
      " [8.000e+02 4.697e+01]\n",
      " [5.000e+02 4.734e+01]\n",
      " [1.800e+03 4.805e+01]\n",
      " [1.000e+03 4.815e+01]\n",
      " [1.200e+03 4.851e+01]\n",
      " [7.000e+02 4.893e+01]\n",
      " [2.100e+03 4.954e+01]\n",
      " [7.000e+02 5.002e+01]\n",
      " [9.000e+02 5.101e+01]\n",
      " [1.100e+03 5.108e+01]\n",
      " [1.600e+03 5.161e+01]\n",
      " [1.800e+03 5.193e+01]\n",
      " [1.500e+03 5.343e+01]\n",
      " [1.400e+03 5.358e+01]\n",
      " [1.700e+03 5.430e+01]\n",
      " [1.700e+03 5.438e+01]\n",
      " [1.800e+03 5.579e+01]\n",
      " [8.000e+02 5.614e+01]\n",
      " [1.600e+03 5.637e+01]\n",
      " [2.200e+03 5.653e+01]\n",
      " [5.500e+03 5.712e+01]\n",
      " [1.900e+03 5.773e+01]\n",
      " [1.900e+03 5.792e+01]\n",
      " [1.400e+03 5.900e+01]\n",
      " [2.600e+03 6.060e+01]\n",
      " [8.000e+02 6.097e+01]\n",
      " [5.800e+03 6.119e+01]\n",
      " [1.900e+03 6.133e+01]\n",
      " [2.900e+03 6.171e+01]\n",
      " [2.100e+03 6.220e+01]\n",
      " [4.000e+03 6.309e+01]\n",
      " [3.400e+03 6.316e+01]\n",
      " [6.300e+03 6.348e+01]\n",
      " [2.900e+03 6.362e+01]\n",
      " [1.600e+03 6.366e+01]\n",
      " [1.800e+03 6.381e+01]\n",
      " [1.700e+03 6.400e+01]\n",
      " [2.200e+03 6.419e+01]\n",
      " [1.000e+03 6.437e+01]\n",
      " [2.500e+03 6.476e+01]\n",
      " [2.400e+03 6.478e+01]\n",
      " [1.800e+03 6.488e+01]\n",
      " [4.100e+03 6.523e+01]\n",
      " [1.670e+04 6.571e+01]\n",
      " [1.200e+03 6.628e+01]\n",
      " [5.400e+03 6.650e+01]\n",
      " [2.600e+03 6.665e+01]\n",
      " [3.500e+03 6.668e+01]\n",
      " [8.900e+03 6.766e+01]\n",
      " [1.500e+03 6.781e+01]\n",
      " [6.000e+03 6.796e+01]\n",
      " [6.100e+03 6.843e+01]\n",
      " [1.180e+04 6.873e+01]\n",
      " [5.800e+03 6.888e+01]\n",
      " [3.200e+03 6.894e+01]\n",
      " [4.000e+03 6.923e+01]\n",
      " [4.600e+03 6.929e+01]\n",
      " [1.020e+04 6.931e+01]\n",
      " [7.000e+03 6.935e+01]\n",
      " [3.300e+03 6.939e+01]\n",
      " [9.500e+03 6.959e+01]\n",
      " [1.140e+04 6.960e+01]\n",
      " [2.300e+03 6.968e+01]\n",
      " [4.000e+03 7.004e+01]\n",
      " [2.500e+03 7.005e+01]\n",
      " [1.230e+04 7.031e+01]\n",
      " [4.000e+03 7.041e+01]\n",
      " [6.000e+03 7.054e+01]\n",
      " [4.800e+03 7.062e+01]\n",
      " [7.000e+03 7.062e+01]\n",
      " [1.300e+03 7.079e+01]\n",
      " [5.100e+03 7.088e+01]\n",
      " [7.600e+03 7.113e+01]\n",
      " [6.300e+03 7.114e+01]\n",
      " [7.400e+03 7.124e+01]\n",
      " [6.000e+02 7.140e+01]\n",
      " [9.000e+03 7.167e+01]\n",
      " [1.140e+04 7.180e+01]\n",
      " [7.600e+03 7.180e+01]\n",
      " [6.700e+03 7.180e+01]\n",
      " [1.570e+04 7.184e+01]\n",
      " [3.300e+03 7.189e+01]\n",
      " [4.800e+03 7.207e+01]\n",
      " [1.390e+04 7.217e+01]\n",
      " [5.000e+03 7.222e+01]\n",
      " [6.100e+03 7.229e+01]\n",
      " [9.000e+03 7.230e+01]\n",
      " [6.300e+03 7.232e+01]\n",
      " [4.500e+03 7.237e+01]\n",
      " [1.310e+04 7.258e+01]\n",
      " [3.700e+03 7.262e+01]\n",
      " [1.100e+03 7.268e+01]\n",
      " [2.150e+04 7.314e+01]\n",
      " [1.500e+04 7.352e+01]\n",
      " [1.690e+04 7.372e+01]\n",
      " [4.800e+03 7.381e+01]\n",
      " [1.110e+04 7.391e+01]\n",
      " [5.500e+03 7.412e+01]\n",
      " [2.360e+04 7.430e+01]\n",
      " [1.060e+04 7.437e+01]\n",
      " [4.700e+03 7.440e+01]\n",
      " [6.900e+03 7.440e+01]\n",
      " [1.330e+04 7.443e+01]\n",
      " [6.700e+03 7.449e+01]\n",
      " [2.320e+04 7.475e+01]\n",
      " [1.570e+04 7.518e+01]\n",
      " [1.780e+04 7.536e+01]\n",
      " [1.140e+04 7.538e+01]\n",
      " [1.750e+04 7.545e+01]\n",
      " [1.120e+04 7.548e+01]\n",
      " [1.900e+04 7.551e+01]\n",
      " [3.900e+03 7.585e+01]\n",
      " [1.280e+04 7.587e+01]\n",
      " [6.400e+03 7.607e+01]\n",
      " [1.800e+04 7.635e+01]\n",
      " [9.900e+03 7.635e+01]\n",
      " [9.100e+03 7.643e+01]\n",
      " [1.900e+04 7.665e+01]\n",
      " [8.300e+03 7.669e+01]\n",
      " [2.900e+03 7.680e+01]\n",
      " [2.340e+04 7.687e+01]\n",
      " [3.110e+04 7.710e+01]\n",
      " [3.780e+04 7.714e+01]\n",
      " [1.680e+04 7.726e+01]\n",
      " [2.960e+04 7.735e+01]\n",
      " [3.600e+04 7.741e+01]\n",
      " [7.900e+03 7.753e+01]\n",
      " [5.510e+04 7.766e+01]\n",
      " [4.300e+03 7.788e+01]\n",
      " [2.740e+04 7.792e+01]\n",
      " [2.850e+04 7.798e+01]\n",
      " [2.770e+04 7.816e+01]\n",
      " [3.000e+04 7.817e+01]\n",
      " [2.910e+04 7.829e+01]\n",
      " [2.160e+04 7.832e+01]\n",
      " [2.760e+04 7.842e+01]\n",
      " [1.770e+04 7.843e+01]\n",
      " [1.440e+04 7.872e+01]\n",
      " [2.860e+04 7.874e+01]\n",
      " [2.000e+04 7.889e+01]\n",
      " [4.000e+04 7.893e+01]\n",
      " [1.980e+04 7.902e+01]\n",
      " [3.780e+04 7.909e+01]\n",
      " [2.200e+04 7.923e+01]\n",
      " [2.760e+04 7.928e+01]\n",
      " [2.670e+04 7.940e+01]\n",
      " [3.090e+04 7.980e+01]\n",
      " [2.980e+04 7.983e+01]\n",
      " [2.880e+04 7.993e+01]\n",
      " [2.680e+04 7.997e+01]\n",
      " [3.270e+04 7.999e+01]\n",
      " [4.000e+04 8.004e+01]\n",
      " [2.900e+04 8.013e+01]\n",
      " [2.370e+04 8.042e+01]\n",
      " [2.820e+04 8.093e+01]\n",
      " [1.940e+04 8.187e+01]\n",
      " [2.680e+04 8.349e+01]]\n"
     ]
    }
   ],
   "source": [
    "gdp=np.genfromtxt('gdp_and_lifespan.csv',delimiter=',')\n",
    "print (gdp)"
   ]
  },
  {
   "cell_type": "markdown",
   "metadata": {},
   "source": [
    "We are using a csv file and genfromtxt didn't know that.  So we needed to tell it we were a csv file. "
   ]
  },
  {
   "cell_type": "markdown",
   "metadata": {},
   "source": [
    "## File 3\n",
    "\n",
    "Now lets try to the whole file with four colums and a header."
   ]
  },
  {
   "cell_type": "code",
   "execution_count": 10,
   "metadata": {},
   "outputs": [
    {
     "name": "stdout",
     "output_type": "stream",
     "text": [
      "[[      nan       nan       nan       nan]\n",
      " [      nan 2.003e+03 3.130e+01 1.200e+03]\n",
      " [      nan 2.003e+03 3.226e+01 9.000e+03]\n",
      " [      nan 2.003e+03 3.525e+01 8.000e+02]\n",
      " [      nan 2.003e+03 3.694e+01 3.000e+03]\n",
      " [      nan 2.003e+03 3.696e+01 1.900e+03]\n",
      " [      nan 2.003e+03 3.798e+01 6.000e+02]\n",
      " [      nan 2.003e+03 3.901e+01 1.900e+03]\n",
      " [      nan 2.003e+03 3.933e+01 1.300e+03]\n",
      " [      nan 2.003e+03 3.947e+01 4.900e+03]\n",
      " [      nan 2.003e+03 4.124e+01 7.000e+02]\n",
      " [      nan 2.003e+03 4.171e+01 1.100e+03]\n",
      " [      nan 2.003e+03 4.221e+01 8.000e+02]\n",
      " [      nan 2.003e+03 4.265e+01 1.400e+03]\n",
      " [      nan 2.003e+03 4.277e+01 7.200e+03]\n",
      " [      nan 2.003e+03 4.284e+01 5.000e+02]\n",
      " [      nan 2.003e+03 4.320e+01 6.000e+02]\n",
      " [      nan 2.003e+03 4.446e+01 1.100e+03]\n",
      " [      nan 2.003e+03 4.456e+01 6.000e+02]\n",
      " [      nan 2.003e+03 4.488e+01 1.400e+03]\n",
      " [      nan 2.003e+03 4.522e+01 1.000e+03]\n",
      " [      nan 2.003e+03 4.543e+01 9.000e+02]\n",
      " [      nan 2.003e+03 4.656e+01 1.070e+04]\n",
      " [      nan 2.003e+03 4.697e+01 8.000e+02]\n",
      " [      nan 2.003e+03 4.697e+01 8.000e+02]\n",
      " [      nan 2.003e+03 4.734e+01 5.000e+02]\n",
      " [      nan 2.003e+03 4.805e+01 1.800e+03]\n",
      " [      nan 2.003e+03 4.815e+01 1.000e+03]\n",
      " [      nan 2.003e+03 4.851e+01 1.200e+03]\n",
      " [      nan 2.003e+03 4.893e+01 7.000e+02]\n",
      " [      nan 2.003e+03 4.954e+01 2.100e+03]\n",
      " [      nan 2.003e+03 5.002e+01 7.000e+02]\n",
      " [      nan 2.003e+03 5.101e+01 9.000e+02]\n",
      " [      nan 2.003e+03 5.108e+01 1.100e+03]\n",
      " [      nan 2.003e+03 5.161e+01 1.600e+03]\n",
      " [      nan 2.003e+03 5.193e+01 1.800e+03]\n",
      " [      nan 2.003e+03 5.343e+01 1.500e+03]\n",
      " [      nan 2.003e+03 5.358e+01 1.400e+03]\n",
      " [      nan 2.003e+03 5.430e+01 1.700e+03]\n",
      " [      nan 2.003e+03 5.438e+01 1.700e+03]\n",
      " [      nan 2.003e+03 5.579e+01 1.800e+03]\n",
      " [      nan 2.003e+03 5.614e+01 8.000e+02]\n",
      " [      nan 2.003e+03 5.637e+01 1.600e+03]\n",
      " [      nan 2.003e+03 5.653e+01 2.200e+03]\n",
      " [      nan 2.003e+03 5.712e+01 5.500e+03]\n",
      " [      nan 2.003e+03 5.773e+01 1.900e+03]\n",
      " [      nan 2.003e+03 5.792e+01 1.900e+03]\n",
      " [      nan 2.003e+03 5.900e+01 1.400e+03]\n",
      " [      nan 2.003e+03 6.060e+01 2.600e+03]\n",
      " [      nan 2.003e+03 6.097e+01 8.000e+02]\n",
      " [      nan 2.003e+03 6.119e+01 5.800e+03]\n",
      " [      nan 2.003e+03 6.133e+01 1.900e+03]\n",
      " [      nan 2.003e+03 6.171e+01 2.900e+03]\n",
      " [      nan 2.003e+03 6.220e+01 2.100e+03]\n",
      " [      nan 2.003e+03 6.309e+01 4.000e+03]\n",
      " [      nan 2.003e+03 6.316e+01 3.400e+03]\n",
      " [      nan 2.003e+03 6.348e+01 6.300e+03]\n",
      " [      nan 2.003e+03 6.362e+01 2.900e+03]\n",
      " [      nan 2.003e+03 6.366e+01 1.600e+03]\n",
      " [      nan 2.003e+03 6.381e+01 1.800e+03]\n",
      " [      nan 2.003e+03 6.400e+01 1.700e+03]\n",
      " [      nan 2.003e+03 6.419e+01 2.200e+03]\n",
      " [      nan 2.003e+03 6.437e+01 1.000e+03]\n",
      " [      nan 2.003e+03 6.476e+01 2.500e+03]\n",
      " [      nan 2.003e+03 6.478e+01 2.400e+03]\n",
      " [      nan 2.003e+03 6.488e+01 1.800e+03]\n",
      " [      nan 2.003e+03 6.523e+01 4.100e+03]\n",
      " [      nan 2.003e+03 6.571e+01 1.670e+04]\n",
      " [      nan 2.003e+03 6.628e+01 1.200e+03]\n",
      " [      nan 2.003e+03 6.650e+01 5.400e+03]\n",
      " [      nan 2.003e+03 6.665e+01 2.600e+03]\n",
      " [      nan 2.003e+03 6.668e+01 3.500e+03]\n",
      " [      nan 2.003e+03 6.766e+01 8.900e+03]\n",
      " [      nan 2.003e+03 6.781e+01 1.500e+03]\n",
      " [      nan 2.003e+03 6.796e+01 6.000e+03]\n",
      " [      nan 2.003e+03 6.843e+01 6.100e+03]\n",
      " [      nan 2.003e+03 6.873e+01 1.180e+04]\n",
      " [      nan 2.003e+03 6.888e+01 5.800e+03]\n",
      " [      nan 2.003e+03 6.894e+01 3.200e+03]\n",
      " [      nan 2.003e+03 6.923e+01 4.000e+03]\n",
      " [      nan 2.003e+03 6.929e+01 4.600e+03]\n",
      " [      nan 2.003e+03 6.931e+01 1.020e+04]\n",
      " [      nan 2.003e+03 6.935e+01 7.000e+03]\n",
      " [      nan 2.003e+03 6.939e+01 3.300e+03]\n",
      " [      nan 2.003e+03 6.959e+01 9.500e+03]\n",
      " [      nan 2.003e+03 6.960e+01 1.140e+04]\n",
      " [      nan 2.003e+03 6.968e+01 2.300e+03]\n",
      " [      nan 2.003e+03 7.004e+01 4.000e+03]\n",
      " [      nan 2.003e+03 7.005e+01 2.500e+03]\n",
      " [      nan 2.003e+03 7.031e+01 1.230e+04]\n",
      " [      nan 2.003e+03 7.041e+01 4.000e+03]\n",
      " [      nan 2.003e+03 7.054e+01 6.000e+03]\n",
      " [      nan 2.003e+03 7.062e+01 4.800e+03]\n",
      " [      nan 2.003e+03 7.062e+01 7.000e+03]\n",
      " [      nan 2.003e+03 7.079e+01 1.300e+03]\n",
      " [      nan 2.003e+03 7.088e+01 5.100e+03]\n",
      " [      nan 2.003e+03 7.113e+01 7.600e+03]\n",
      " [      nan 2.003e+03 7.114e+01 6.300e+03]\n",
      " [      nan 2.003e+03 7.124e+01 7.400e+03]\n",
      " [      nan 2.003e+03 7.140e+01 6.000e+02]\n",
      " [      nan 2.003e+03 7.167e+01 9.000e+03]\n",
      " [      nan 2.003e+03 7.180e+01 1.140e+04]\n",
      " [      nan 2.003e+03 7.180e+01 7.600e+03]\n",
      " [      nan 2.003e+03 7.180e+01 6.700e+03]\n",
      " [      nan 2.003e+03 7.184e+01 1.570e+04]\n",
      " [      nan 2.003e+03 7.189e+01 3.300e+03]\n",
      " [      nan 2.003e+03 7.207e+01 4.800e+03]\n",
      " [      nan 2.003e+03 7.217e+01 1.390e+04]\n",
      " [      nan 2.003e+03 7.222e+01 5.000e+03]\n",
      " [      nan 2.003e+03 7.229e+01 6.100e+03]\n",
      " [      nan 2.003e+03 7.230e+01 9.000e+03]\n",
      " [      nan 2.003e+03 7.232e+01 6.300e+03]\n",
      " [      nan 2.003e+03 7.237e+01 4.500e+03]\n",
      " [      nan 2.003e+03 7.258e+01 1.310e+04]\n",
      " [      nan 2.003e+03 7.262e+01 3.700e+03]\n",
      " [      nan 2.003e+03 7.268e+01 1.100e+03]\n",
      " [      nan 2.003e+03 7.314e+01 2.150e+04]\n",
      " [      nan 2.003e+03 7.352e+01 1.500e+04]\n",
      " [      nan 2.003e+03 7.372e+01 1.690e+04]\n",
      " [      nan 2.003e+03 7.381e+01 4.800e+03]\n",
      " [      nan 2.003e+03 7.391e+01 1.110e+04]\n",
      " [      nan 2.003e+03 7.412e+01 5.500e+03]\n",
      " [      nan 2.003e+03 7.430e+01 2.360e+04]\n",
      " [      nan 2.003e+03 7.437e+01 1.060e+04]\n",
      " [      nan 2.003e+03 7.440e+01 4.700e+03]\n",
      " [      nan 2.003e+03 7.440e+01 6.900e+03]\n",
      " [      nan 2.003e+03 7.443e+01 1.330e+04]\n",
      " [      nan 2.003e+03 7.449e+01 6.700e+03]\n",
      " [      nan 2.003e+03 7.475e+01 2.320e+04]\n",
      " [      nan 2.003e+03 7.518e+01 1.570e+04]\n",
      " [      nan 2.003e+03 7.536e+01 1.780e+04]\n",
      " [      nan 2.003e+03 7.538e+01 1.140e+04]\n",
      " [      nan 2.003e+03 7.545e+01 1.750e+04]\n",
      " [      nan 2.003e+03 7.548e+01 1.120e+04]\n",
      " [      nan 2.003e+03 7.551e+01 1.900e+04]\n",
      " [      nan 2.003e+03 7.585e+01 3.900e+03]\n",
      " [      nan 2.003e+03 7.587e+01 1.280e+04]\n",
      " [      nan 2.003e+03 7.607e+01 6.400e+03]\n",
      " [      nan 2.003e+03 7.635e+01 1.800e+04]\n",
      " [      nan 2.003e+03 7.635e+01 9.900e+03]\n",
      " [      nan 2.003e+03 7.643e+01 9.100e+03]\n",
      " [      nan 2.003e+03 7.665e+01 1.900e+04]\n",
      " [      nan 2.003e+03 7.669e+01 8.300e+03]\n",
      " [      nan 2.003e+03 7.680e+01 2.900e+03]\n",
      " [      nan 2.003e+03 7.687e+01 2.340e+04]\n",
      " [      nan 2.003e+03 7.710e+01 3.110e+04]\n",
      " [      nan 2.003e+03 7.714e+01 3.780e+04]\n",
      " [      nan 2.003e+03 7.726e+01 1.680e+04]\n",
      " [      nan 2.003e+03 7.735e+01 2.960e+04]\n",
      " [      nan 2.003e+03 7.741e+01 3.600e+04]\n",
      " [      nan 2.003e+03 7.753e+01 7.900e+03]\n",
      " [      nan 2.003e+03 7.766e+01 5.510e+04]\n",
      " [      nan 2.003e+03 7.788e+01 4.300e+03]\n",
      " [      nan 2.003e+03 7.792e+01 2.740e+04]\n",
      " [      nan 2.003e+03 7.798e+01 2.850e+04]\n",
      " [      nan 2.003e+03 7.816e+01 2.770e+04]\n",
      " [      nan 2.003e+03 7.817e+01 3.000e+04]\n",
      " [      nan 2.003e+03 7.829e+01 2.910e+04]\n",
      " [      nan 2.003e+03 7.832e+01 2.160e+04]\n",
      " [      nan 2.003e+03 7.842e+01 2.760e+04]\n",
      " [      nan 2.003e+03 7.843e+01 1.770e+04]\n",
      " [      nan 2.003e+03 7.872e+01 1.440e+04]\n",
      " [      nan 2.003e+03 7.874e+01 2.860e+04]\n",
      " [      nan 2.003e+03 7.889e+01 2.000e+04]\n",
      " [      nan 2.003e+03 7.893e+01 4.000e+04]\n",
      " [      nan 2.003e+03 7.902e+01 1.980e+04]\n",
      " [      nan 2.003e+03 7.909e+01 3.780e+04]\n",
      " [      nan 2.003e+03 7.923e+01 2.200e+04]\n",
      " [      nan 2.003e+03 7.928e+01 2.760e+04]\n",
      " [      nan 2.003e+03 7.940e+01 2.670e+04]\n",
      " [      nan 2.003e+03 7.980e+01 3.090e+04]\n",
      " [      nan 2.003e+03 7.983e+01 2.980e+04]\n",
      " [      nan 2.003e+03 7.993e+01 2.880e+04]\n",
      " [      nan 2.003e+03 7.997e+01 2.680e+04]\n",
      " [      nan 2.003e+03 7.999e+01 3.270e+04]\n",
      " [      nan 2.003e+03 8.004e+01 4.000e+04]\n",
      " [      nan 2.003e+03 8.013e+01 2.900e+04]\n",
      " [      nan 2.003e+03 8.042e+01 2.370e+04]\n",
      " [      nan 2.003e+03 8.093e+01 2.820e+04]\n",
      " [      nan 2.003e+03 8.187e+01 1.940e+04]\n",
      " [      nan 2.003e+03 8.349e+01 2.680e+04]]\n"
     ]
    }
   ],
   "source": [
    "data=np.genfromtxt('GDP_Lifespan_all_data.csv',delimiter=',')\n",
    "print (data)"
   ]
  },
  {
   "cell_type": "markdown",
   "metadata": {},
   "source": [
    "But this doesn't look good we have all these nan's which mean not a number. plus we don't want the first row anway.  so looking at the data we don't want the first header row.  We will keep track of the names ourselves.  so we can use a skip_header to ignore the first row."
   ]
  },
  {
   "cell_type": "code",
   "execution_count": 11,
   "metadata": {},
   "outputs": [
    {
     "name": "stdout",
     "output_type": "stream",
     "text": [
      "[[      nan 2.003e+03 3.130e+01 1.200e+03]\n",
      " [      nan 2.003e+03 3.226e+01 9.000e+03]\n",
      " [      nan 2.003e+03 3.525e+01 8.000e+02]\n",
      " [      nan 2.003e+03 3.694e+01 3.000e+03]\n",
      " [      nan 2.003e+03 3.696e+01 1.900e+03]\n",
      " [      nan 2.003e+03 3.798e+01 6.000e+02]\n",
      " [      nan 2.003e+03 3.901e+01 1.900e+03]\n",
      " [      nan 2.003e+03 3.933e+01 1.300e+03]\n",
      " [      nan 2.003e+03 3.947e+01 4.900e+03]\n",
      " [      nan 2.003e+03 4.124e+01 7.000e+02]\n",
      " [      nan 2.003e+03 4.171e+01 1.100e+03]\n",
      " [      nan 2.003e+03 4.221e+01 8.000e+02]\n",
      " [      nan 2.003e+03 4.265e+01 1.400e+03]\n",
      " [      nan 2.003e+03 4.277e+01 7.200e+03]\n",
      " [      nan 2.003e+03 4.284e+01 5.000e+02]\n",
      " [      nan 2.003e+03 4.320e+01 6.000e+02]\n",
      " [      nan 2.003e+03 4.446e+01 1.100e+03]\n",
      " [      nan 2.003e+03 4.456e+01 6.000e+02]\n",
      " [      nan 2.003e+03 4.488e+01 1.400e+03]\n",
      " [      nan 2.003e+03 4.522e+01 1.000e+03]\n",
      " [      nan 2.003e+03 4.543e+01 9.000e+02]\n",
      " [      nan 2.003e+03 4.656e+01 1.070e+04]\n",
      " [      nan 2.003e+03 4.697e+01 8.000e+02]\n",
      " [      nan 2.003e+03 4.697e+01 8.000e+02]\n",
      " [      nan 2.003e+03 4.734e+01 5.000e+02]\n",
      " [      nan 2.003e+03 4.805e+01 1.800e+03]\n",
      " [      nan 2.003e+03 4.815e+01 1.000e+03]\n",
      " [      nan 2.003e+03 4.851e+01 1.200e+03]\n",
      " [      nan 2.003e+03 4.893e+01 7.000e+02]\n",
      " [      nan 2.003e+03 4.954e+01 2.100e+03]\n",
      " [      nan 2.003e+03 5.002e+01 7.000e+02]\n",
      " [      nan 2.003e+03 5.101e+01 9.000e+02]\n",
      " [      nan 2.003e+03 5.108e+01 1.100e+03]\n",
      " [      nan 2.003e+03 5.161e+01 1.600e+03]\n",
      " [      nan 2.003e+03 5.193e+01 1.800e+03]\n",
      " [      nan 2.003e+03 5.343e+01 1.500e+03]\n",
      " [      nan 2.003e+03 5.358e+01 1.400e+03]\n",
      " [      nan 2.003e+03 5.430e+01 1.700e+03]\n",
      " [      nan 2.003e+03 5.438e+01 1.700e+03]\n",
      " [      nan 2.003e+03 5.579e+01 1.800e+03]\n",
      " [      nan 2.003e+03 5.614e+01 8.000e+02]\n",
      " [      nan 2.003e+03 5.637e+01 1.600e+03]\n",
      " [      nan 2.003e+03 5.653e+01 2.200e+03]\n",
      " [      nan 2.003e+03 5.712e+01 5.500e+03]\n",
      " [      nan 2.003e+03 5.773e+01 1.900e+03]\n",
      " [      nan 2.003e+03 5.792e+01 1.900e+03]\n",
      " [      nan 2.003e+03 5.900e+01 1.400e+03]\n",
      " [      nan 2.003e+03 6.060e+01 2.600e+03]\n",
      " [      nan 2.003e+03 6.097e+01 8.000e+02]\n",
      " [      nan 2.003e+03 6.119e+01 5.800e+03]\n",
      " [      nan 2.003e+03 6.133e+01 1.900e+03]\n",
      " [      nan 2.003e+03 6.171e+01 2.900e+03]\n",
      " [      nan 2.003e+03 6.220e+01 2.100e+03]\n",
      " [      nan 2.003e+03 6.309e+01 4.000e+03]\n",
      " [      nan 2.003e+03 6.316e+01 3.400e+03]\n",
      " [      nan 2.003e+03 6.348e+01 6.300e+03]\n",
      " [      nan 2.003e+03 6.362e+01 2.900e+03]\n",
      " [      nan 2.003e+03 6.366e+01 1.600e+03]\n",
      " [      nan 2.003e+03 6.381e+01 1.800e+03]\n",
      " [      nan 2.003e+03 6.400e+01 1.700e+03]\n",
      " [      nan 2.003e+03 6.419e+01 2.200e+03]\n",
      " [      nan 2.003e+03 6.437e+01 1.000e+03]\n",
      " [      nan 2.003e+03 6.476e+01 2.500e+03]\n",
      " [      nan 2.003e+03 6.478e+01 2.400e+03]\n",
      " [      nan 2.003e+03 6.488e+01 1.800e+03]\n",
      " [      nan 2.003e+03 6.523e+01 4.100e+03]\n",
      " [      nan 2.003e+03 6.571e+01 1.670e+04]\n",
      " [      nan 2.003e+03 6.628e+01 1.200e+03]\n",
      " [      nan 2.003e+03 6.650e+01 5.400e+03]\n",
      " [      nan 2.003e+03 6.665e+01 2.600e+03]\n",
      " [      nan 2.003e+03 6.668e+01 3.500e+03]\n",
      " [      nan 2.003e+03 6.766e+01 8.900e+03]\n",
      " [      nan 2.003e+03 6.781e+01 1.500e+03]\n",
      " [      nan 2.003e+03 6.796e+01 6.000e+03]\n",
      " [      nan 2.003e+03 6.843e+01 6.100e+03]\n",
      " [      nan 2.003e+03 6.873e+01 1.180e+04]\n",
      " [      nan 2.003e+03 6.888e+01 5.800e+03]\n",
      " [      nan 2.003e+03 6.894e+01 3.200e+03]\n",
      " [      nan 2.003e+03 6.923e+01 4.000e+03]\n",
      " [      nan 2.003e+03 6.929e+01 4.600e+03]\n",
      " [      nan 2.003e+03 6.931e+01 1.020e+04]\n",
      " [      nan 2.003e+03 6.935e+01 7.000e+03]\n",
      " [      nan 2.003e+03 6.939e+01 3.300e+03]\n",
      " [      nan 2.003e+03 6.959e+01 9.500e+03]\n",
      " [      nan 2.003e+03 6.960e+01 1.140e+04]\n",
      " [      nan 2.003e+03 6.968e+01 2.300e+03]\n",
      " [      nan 2.003e+03 7.004e+01 4.000e+03]\n",
      " [      nan 2.003e+03 7.005e+01 2.500e+03]\n",
      " [      nan 2.003e+03 7.031e+01 1.230e+04]\n",
      " [      nan 2.003e+03 7.041e+01 4.000e+03]\n",
      " [      nan 2.003e+03 7.054e+01 6.000e+03]\n",
      " [      nan 2.003e+03 7.062e+01 4.800e+03]\n",
      " [      nan 2.003e+03 7.062e+01 7.000e+03]\n",
      " [      nan 2.003e+03 7.079e+01 1.300e+03]\n",
      " [      nan 2.003e+03 7.088e+01 5.100e+03]\n",
      " [      nan 2.003e+03 7.113e+01 7.600e+03]\n",
      " [      nan 2.003e+03 7.114e+01 6.300e+03]\n",
      " [      nan 2.003e+03 7.124e+01 7.400e+03]\n",
      " [      nan 2.003e+03 7.140e+01 6.000e+02]\n",
      " [      nan 2.003e+03 7.167e+01 9.000e+03]\n",
      " [      nan 2.003e+03 7.180e+01 1.140e+04]\n",
      " [      nan 2.003e+03 7.180e+01 7.600e+03]\n",
      " [      nan 2.003e+03 7.180e+01 6.700e+03]\n",
      " [      nan 2.003e+03 7.184e+01 1.570e+04]\n",
      " [      nan 2.003e+03 7.189e+01 3.300e+03]\n",
      " [      nan 2.003e+03 7.207e+01 4.800e+03]\n",
      " [      nan 2.003e+03 7.217e+01 1.390e+04]\n",
      " [      nan 2.003e+03 7.222e+01 5.000e+03]\n",
      " [      nan 2.003e+03 7.229e+01 6.100e+03]\n",
      " [      nan 2.003e+03 7.230e+01 9.000e+03]\n",
      " [      nan 2.003e+03 7.232e+01 6.300e+03]\n",
      " [      nan 2.003e+03 7.237e+01 4.500e+03]\n",
      " [      nan 2.003e+03 7.258e+01 1.310e+04]\n",
      " [      nan 2.003e+03 7.262e+01 3.700e+03]\n",
      " [      nan 2.003e+03 7.268e+01 1.100e+03]\n",
      " [      nan 2.003e+03 7.314e+01 2.150e+04]\n",
      " [      nan 2.003e+03 7.352e+01 1.500e+04]\n",
      " [      nan 2.003e+03 7.372e+01 1.690e+04]\n",
      " [      nan 2.003e+03 7.381e+01 4.800e+03]\n",
      " [      nan 2.003e+03 7.391e+01 1.110e+04]\n",
      " [      nan 2.003e+03 7.412e+01 5.500e+03]\n",
      " [      nan 2.003e+03 7.430e+01 2.360e+04]\n",
      " [      nan 2.003e+03 7.437e+01 1.060e+04]\n",
      " [      nan 2.003e+03 7.440e+01 4.700e+03]\n",
      " [      nan 2.003e+03 7.440e+01 6.900e+03]\n",
      " [      nan 2.003e+03 7.443e+01 1.330e+04]\n",
      " [      nan 2.003e+03 7.449e+01 6.700e+03]\n",
      " [      nan 2.003e+03 7.475e+01 2.320e+04]\n",
      " [      nan 2.003e+03 7.518e+01 1.570e+04]\n",
      " [      nan 2.003e+03 7.536e+01 1.780e+04]\n",
      " [      nan 2.003e+03 7.538e+01 1.140e+04]\n",
      " [      nan 2.003e+03 7.545e+01 1.750e+04]\n",
      " [      nan 2.003e+03 7.548e+01 1.120e+04]\n",
      " [      nan 2.003e+03 7.551e+01 1.900e+04]\n",
      " [      nan 2.003e+03 7.585e+01 3.900e+03]\n",
      " [      nan 2.003e+03 7.587e+01 1.280e+04]\n",
      " [      nan 2.003e+03 7.607e+01 6.400e+03]\n",
      " [      nan 2.003e+03 7.635e+01 1.800e+04]\n",
      " [      nan 2.003e+03 7.635e+01 9.900e+03]\n",
      " [      nan 2.003e+03 7.643e+01 9.100e+03]\n",
      " [      nan 2.003e+03 7.665e+01 1.900e+04]\n",
      " [      nan 2.003e+03 7.669e+01 8.300e+03]\n",
      " [      nan 2.003e+03 7.680e+01 2.900e+03]\n",
      " [      nan 2.003e+03 7.687e+01 2.340e+04]\n",
      " [      nan 2.003e+03 7.710e+01 3.110e+04]\n",
      " [      nan 2.003e+03 7.714e+01 3.780e+04]\n",
      " [      nan 2.003e+03 7.726e+01 1.680e+04]\n",
      " [      nan 2.003e+03 7.735e+01 2.960e+04]\n",
      " [      nan 2.003e+03 7.741e+01 3.600e+04]\n",
      " [      nan 2.003e+03 7.753e+01 7.900e+03]\n",
      " [      nan 2.003e+03 7.766e+01 5.510e+04]\n",
      " [      nan 2.003e+03 7.788e+01 4.300e+03]\n",
      " [      nan 2.003e+03 7.792e+01 2.740e+04]\n",
      " [      nan 2.003e+03 7.798e+01 2.850e+04]\n",
      " [      nan 2.003e+03 7.816e+01 2.770e+04]\n",
      " [      nan 2.003e+03 7.817e+01 3.000e+04]\n",
      " [      nan 2.003e+03 7.829e+01 2.910e+04]\n",
      " [      nan 2.003e+03 7.832e+01 2.160e+04]\n",
      " [      nan 2.003e+03 7.842e+01 2.760e+04]\n",
      " [      nan 2.003e+03 7.843e+01 1.770e+04]\n",
      " [      nan 2.003e+03 7.872e+01 1.440e+04]\n",
      " [      nan 2.003e+03 7.874e+01 2.860e+04]\n",
      " [      nan 2.003e+03 7.889e+01 2.000e+04]\n",
      " [      nan 2.003e+03 7.893e+01 4.000e+04]\n",
      " [      nan 2.003e+03 7.902e+01 1.980e+04]\n",
      " [      nan 2.003e+03 7.909e+01 3.780e+04]\n",
      " [      nan 2.003e+03 7.923e+01 2.200e+04]\n",
      " [      nan 2.003e+03 7.928e+01 2.760e+04]\n",
      " [      nan 2.003e+03 7.940e+01 2.670e+04]\n",
      " [      nan 2.003e+03 7.980e+01 3.090e+04]\n",
      " [      nan 2.003e+03 7.983e+01 2.980e+04]\n",
      " [      nan 2.003e+03 7.993e+01 2.880e+04]\n",
      " [      nan 2.003e+03 7.997e+01 2.680e+04]\n",
      " [      nan 2.003e+03 7.999e+01 3.270e+04]\n",
      " [      nan 2.003e+03 8.004e+01 4.000e+04]\n",
      " [      nan 2.003e+03 8.013e+01 2.900e+04]\n",
      " [      nan 2.003e+03 8.042e+01 2.370e+04]\n",
      " [      nan 2.003e+03 8.093e+01 2.820e+04]\n",
      " [      nan 2.003e+03 8.187e+01 1.940e+04]\n",
      " [      nan 2.003e+03 8.349e+01 2.680e+04]]\n"
     ]
    }
   ],
   "source": [
    "data=np.genfromtxt('GDP_Lifespan_all_data.csv',delimiter=','\\\n",
    "                   ,skip_header=1)\n",
    "print (data)"
   ]
  },
  {
   "cell_type": "markdown",
   "metadata": {},
   "source": [
    "But we don't want the first two colums so we could skip those also using usecols.  \n",
    "\n",
    "## Side note for homework!  \n",
    "We will learn more about this later. But make sure the data you use for homework has all numbers and no missing data.  If data is missing delete that line so you don't get nan.  "
   ]
  },
  {
   "cell_type": "code",
   "execution_count": 12,
   "metadata": {},
   "outputs": [
    {
     "name": "stdout",
     "output_type": "stream",
     "text": [
      "[[3.130e+01 1.200e+03]\n",
      " [3.226e+01 9.000e+03]\n",
      " [3.525e+01 8.000e+02]\n",
      " [3.694e+01 3.000e+03]\n",
      " [3.696e+01 1.900e+03]\n",
      " [3.798e+01 6.000e+02]\n",
      " [3.901e+01 1.900e+03]\n",
      " [3.933e+01 1.300e+03]\n",
      " [3.947e+01 4.900e+03]\n",
      " [4.124e+01 7.000e+02]\n",
      " [4.171e+01 1.100e+03]\n",
      " [4.221e+01 8.000e+02]\n",
      " [4.265e+01 1.400e+03]\n",
      " [4.277e+01 7.200e+03]\n",
      " [4.284e+01 5.000e+02]\n",
      " [4.320e+01 6.000e+02]\n",
      " [4.446e+01 1.100e+03]\n",
      " [4.456e+01 6.000e+02]\n",
      " [4.488e+01 1.400e+03]\n",
      " [4.522e+01 1.000e+03]\n",
      " [4.543e+01 9.000e+02]\n",
      " [4.656e+01 1.070e+04]\n",
      " [4.697e+01 8.000e+02]\n",
      " [4.697e+01 8.000e+02]\n",
      " [4.734e+01 5.000e+02]\n",
      " [4.805e+01 1.800e+03]\n",
      " [4.815e+01 1.000e+03]\n",
      " [4.851e+01 1.200e+03]\n",
      " [4.893e+01 7.000e+02]\n",
      " [4.954e+01 2.100e+03]\n",
      " [5.002e+01 7.000e+02]\n",
      " [5.101e+01 9.000e+02]\n",
      " [5.108e+01 1.100e+03]\n",
      " [5.161e+01 1.600e+03]\n",
      " [5.193e+01 1.800e+03]\n",
      " [5.343e+01 1.500e+03]\n",
      " [5.358e+01 1.400e+03]\n",
      " [5.430e+01 1.700e+03]\n",
      " [5.438e+01 1.700e+03]\n",
      " [5.579e+01 1.800e+03]\n",
      " [5.614e+01 8.000e+02]\n",
      " [5.637e+01 1.600e+03]\n",
      " [5.653e+01 2.200e+03]\n",
      " [5.712e+01 5.500e+03]\n",
      " [5.773e+01 1.900e+03]\n",
      " [5.792e+01 1.900e+03]\n",
      " [5.900e+01 1.400e+03]\n",
      " [6.060e+01 2.600e+03]\n",
      " [6.097e+01 8.000e+02]\n",
      " [6.119e+01 5.800e+03]\n",
      " [6.133e+01 1.900e+03]\n",
      " [6.171e+01 2.900e+03]\n",
      " [6.220e+01 2.100e+03]\n",
      " [6.309e+01 4.000e+03]\n",
      " [6.316e+01 3.400e+03]\n",
      " [6.348e+01 6.300e+03]\n",
      " [6.362e+01 2.900e+03]\n",
      " [6.366e+01 1.600e+03]\n",
      " [6.381e+01 1.800e+03]\n",
      " [6.400e+01 1.700e+03]\n",
      " [6.419e+01 2.200e+03]\n",
      " [6.437e+01 1.000e+03]\n",
      " [6.476e+01 2.500e+03]\n",
      " [6.478e+01 2.400e+03]\n",
      " [6.488e+01 1.800e+03]\n",
      " [6.523e+01 4.100e+03]\n",
      " [6.571e+01 1.670e+04]\n",
      " [6.628e+01 1.200e+03]\n",
      " [6.650e+01 5.400e+03]\n",
      " [6.665e+01 2.600e+03]\n",
      " [6.668e+01 3.500e+03]\n",
      " [6.766e+01 8.900e+03]\n",
      " [6.781e+01 1.500e+03]\n",
      " [6.796e+01 6.000e+03]\n",
      " [6.843e+01 6.100e+03]\n",
      " [6.873e+01 1.180e+04]\n",
      " [6.888e+01 5.800e+03]\n",
      " [6.894e+01 3.200e+03]\n",
      " [6.923e+01 4.000e+03]\n",
      " [6.929e+01 4.600e+03]\n",
      " [6.931e+01 1.020e+04]\n",
      " [6.935e+01 7.000e+03]\n",
      " [6.939e+01 3.300e+03]\n",
      " [6.959e+01 9.500e+03]\n",
      " [6.960e+01 1.140e+04]\n",
      " [6.968e+01 2.300e+03]\n",
      " [7.004e+01 4.000e+03]\n",
      " [7.005e+01 2.500e+03]\n",
      " [7.031e+01 1.230e+04]\n",
      " [7.041e+01 4.000e+03]\n",
      " [7.054e+01 6.000e+03]\n",
      " [7.062e+01 4.800e+03]\n",
      " [7.062e+01 7.000e+03]\n",
      " [7.079e+01 1.300e+03]\n",
      " [7.088e+01 5.100e+03]\n",
      " [7.113e+01 7.600e+03]\n",
      " [7.114e+01 6.300e+03]\n",
      " [7.124e+01 7.400e+03]\n",
      " [7.140e+01 6.000e+02]\n",
      " [7.167e+01 9.000e+03]\n",
      " [7.180e+01 1.140e+04]\n",
      " [7.180e+01 7.600e+03]\n",
      " [7.180e+01 6.700e+03]\n",
      " [7.184e+01 1.570e+04]\n",
      " [7.189e+01 3.300e+03]\n",
      " [7.207e+01 4.800e+03]\n",
      " [7.217e+01 1.390e+04]\n",
      " [7.222e+01 5.000e+03]\n",
      " [7.229e+01 6.100e+03]\n",
      " [7.230e+01 9.000e+03]\n",
      " [7.232e+01 6.300e+03]\n",
      " [7.237e+01 4.500e+03]\n",
      " [7.258e+01 1.310e+04]\n",
      " [7.262e+01 3.700e+03]\n",
      " [7.268e+01 1.100e+03]\n",
      " [7.314e+01 2.150e+04]\n",
      " [7.352e+01 1.500e+04]\n",
      " [7.372e+01 1.690e+04]\n",
      " [7.381e+01 4.800e+03]\n",
      " [7.391e+01 1.110e+04]\n",
      " [7.412e+01 5.500e+03]\n",
      " [7.430e+01 2.360e+04]\n",
      " [7.437e+01 1.060e+04]\n",
      " [7.440e+01 4.700e+03]\n",
      " [7.440e+01 6.900e+03]\n",
      " [7.443e+01 1.330e+04]\n",
      " [7.449e+01 6.700e+03]\n",
      " [7.475e+01 2.320e+04]\n",
      " [7.518e+01 1.570e+04]\n",
      " [7.536e+01 1.780e+04]\n",
      " [7.538e+01 1.140e+04]\n",
      " [7.545e+01 1.750e+04]\n",
      " [7.548e+01 1.120e+04]\n",
      " [7.551e+01 1.900e+04]\n",
      " [7.585e+01 3.900e+03]\n",
      " [7.587e+01 1.280e+04]\n",
      " [7.607e+01 6.400e+03]\n",
      " [7.635e+01 1.800e+04]\n",
      " [7.635e+01 9.900e+03]\n",
      " [7.643e+01 9.100e+03]\n",
      " [7.665e+01 1.900e+04]\n",
      " [7.669e+01 8.300e+03]\n",
      " [7.680e+01 2.900e+03]\n",
      " [7.687e+01 2.340e+04]\n",
      " [7.710e+01 3.110e+04]\n",
      " [7.714e+01 3.780e+04]\n",
      " [7.726e+01 1.680e+04]\n",
      " [7.735e+01 2.960e+04]\n",
      " [7.741e+01 3.600e+04]\n",
      " [7.753e+01 7.900e+03]\n",
      " [7.766e+01 5.510e+04]\n",
      " [7.788e+01 4.300e+03]\n",
      " [7.792e+01 2.740e+04]\n",
      " [7.798e+01 2.850e+04]\n",
      " [7.816e+01 2.770e+04]\n",
      " [7.817e+01 3.000e+04]\n",
      " [7.829e+01 2.910e+04]\n",
      " [7.832e+01 2.160e+04]\n",
      " [7.842e+01 2.760e+04]\n",
      " [7.843e+01 1.770e+04]\n",
      " [7.872e+01 1.440e+04]\n",
      " [7.874e+01 2.860e+04]\n",
      " [7.889e+01 2.000e+04]\n",
      " [7.893e+01 4.000e+04]\n",
      " [7.902e+01 1.980e+04]\n",
      " [7.909e+01 3.780e+04]\n",
      " [7.923e+01 2.200e+04]\n",
      " [7.928e+01 2.760e+04]\n",
      " [7.940e+01 2.670e+04]\n",
      " [7.980e+01 3.090e+04]\n",
      " [7.983e+01 2.980e+04]\n",
      " [7.993e+01 2.880e+04]\n",
      " [7.997e+01 2.680e+04]\n",
      " [7.999e+01 3.270e+04]\n",
      " [8.004e+01 4.000e+04]\n",
      " [8.013e+01 2.900e+04]\n",
      " [8.042e+01 2.370e+04]\n",
      " [8.093e+01 2.820e+04]\n",
      " [8.187e+01 1.940e+04]\n",
      " [8.349e+01 2.680e+04]]\n"
     ]
    }
   ],
   "source": [
    "data=np.genfromtxt('GDP_Lifespan_all_data.csv',delimiter=','\\\n",
    "                   ,skip_header=1,usecols=(2,3))\n",
    "print (data)"
   ]
  },
  {
   "cell_type": "markdown",
   "metadata": {},
   "source": [
    "Now we have the data read in. But it is in a two dimensional array and have never used a two dimensional array before.  So we have two options.  can make it into two one dimensional arrrays or learn about two-dimensional arrays.  First if you wanted to unpack into two arrays you would unpack it like below.  "
   ]
  },
  {
   "cell_type": "code",
   "execution_count": 13,
   "metadata": {
    "scrolled": true
   },
   "outputs": [
    {
     "name": "stdout",
     "output_type": "stream",
     "text": [
      "[31.3  32.26 35.25 36.94 36.96 37.98 39.01 39.33 39.47 41.24 41.71 42.21\n",
      " 42.65 42.77 42.84 43.2  44.46 44.56 44.88 45.22 45.43 46.56 46.97 46.97\n",
      " 47.34 48.05 48.15 48.51 48.93 49.54 50.02 51.01 51.08 51.61 51.93 53.43\n",
      " 53.58 54.3  54.38 55.79 56.14 56.37 56.53 57.12 57.73 57.92 59.   60.6\n",
      " 60.97 61.19 61.33 61.71 62.2  63.09 63.16 63.48 63.62 63.66 63.81 64.\n",
      " 64.19 64.37 64.76 64.78 64.88 65.23 65.71 66.28 66.5  66.65 66.68 67.66\n",
      " 67.81 67.96 68.43 68.73 68.88 68.94 69.23 69.29 69.31 69.35 69.39 69.59\n",
      " 69.6  69.68 70.04 70.05 70.31 70.41 70.54 70.62 70.62 70.79 70.88 71.13\n",
      " 71.14 71.24 71.4  71.67 71.8  71.8  71.8  71.84 71.89 72.07 72.17 72.22\n",
      " 72.29 72.3  72.32 72.37 72.58 72.62 72.68 73.14 73.52 73.72 73.81 73.91\n",
      " 74.12 74.3  74.37 74.4  74.4  74.43 74.49 74.75 75.18 75.36 75.38 75.45\n",
      " 75.48 75.51 75.85 75.87 76.07 76.35 76.35 76.43 76.65 76.69 76.8  76.87\n",
      " 77.1  77.14 77.26 77.35 77.41 77.53 77.66 77.88 77.92 77.98 78.16 78.17\n",
      " 78.29 78.32 78.42 78.43 78.72 78.74 78.89 78.93 79.02 79.09 79.23 79.28\n",
      " 79.4  79.8  79.83 79.93 79.97 79.99 80.04 80.13 80.42 80.93 81.87 83.49] [ 1200.  9000.   800.  3000.  1900.   600.  1900.  1300.  4900.   700.\n",
      "  1100.   800.  1400.  7200.   500.   600.  1100.   600.  1400.  1000.\n",
      "   900. 10700.   800.   800.   500.  1800.  1000.  1200.   700.  2100.\n",
      "   700.   900.  1100.  1600.  1800.  1500.  1400.  1700.  1700.  1800.\n",
      "   800.  1600.  2200.  5500.  1900.  1900.  1400.  2600.   800.  5800.\n",
      "  1900.  2900.  2100.  4000.  3400.  6300.  2900.  1600.  1800.  1700.\n",
      "  2200.  1000.  2500.  2400.  1800.  4100. 16700.  1200.  5400.  2600.\n",
      "  3500.  8900.  1500.  6000.  6100. 11800.  5800.  3200.  4000.  4600.\n",
      " 10200.  7000.  3300.  9500. 11400.  2300.  4000.  2500. 12300.  4000.\n",
      "  6000.  4800.  7000.  1300.  5100.  7600.  6300.  7400.   600.  9000.\n",
      " 11400.  7600.  6700. 15700.  3300.  4800. 13900.  5000.  6100.  9000.\n",
      "  6300.  4500. 13100.  3700.  1100. 21500. 15000. 16900.  4800. 11100.\n",
      "  5500. 23600. 10600.  4700.  6900. 13300.  6700. 23200. 15700. 17800.\n",
      " 11400. 17500. 11200. 19000.  3900. 12800.  6400. 18000.  9900.  9100.\n",
      " 19000.  8300.  2900. 23400. 31100. 37800. 16800. 29600. 36000.  7900.\n",
      " 55100.  4300. 27400. 28500. 27700. 30000. 29100. 21600. 27600. 17700.\n",
      " 14400. 28600. 20000. 40000. 19800. 37800. 22000. 27600. 26700. 30900.\n",
      " 29800. 28800. 26800. 32700. 40000. 29000. 23700. 28200. 19400. 26800.]\n"
     ]
    }
   ],
   "source": [
    "lifespan, gdp=np.genfromtxt('GDP_Lifespan_all_data.csv',delimiter=','\\\n",
    "                            ,skip_header=1,usecols=(2,3),unpack=True)\n",
    "print (lifespan,gdp)"
   ]
  },
  {
   "cell_type": "markdown",
   "metadata": {},
   "source": [
    "Lets try to work with the two dimensional array.  We will do more with this later.  We can use our notation to help us.  now we can just seperate with a comma and it tells us the rows then the columns.   We will play more later but all of the first column is [:,0]  so it says give us all rows and then column 0. Our whole next lecture is two dimensional arrays and accessing data!\n",
    "\n",
    "Stay patient and trust me a little!"
   ]
  },
  {
   "cell_type": "markdown",
   "metadata": {},
   "source": [
    "Now lets make a scatter plot and label the axes like on the webpage.  "
   ]
  },
  {
   "cell_type": "code",
   "execution_count": 36,
   "metadata": {},
   "outputs": [
    {
     "data": {
      "text/plain": [
       "Text(0, 0.5, 'Lifespan')"
      ]
     },
     "execution_count": 36,
     "metadata": {},
     "output_type": "execute_result"
    },
    {
     "data": {
      "image/png": "[encoded data removed]",
      "text/plain": [
       "<Figure size 432x288 with 1 Axes>"
      ]
     },
     "metadata": {
      "needs_background": "light"
     },
     "output_type": "display_data"
    }
   ],
   "source": [
    "data=np.genfromtxt('GDP_Lifespan_all_data.csv',delimiter=','\\\n",
    "                   ,skip_header=1,usecols=(2,3))\n",
    "\n",
    "fig,ax=plt.subplots()\n",
    "\n",
    "ax.scatter(data[:,1],data[:,0])\n",
    "ax.set_xlabel('GDP')\n",
    "ax.set_ylabel('Lifespan')\n"
   ]
  },
  {
   "cell_type": "markdown",
   "metadata": {},
   "source": [
    "I am not sure what I like in graphs anymore.  Sometimes I like the zero at the line other times not.  Here is how you control your axis limits.   Plus I like a square plot.  "
   ]
  },
  {
   "cell_type": "code",
   "execution_count": 37,
   "metadata": {},
   "outputs": [
    {
     "data": {
      "text/plain": [
       "(0.0, 60000.0)"
      ]
     },
     "execution_count": 37,
     "metadata": {},
     "output_type": "execute_result"
    },
    {
     "data": {
      "image/png": "[encoded data removed]",
      "text/plain": [
       "<Figure size 432x432 with 1 Axes>"
      ]
     },
     "metadata": {
      "needs_background": "light"
     },
     "output_type": "display_data"
    }
   ],
   "source": [
    "data=np.genfromtxt('GDP_Lifespan_all_data.csv',delimiter=','\\\n",
    "                   ,skip_header=1,usecols=(2,3))\n",
    "\n",
    "fig,ax=plt.subplots()\n",
    "fig.set_size_inches(6,6)\n",
    "\n",
    "ax.scatter(data[:,1],data[:,0])\n",
    "ax.set_xlabel('GDP')\n",
    "ax.set_ylabel('Lifespan')\n",
    "ax.set_xlim([0,60000])"
   ]
  },
  {
   "cell_type": "markdown",
   "metadata": {},
   "source": [
    "The whole reason we are using the data is to try and fit it.  We know by looking at that data it is not linear. But lets try anyway.  We need to make a decision. Do we use linregress or polyfit.  I am going to choose linregress for three reasons.....\n",
    "1.  I want to make things consistent and more straightforward \n",
    "2.  I think it is going to be log linear and not a polynominal\n",
    "3.  I want us to learn more about linregress"
   ]
  },
  {
   "cell_type": "code",
   "execution_count": 17,
   "metadata": {},
   "outputs": [
    {
     "data": {
      "text/plain": [
       "LinregressResult(slope=0.0007512616336222388, intercept=58.400596958059154, rvalue=0.6334132007704606, pvalue=1.4066613760136852e-21, stderr=6.879082858773228e-05)"
      ]
     },
     "execution_count": 17,
     "metadata": {},
     "output_type": "execute_result"
    }
   ],
   "source": [
    "stats.linregress(data[:,1],data[:,0])"
   ]
  },
  {
   "cell_type": "markdown",
   "metadata": {},
   "source": [
    "Now lets plot it.  I will make a new variable.  call GDP_fit and lifespan_fit.  GDP_fit is your x and lifespan fit is your y.  I will use the min and max of the dataset to find my range from GDP_fit. then I will make my line and plot it on the data.  "
   ]
  },
  {
   "cell_type": "code",
   "execution_count": 19,
   "metadata": {},
   "outputs": [
    {
     "data": {
      "text/plain": [
       "Text(0, 0.5, 'lifespan')"
      ]
     },
     "execution_count": 19,
     "metadata": {},
     "output_type": "execute_result"
    },
    {
     "data": {
      "image/png": "[encoded data removed]",
      "text/plain": [
       "<Figure size 432x432 with 1 Axes>"
      ]
     },
     "metadata": {
      "needs_background": "light"
     },
     "output_type": "display_data"
    }
   ],
   "source": [
    "GDP_fit=np.linspace(np.min(data[:,1]),np.max(data[:,1])) \n",
    "#I set the range using the data.  This will be our x data for fitting\n",
    "slope, intercept, r_value,p_value,stderr = stats.linregress(data[:,1],data[:,0])  \n",
    "#I just copied from above to have in the same cell\n",
    "lifespan_fit=slope*GDP_fit+intercept   # the equation for a line y=mx+b\n",
    "\n",
    "fig,ax=plt.subplots()\n",
    "fig.set_size_inches(6,6)\n",
    "ax.plot(GDP_fit,lifespan_fit)\n",
    "ax.scatter(data[:,1],data[:,0])\n",
    "ax.set_xlabel('GDP')\n",
    "ax.set_ylabel('lifespan')\n",
    "\n"
   ]
  },
  {
   "cell_type": "markdown",
   "metadata": {},
   "source": [
    "that is a crappy fit.  As I said. I think it my be better to take the log of the data to get a linear fit.  So lets take the log of the data and then fit it!  \n",
    "\n",
    "Lets first just plot log of GDP"
   ]
  },
  {
   "cell_type": "code",
   "execution_count": 20,
   "metadata": {},
   "outputs": [
    {
     "data": {
      "text/plain": [
       "Text(0, 0.5, 'Lifespan')"
      ]
     },
     "execution_count": 20,
     "metadata": {},
     "output_type": "execute_result"
    },
    {
     "data": {
      "image/png": "[encoded data removed]",
      "text/plain": [
       "<Figure size 432x432 with 1 Axes>"
      ]
     },
     "metadata": {
      "needs_background": "light"
     },
     "output_type": "display_data"
    }
   ],
   "source": [
    "fig,ax=plt.subplots()\n",
    "fig.set_size_inches(6,6)\n",
    "ax.scatter(np.log10(data[:,1]),data[:,0])\n",
    "ax.set_xlabel('Log 10 of GDP')\n",
    "ax.set_ylabel('Lifespan')\n",
    "\n",
    "\n"
   ]
  },
  {
   "cell_type": "markdown",
   "metadata": {},
   "source": [
    "## Big Warning.  In computers.  log is usually natural log and log 10 is usually log10!"
   ]
  },
  {
   "cell_type": "markdown",
   "metadata": {},
   "source": [
    "Can you make a plot that is only log 10 of lifespan?"
   ]
  },
  {
   "cell_type": "code",
   "execution_count": 33,
   "metadata": {},
   "outputs": [
    {
     "data": {
      "text/plain": [
       "<matplotlib.text.Text at 0x1956e978>"
      ]
     },
     "execution_count": 33,
     "metadata": {},
     "output_type": "execute_result"
    },
    {
     "data": {
      "image/png": "[encoded data removed]",
      "text/plain": [
       "<matplotlib.figure.Figure at 0x1987ca90>"
      ]
     },
     "metadata": {},
     "output_type": "display_data"
    }
   ],
   "source": [
    "\n"
   ]
  },
  {
   "cell_type": "markdown",
   "metadata": {},
   "source": [
    "Can you make a plot that is log log?"
   ]
  },
  {
   "cell_type": "code",
   "execution_count": 34,
   "metadata": {},
   "outputs": [
    {
     "data": {
      "text/plain": [
       "<matplotlib.text.Text at 0x190193c8>"
      ]
     },
     "execution_count": 34,
     "metadata": {},
     "output_type": "execute_result"
    },
    {
     "data": {
      "image/png": "[encoded data removed]",
      "text/plain": [
       "<matplotlib.figure.Figure at 0x18e90ba8>"
      ]
     },
     "metadata": {},
     "output_type": "display_data"
    }
   ],
   "source": [
    "\n"
   ]
  },
  {
   "cell_type": "markdown",
   "metadata": {},
   "source": [
    "## An aside. I am plotting the log of the data. You can also, plot on log paper. You might be used to seeing this.  \n",
    "\n",
    "The matplotlib page showing these recipes is here.  http://matplotlib.org/examples/pylab_examples/log_demo.html\n",
    "\n",
    "Can you make the log log plot on log paper?\n",
    "\n",
    "To turn on the grids you will need\n",
    "ax.grid(True,which=\"both\",ls=\"-\", color='0.65')\n",
    "the which keyword takes \"major\",\"minor\",or\"both\n",
    "\n",
    "Also, I like points and loglog defaults to lines.  So you will need to set linestyle='none' and then marker='o' or something else!  good luck!\n"
   ]
  },
  {
   "cell_type": "code",
   "execution_count": 3,
   "metadata": {},
   "outputs": [
    {
     "data": {
      "text/plain": [
       "<matplotlib.text.Text at 0x10ecb8650>"
      ]
     },
     "execution_count": 3,
     "metadata": {},
     "output_type": "execute_result"
    },
    {
     "data": {
      "image/png": "[encoded data removed]",
      "text/plain": [
       "<matplotlib.figure.Figure at 0x10eb2f250>"
      ]
     },
     "metadata": {},
     "output_type": "display_data"
    }
   ],
   "source": [
    "\n"
   ]
  },
  {
   "cell_type": "markdown",
   "metadata": {},
   "source": [
    "### Lets fit our data now and plot it\n",
    "This is going to be a little confusing.  to fit the data you are better to take the log of your data and fit it and not use log paper.  If you use log paper you need an exponential fit. But if you use the log of your data it is linregress.  Trust me and lets fit the log of our data.  So can you take the log of your data and then plot it and fit a straight line to it? "
   ]
  },
  {
   "cell_type": "markdown",
   "metadata": {},
   "source": [
    "In a last effort lets look and see if the log gives us a better fit.  \n",
    "In one cell.  \n",
    "\n",
    "1.  You need to read in the data.\n",
    "\n",
    "1.  Take the log10 of the data.  So transform all the data by converting it using log10\n",
    "\n",
    "1.  plot and label the data\n",
    "\n",
    "1.  Use linregress on the data.\n",
    "\n",
    "1.  present it nicely!"
   ]
  },
  {
   "cell_type": "code",
   "execution_count": 53,
   "metadata": {},
   "outputs": [
    {
     "data": {
      "text/plain": [
       "<matplotlib.text.Text at 0xc16a550>"
      ]
     },
     "execution_count": 53,
     "metadata": {},
     "output_type": "execute_result"
    },
    {
     "data": {
      "image/png": "[encoded data removed]",
      "text/plain": [
       "<matplotlib.figure.Figure at 0xc5597b8>"
      ]
     },
     "metadata": {},
     "output_type": "display_data"
    }
   ],
   "source": []
  },
  {
   "cell_type": "markdown",
   "metadata": {},
   "source": [
    "# We have not once thought about our data!!!!! Does lifespan increase linearly with GDP?  What happens at low levels of GDP increases?"
   ]
  },
  {
   "cell_type": "markdown",
   "metadata": {},
   "source": [
    "### If you have extra time we can play with poly1d.  This is bonus for people going fast"
   ]
  },
  {
   "cell_type": "markdown",
   "metadata": {},
   "source": [
    "Using polyfit is a little funky but very powerful.  It is a two step process.\n",
    "1.  run np.polyfit with your data\n",
    "\n",
    "this returns an array with your fitting parameters.  So if it is a line it is \n",
    "\n",
    "y=mx+b or really\n",
    "y=a$_1$x+a$_0$\n",
    "\n",
    "or for second order \n",
    "\n",
    "y=a$_2$x$^2$+a$_1$x+a$_0$ or I have written in the past y=ax$^2$+bx+c\n",
    "\n",
    "1.  But you can take your fitting parameters and put them into poly1d and it gives you the equation of the line and lets you do math!\n",
    "\n",
    "Let's see how it works!"
   ]
  },
  {
   "cell_type": "code",
   "execution_count": 21,
   "metadata": {},
   "outputs": [
    {
     "name": "stdout",
     "output_type": "stream",
     "text": [
      "a= [7.51261634e-04 5.84005970e+01]\n",
      "y=  \n",
      "0.0007513 x + 58.4\n"
     ]
    }
   ],
   "source": [
    "a=np.polyfit(data[:,1],data[:,0],1)  \n",
    "#I just copied from above to have in the same cell\n",
    "polynominal=np.poly1d(a)\n",
    "print ('a=',a)\n",
    "print ('y=',polynominal)"
   ]
  },
  {
   "cell_type": "code",
   "execution_count": 22,
   "metadata": {},
   "outputs": [
    {
     "name": "stdout",
     "output_type": "stream",
     "text": [
      "a= [7.51261634e-04 5.84005970e+01]\n",
      "y= \n",
      "0.0007513 x + 58.4\n"
     ]
    }
   ],
   "source": [
    "a=np.polyfit(data[:,1],data[:,0],1)  \n",
    "#I just copied from above to have in the same cell\n",
    "polynominal=np.poly1d(a)\n",
    "print ('a=',a)\n",
    "print_string='y='+str(polynominal)\n",
    "print (print_string)"
   ]
  },
  {
   "cell_type": "markdown",
   "metadata": {},
   "source": [
    "Let's make a new parameter called fit_order and see what happens if we change the order of the equation.  Try differnt orders!"
   ]
  },
  {
   "cell_type": "code",
   "execution_count": 23,
   "metadata": {},
   "outputs": [
    {
     "name": "stdout",
     "output_type": "stream",
     "text": [
      "a= [-6.42493380e-17  7.36658008e-12 -2.87197364e-07  4.69459977e-03\n",
      "  4.84713159e+01]\n",
      "            4             3             2\n",
      "-6.425e-17 x + 7.367e-12 x - 2.872e-07 x + 0.004695 x + 48.47\n"
     ]
    }
   ],
   "source": [
    "fit_order=4\n",
    "a=np.polyfit(data[:,1],data[:,0],fit_order)  #I just copied from above to have in the same cell\n",
    "polynominal=np.poly1d(a)\n",
    "print ('a=',a)\n",
    "print( polynominal)"
   ]
  },
  {
   "cell_type": "markdown",
   "metadata": {},
   "source": [
    "\n",
    "\n",
    "this is one place where poly1d works nicely. It is fitting data.  If you pass x data to polynominal it spits out the y data!"
   ]
  },
  {
   "cell_type": "code",
   "execution_count": 24,
   "metadata": {},
   "outputs": [
    {
     "name": "stdout",
     "output_type": "stream",
     "text": [
      "[50.74773327 55.33188104 59.28874007 62.67482931 65.54429055 67.94888833\n",
      " 69.93801001 71.55866576 72.85548852 73.87073405 74.6442809  75.21363042\n",
      " 75.61390675 75.87785683 76.03585041 76.11588002 76.143561   76.14213148\n",
      " 76.1324524  76.13300747 76.15990324 76.22686902 76.34525693 76.5240419\n",
      " 76.76982163 77.08681665 77.47687027 77.9394486  78.47164054 79.06815781\n",
      " 79.72133489 80.4211291  81.15512054 81.90851209 82.66412946 83.40242113\n",
      " 84.10145839 84.73693533 85.28216883 85.70809858 85.98328705 86.07391953\n",
      " 85.94380408 85.55437158 84.86467571 83.83139292 82.40882248 80.54888646\n",
      " 78.20112971 75.3127199 ]\n"
     ]
    }
   ],
   "source": [
    "fit_order=4\n",
    "\n",
    "GDP_fit=np.linspace(np.min(data[:,1]),np.max(data[:,1]))\n",
    "\n",
    "a=np.polyfit(data[:,1],data[:,0],fit_order)  #I just copied from above to have in the same cell\n",
    "polynominal=np.poly1d(a)\n",
    "lifespan_fit=polynominal(GDP_fit)\n",
    "print (lifespan_fit)"
   ]
  },
  {
   "cell_type": "markdown",
   "metadata": {},
   "source": [
    "Now lets go back to our graph and try to fit a higher order equation!  Can you get a good fit?  "
   ]
  },
  {
   "cell_type": "code",
   "execution_count": 21,
   "metadata": {},
   "outputs": [
    {
     "data": {
      "text/plain": [
       "<matplotlib.text.Text at 0x11219c150>"
      ]
     },
     "execution_count": 21,
     "metadata": {},
     "output_type": "execute_result"
    },
    {
     "data": {
      "image/png": "[encoded data removed]",
      "text/plain": [
       "<matplotlib.figure.Figure at 0x1128b5610>"
      ]
     },
     "metadata": {},
     "output_type": "display_data"
    }
   ],
   "source": []
  },
  {
   "cell_type": "markdown",
   "metadata": {
    "collapsed": true
   },
   "source": [
    "### does a higher order equation make sense?  How do you explain the data? When is it good and bad?"
   ]
  },
  {
   "cell_type": "markdown",
   "metadata": {},
   "source": [
    "# Answers"
   ]
  },
  {
   "cell_type": "code",
   "execution_count": 34,
   "metadata": {},
   "outputs": [
    {
     "data": {
      "text/plain": [
       "Text(0.05, 0.95, 'm=0.132\\nb=1.320\\n$r^2$=0.528\\np=0.000')"
      ]
     },
     "execution_count": 34,
     "metadata": {},
     "output_type": "execute_result"
    },
    {
     "data": {
      "image/png": "[encoded data removed]",
      "text/plain": [
       "<Figure size 432x432 with 1 Axes>"
      ]
     },
     "metadata": {
      "needs_background": "light"
     },
     "output_type": "display_data"
    }
   ],
   "source": [
    "\n",
    "data=np.genfromtxt('GDP-Lifespan.csv',delimiter=','\\\n",
    "                   ,skip_header=1,usecols=(2,3))\n",
    "data=np.log10(data)\n",
    "\n",
    "slope, intercept, r_value,p_value,stderr=stats.linregress(data[:,1],data[:,0])\n",
    "\n",
    "GDP_fit=np.linspace(np.min(data[:,1]),np.max(data[:,1]))  #I set the range using the data\n",
    "lifespan_fit=slope*GDP_fit+intercept\n",
    "\n",
    "fig,ax=plt.subplots()\n",
    "fig.set_size_inches(6,6)\n",
    "ax.plot(GDP_fit,lifespan_fit)\n",
    "ax.scatter(data[:,1],data[:,0])\n",
    "ax.set_ylabel('log10 lifespan')\n",
    "ax.set_xlabel('log10 GDP')\n",
    "\n",
    "props=dict(boxstyle='round',facecolor='white',alpha=0.5)\n",
    "textstr='m={:.3f}\\nb={:.3f}\\n$r^2$={:.3f}\\np={:.3f}'\\\n",
    ".format(slope,intercept,r_value**2,p_value)\n",
    "ax.text(0.05,0.95,textstr,transform=ax.transAxes\\\n",
    "        ,fontsize=10,verticalalignment='top',bbox=props)"
   ]
  },
  {
   "cell_type": "markdown",
   "metadata": {},
   "source": [
    "# Log Log Answer\n",
    "\n",
    "Use ax.loglog just like scatter"
   ]
  },
  {
   "cell_type": "code",
   "execution_count": 35,
   "metadata": {},
   "outputs": [
    {
     "data": {
      "text/plain": [
       "Text(0, 0.5, 'Lifespan')"
      ]
     },
     "execution_count": 35,
     "metadata": {},
     "output_type": "execute_result"
    },
    {
     "data": {
      "image/png": "[encoded data removed]",
      "text/plain": [
       "<Figure size 432x432 with 1 Axes>"
      ]
     },
     "metadata": {
      "needs_background": "light"
     },
     "output_type": "display_data"
    }
   ],
   "source": [
    "data=np.genfromtxt('GDP_Lifespan_all_data.csv',delimiter=','\\\n",
    "                   ,skip_header=1,usecols=(2,3))\n",
    "\n",
    "fig,ax=plt.subplots()\n",
    "fig.set_size_inches(6,6)\n",
    "data=np.genfromtxt('GDP-Lifespan.csv',delimiter=',',skip_header=1\\\n",
    "                   ,usecols=(2,3))\n",
    "ax.loglog(data[:,1],data[:,0],linestyle='none',marker='o',base=10)\n",
    "ax.grid(True,which=\"minor\",ls=\"-\", color='0.65')\n",
    "ax.grid(True,which=\"major\",ls=\"-\", color='k')\n",
    "ax.set_xlabel('GDP')\n",
    "ax.set_ylabel('Lifespan')\n",
    "\n"
   ]
  },
  {
   "cell_type": "code",
   "execution_count": null,
   "metadata": {},
   "outputs": [],
   "source": []
  }
 ],
 "metadata": {
  "kernelspec": {
   "display_name": "Python 3",
   "language": "python",
   "name": "python3"
  },
  "language_info": {
   "codemirror_mode": {
    "name": "ipython",
    "version": 3
   },
   "file_extension": ".py",
   "mimetype": "text/x-python",
   "name": "python",
   "nbconvert_exporter": "python",
   "pygments_lexer": "ipython3",
   "version": "3.8.5"
  }
 },
 "nbformat": 4,
 "nbformat_minor": 1
}
