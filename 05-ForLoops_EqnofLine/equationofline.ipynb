{
 "cells": [
  {
   "cell_type": "markdown",
   "metadata": {},
   "source": [
    "# Lets plot two data points and fit a line to them"
   ]
  },
  {
   "cell_type": "markdown",
   "metadata": {},
   "source": [
    "* Taking two points and figuring out the slope and intercept is easy.  You have been doing this for years.  You do rise over run and you figure it all out.  But now you need to do it in Python.  Switching your brain to do this in Python is the hard part.  You need to translate one method to another.  It takes time and different people get it at different rates.  So be patient, learn, and help each other! \n",
    "* For this everyone needs to make their own plot but before you begin work in groups of about 4 people to figure it out.  \n",
    "\n",
    "*  When you have data you usually plot the data as points on a graph and then you plot the best fit line to that data.  We are going to do something simple and plot two points and then fit the straight line.  \n",
    "*  Rember that the equation of a line is\n",
    "\n",
    "y=mx+b\n",
    "\n",
    "*  Two points define a line!\n",
    "*  If you had two points in a class, you would graph them, fit a line, and report the equation.  We are going to do it in python!  It is slightly different\n",
    "* If you have two points they would be stored in a list or an array. We are going to transition to only using numpy arrays or other types of arrays for data. \n",
    "    * I call this list x_data and y_data.  Remember you use your list notation to get the data  \n",
    "    * the first point on the graph is x_data[0],y_data[0]\n",
    "    * the second point is x_data[1],y_data[1]\n",
    "    * Remember we have said nothing about the values of x_data and y_data just how the computer is storing them\n",
    "\n",
    "* We could solve the equation now since we have two equations and two unknowns.  you would get\n",
    "\n",
    "\n",
    "y_data[0]=m*x_data[0]+b        &emsp;&emsp;&emsp;&emsp;       This is similar to writing y$_0$=m$x_0$+b\n",
    "\n",
    "y_data[1]=m*x_data[1]+b        &emsp;&emsp;&emsp;&emsp;        This is similar to  writing y$_1$=m$x_1$+b\n",
    "\n",
    "\n",
    "* With these two equations and two unknowns you can solve for m and b.  So you should solve for m and b and get the equations you will use.  \n",
    "\n",
    "* Now that you have m and b you can then calculate the fit.  I call these x_fit and y_fit.  \n",
    "\n",
    "* What function can we use to generate a set of numbers for x_fit where they are not all integers and you have floats?\n",
    "\n",
    "* Then we plot the data.  I use\n",
    "    * ax.scatter() for the data as this shows just points.  \n",
    "    * If you add the keyword argument label='' then it gives a label to that part of the plot that can later show up in a legend. I had this in the answers from last time.  \n",
    "    * I used ax.plot() like usual to plot the line.  But I added the label='' keyword.\n",
    "    * I label the axes.  \n",
    "    * I turn on the legend with ax.legend(loc='best')\n",
    "    * When I get fancy I can add a title that includes the equation of the line.  We can do this by making a string with the format notation.  The format notation is nice to control the number of decimal places.  Remember this from your hw...\n",
    "\n",
    "\n",
    "### Fill it all in below and see how it goes!  Make sure everyone in your group understands it all and makes a great plot.  "
   ]
  },
  {
   "cell_type": "code",
   "execution_count": null,
   "metadata": {},
   "outputs": [],
   "source": [
    "%matplotlib inline\n",
    "import numpy as np\n",
    "import matplotlib.pyplot as plt\n",
    "\n",
    "#This is my data\n",
    "x_data=np.array([1.1,6])\n",
    "y_data=np.array([4,8])\n",
    "\n",
    "#this is my solution to the line\n",
    "m=\n",
    "b=\n",
    "\n",
    "#This is the best fit line\n",
    "x_fit=np.    \n",
    "y_fit=\n",
    "\n",
    "#this is plotting the data\n",
    "fig,ax=plt.subplots()\n",
    "\n",
    "\n"
   ]
  },
  {
   "cell_type": "code",
   "execution_count": 1,
   "metadata": {},
   "outputs": [
    {
     "data": {
      "text/plain": [
       "<matplotlib.legend.Legend at 0xa668f98>"
      ]
     },
     "execution_count": 1,
     "metadata": {},
     "output_type": "execute_result"
    },
    {
     "data": {
      "image/png": "[encoded data removed]",
      "text/plain": [
       "<matplotlib.figure.Figure at 0x40d06d8>"
      ]
     },
     "metadata": {},
     "output_type": "display_data"
    }
   ],
   "source": [
    "### my answer"
   ]
  },
  {
   "cell_type": "code",
   "execution_count": null,
   "metadata": {},
   "outputs": [],
   "source": []
  }
 ],
 "metadata": {
  "kernelspec": {
   "display_name": "Python 3",
   "language": "python",
   "name": "python3"
  },
  "language_info": {
   "codemirror_mode": {
    "name": "ipython",
    "version": 3
   },
   "file_extension": ".py",
   "mimetype": "text/x-python",
   "name": "python",
   "nbconvert_exporter": "python",
   "pygments_lexer": "ipython3",
   "version": "3.8.5"
  }
 },
 "nbformat": 4,
 "nbformat_minor": 1
}
