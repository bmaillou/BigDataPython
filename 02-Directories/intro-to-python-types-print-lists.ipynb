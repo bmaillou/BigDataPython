{
 "cells": [
  {
   "cell_type": "markdown",
   "metadata": {},
   "source": [
    "# Lets get started with some math and programming!"
   ]
  },
  {
   "cell_type": "markdown",
   "metadata": {},
   "source": [
    "## But we will also learn some more markdown and how to make things look nice!"
   ]
  },
  {
   "cell_type": "markdown",
   "metadata": {},
   "source": [
    "We are using Markdown which is great for making notes and can be used to do math notation also.\n",
    "# This is H1  one # gives you H1  You type # H1 at the beginning of the line\n",
    "## this is H2 two ## gives you H2\n",
    "<h3>this is h3</h3> you can also use html notation which you have to click on the markdown to see! \n",
    "\n",
    "So click on this cell to see how it is done.  See above how this cell is Markdown.  This allows us to add notes!\n",
    "\n",
    "To see how this is done. Go to Github.  Download the python notebook.  Open it.  Then double clikc on this. Remember to download I right click on raw and then do save as.  It seems to work smoothest in chrome."
   ]
  },
  {
   "cell_type": "markdown",
   "metadata": {},
   "source": [
    "You can add an equation\n",
    "# $c=\\sqrt{a^2+b^2}$\n",
    "\n",
    "\n",
    "# here is a link to a cheat sheet. https://github.com/adam-p/markdown-here/wiki/Markdown-Cheatsheet\n",
    "## [I can also make the link inline](https://github.com/adam-p/markdown-here/wiki/Markdown-Cheatsheet)\n",
    "To make it inline you put the text in brackets [] and then the link next to it in ()  click to see\n",
    "\n",
    "## [Here is a link to a Latex cheat sheet.](http://users.dickinson.edu/~richesod/latex/latexcheatsheet.pdf)\n"
   ]
  },
  {
   "cell_type": "markdown",
   "metadata": {},
   "source": [
    "## Now we can do some math!\n",
    "I am going to throw some programming tricks at you!"
   ]
  },
  {
   "cell_type": "markdown",
   "metadata": {},
   "source": [
    "# An Aside\n",
    "\n",
    "### I put all my notebooks on github.  It is a version control program.  It is like dropbox but keeps track of changes.  On the class webpage are all the links to the notebooks on github.  \n",
    "\n",
    "### to get the notebook is a little tricky.  Some web browsers are easier than others.  I like chrome.  In chrome after getting to the website I right click on raw and then choose save as.  You should now be able to save as an .ipynb file and have exactly what I hand out.  \n",
    "\n",
    "### Do not copy and paste from the online notebook.  I find people who copy and paste do not learn the muscle memory and do worse in class.  I give you time each day to work through the notebooks.  Type it in and work through each notebook\n"
   ]
  },
  {
   "cell_type": "code",
   "execution_count": 1,
   "metadata": {},
   "outputs": [
    {
     "data": {
      "text/plain": [
       "4"
      ]
     },
     "execution_count": 1,
     "metadata": {},
     "output_type": "execute_result"
    }
   ],
   "source": [
    "2+2"
   ]
  },
  {
   "cell_type": "code",
   "execution_count": 2,
   "metadata": {},
   "outputs": [
    {
     "data": {
      "text/plain": [
       "12"
      ]
     },
     "execution_count": 2,
     "metadata": {},
     "output_type": "execute_result"
    }
   ],
   "source": [
    "3*4"
   ]
  },
  {
   "cell_type": "code",
   "execution_count": 3,
   "metadata": {},
   "outputs": [
    {
     "data": {
      "text/plain": [
       "1.5"
      ]
     },
     "execution_count": 3,
     "metadata": {},
     "output_type": "execute_result"
    }
   ],
   "source": [
    "6/4"
   ]
  },
  {
   "cell_type": "markdown",
   "metadata": {},
   "source": [
    "this is New!!!! Python 3 does integer math correct!"
   ]
  },
  {
   "cell_type": "code",
   "execution_count": 4,
   "metadata": {},
   "outputs": [
    {
     "data": {
      "text/plain": [
       "int"
      ]
     },
     "execution_count": 4,
     "metadata": {},
     "output_type": "execute_result"
    }
   ],
   "source": [
    "type(6)"
   ]
  },
  {
   "cell_type": "markdown",
   "metadata": {},
   "source": [
    "but what if we have a decimal?"
   ]
  },
  {
   "cell_type": "code",
   "execution_count": 5,
   "metadata": {},
   "outputs": [
    {
     "data": {
      "text/plain": [
       "float"
      ]
     },
     "execution_count": 5,
     "metadata": {},
     "output_type": "execute_result"
    }
   ],
   "source": [
    "type(6.0)"
   ]
  },
  {
   "cell_type": "code",
   "execution_count": 6,
   "metadata": {},
   "outputs": [
    {
     "data": {
      "text/plain": [
       "1.5"
      ]
     },
     "execution_count": 6,
     "metadata": {},
     "output_type": "execute_result"
    }
   ],
   "source": [
    "6.0/4"
   ]
  },
  {
   "cell_type": "markdown",
   "metadata": {},
   "source": [
    "If you wanted to use integers you use //"
   ]
  },
  {
   "cell_type": "code",
   "execution_count": 7,
   "metadata": {},
   "outputs": [
    {
     "data": {
      "text/plain": [
       "1.0"
      ]
     },
     "execution_count": 7,
     "metadata": {},
     "output_type": "execute_result"
    }
   ],
   "source": [
    "6.0//4"
   ]
  },
  {
   "cell_type": "markdown",
   "metadata": {},
   "source": [
    "how python treats decimals is very different between Python 2 and 3.  Python 2 used to default to integers.  Python 3 no longer does this. It is nice!"
   ]
  },
  {
   "cell_type": "markdown",
   "metadata": {},
   "source": [
    "I realize many of you haven't thought about floats and ints.  Here is an overview showing why integers take less [memory](http://www.dummies.com/how-to/content/the-real-difference-between-integers-and-floatingp.html) and are also good for looping and counting."
   ]
  },
  {
   "cell_type": "code",
   "execution_count": 2,
   "metadata": {},
   "outputs": [
    {
     "data": {
      "text/plain": [
       "1.5"
      ]
     },
     "execution_count": 2,
     "metadata": {},
     "output_type": "execute_result"
    }
   ],
   "source": [
    "#but that is if we don't have a calculator.  We can use parameters in programming  \n",
    "#this will move us towards something more powerful\n",
    "a=6\n",
    "b=4\n",
    "a/b"
   ]
  },
  {
   "cell_type": "code",
   "execution_count": 9,
   "metadata": {},
   "outputs": [
    {
     "data": {
      "text/plain": [
       "1.5"
      ]
     },
     "execution_count": 9,
     "metadata": {},
     "output_type": "execute_result"
    }
   ],
   "source": [
    "b=4.  # I updated b and added a decimal place to make it a float\n",
    "a/b"
   ]
  },
  {
   "cell_type": "code",
   "execution_count": 3,
   "metadata": {},
   "outputs": [
    {
     "data": {
      "text/plain": [
       "2"
      ]
     },
     "execution_count": 3,
     "metadata": {},
     "output_type": "execute_result"
    }
   ],
   "source": [
    "a%b #$this is call mod and gives the remainder!  Remember this!"
   ]
  },
  {
   "cell_type": "code",
   "execution_count": 11,
   "metadata": {},
   "outputs": [
    {
     "data": {
      "text/plain": [
       "36"
      ]
     },
     "execution_count": 11,
     "metadata": {},
     "output_type": "execute_result"
    }
   ],
   "source": [
    "#I almost forgot exponents\n",
    "a**2"
   ]
  },
  {
   "cell_type": "code",
   "execution_count": 12,
   "metadata": {},
   "outputs": [
    {
     "data": {
      "text/plain": [
       "2.449489742783178"
      ]
     },
     "execution_count": 12,
     "metadata": {},
     "output_type": "execute_result"
    }
   ],
   "source": [
    "a**0.5"
   ]
  },
  {
   "cell_type": "markdown",
   "metadata": {},
   "source": [
    "Remember computers always remember PEMDAS!  Do you remember PEMDAS?"
   ]
  },
  {
   "cell_type": "code",
   "execution_count": 13,
   "metadata": {},
   "outputs": [
    {
     "data": {
      "text/plain": [
       "6"
      ]
     },
     "execution_count": 13,
     "metadata": {},
     "output_type": "execute_result"
    }
   ],
   "source": [
    "2+2**2"
   ]
  },
  {
   "cell_type": "code",
   "execution_count": 14,
   "metadata": {},
   "outputs": [
    {
     "data": {
      "text/plain": [
       "16"
      ]
     },
     "execution_count": 14,
     "metadata": {},
     "output_type": "execute_result"
    }
   ],
   "source": [
    "(2+2)**2"
   ]
  },
  {
   "cell_type": "code",
   "execution_count": 15,
   "metadata": {},
   "outputs": [
    {
     "name": "stdout",
     "output_type": "stream",
     "text": [
      "16\n"
     ]
    }
   ],
   "source": [
    "c=(2+2)**2\n",
    "print (c)"
   ]
  },
  {
   "cell_type": "code",
   "execution_count": 16,
   "metadata": {},
   "outputs": [
    {
     "data": {
      "text/plain": [
       "16"
      ]
     },
     "execution_count": 16,
     "metadata": {},
     "output_type": "execute_result"
    }
   ],
   "source": [
    "c"
   ]
  },
  {
   "cell_type": "markdown",
   "metadata": {},
   "source": [
    "## this is a bit of wacky python that is helpful.  You can have more than one thing on each side of an equal sign"
   ]
  },
  {
   "cell_type": "code",
   "execution_count": 17,
   "metadata": {},
   "outputs": [
    {
     "name": "stdout",
     "output_type": "stream",
     "text": [
      "1 2\n"
     ]
    }
   ],
   "source": [
    "a,b=1,2\n",
    "print(a,b)"
   ]
  },
  {
   "cell_type": "code",
   "execution_count": 18,
   "metadata": {},
   "outputs": [
    {
     "name": "stdout",
     "output_type": "stream",
     "text": [
      "1 2 3\n"
     ]
    }
   ],
   "source": [
    "a,b,c=1,2,3\n",
    "print(a,b,c)"
   ]
  },
  {
   "cell_type": "code",
   "execution_count": 19,
   "metadata": {},
   "outputs": [
    {
     "name": "stdout",
     "output_type": "stream",
     "text": [
      "1 hello 2\n"
     ]
    }
   ],
   "source": [
    "a,b,c='1','hello',2\n",
    "print(a,b,c)"
   ]
  },
  {
   "cell_type": "code",
   "execution_count": 20,
   "metadata": {},
   "outputs": [
    {
     "name": "stdout",
     "output_type": "stream",
     "text": [
      "1 hello [5, 5, 6]\n"
     ]
    }
   ],
   "source": [
    "a,b,c='1','hello',[5,5,6]\n",
    "print(a,b,c)"
   ]
  },
  {
   "cell_type": "code",
   "execution_count": 21,
   "metadata": {},
   "outputs": [
    {
     "name": "stdout",
     "output_type": "stream",
     "text": [
      "1 hello [1 2 3 4 5 6 7 8 9]\n"
     ]
    }
   ],
   "source": [
    "import numpy as np  #more to come on this!\n",
    "a,b,c='1','hello',np.arange(1,10)\n",
    "print(a,b,c)"
   ]
  },
  {
   "cell_type": "markdown",
   "metadata": {},
   "source": [
    "Write down your answer to\n",
    "# $7 + (6 × 5^2 + 3)$\n",
    "then try it!"
   ]
  },
  {
   "cell_type": "code",
   "execution_count": null,
   "metadata": {},
   "outputs": [],
   "source": []
  },
  {
   "cell_type": "markdown",
   "metadata": {},
   "source": [
    "What about that dumb [viral math problem?](https://www.nytimes.com/2019/08/06/science/math-equation-pemdas.html)\n",
    "\n",
    "# $8\\div2(2 + 2)$"
   ]
  },
  {
   "cell_type": "code",
   "execution_count": 11,
   "metadata": {},
   "outputs": [
    {
     "data": {
      "text/plain": [
       "16.0"
      ]
     },
     "execution_count": 11,
     "metadata": {},
     "output_type": "execute_result"
    }
   ],
   "source": []
  },
  {
   "cell_type": "markdown",
   "metadata": {},
   "source": [
    "# Now to some printing...."
   ]
  },
  {
   "cell_type": "code",
   "execution_count": 22,
   "metadata": {},
   "outputs": [
    {
     "name": "stdout",
     "output_type": "stream",
     "text": [
      "The result of a/b= 1.5\n"
     ]
    }
   ],
   "source": [
    "a=6\n",
    "b=4\n",
    "print ('The result of a/b=',a/b)"
   ]
  },
  {
   "cell_type": "code",
   "execution_count": 23,
   "metadata": {},
   "outputs": [
    {
     "name": "stdout",
     "output_type": "stream",
     "text": [
      "we can get fancier \n",
      "a= 6 \n",
      "b= 4 \n",
      "a/b= 1.5\n"
     ]
    }
   ],
   "source": [
    "print ('we can get fancier \\na=',a,'\\nb=',b,'\\na/b=',a/b)  #the \\n is a new line. \n",
    "                                                    #you can also to \\t for a tab"
   ]
  },
  {
   "cell_type": "code",
   "execution_count": 24,
   "metadata": {},
   "outputs": [
    {
     "name": "stdout",
     "output_type": "stream",
     "text": [
      "we can get fancier\n",
      "a= 6\n"
     ]
    }
   ],
   "source": [
    "output='we can get fancier\\na='   \n",
    "#I just set the parameter output to the writing\n",
    "# and then called it later on.\n",
    "print (output,a)"
   ]
  },
  {
   "cell_type": "code",
   "execution_count": 25,
   "metadata": {},
   "outputs": [
    {
     "name": "stdout",
     "output_type": "stream",
     "text": [
      "we can get fancier\n",
      "a= 6.0\n"
     ]
    }
   ],
   "source": [
    "output='we can get fancier\\na='\n",
    "print (output,float(a)) # we just cast a to a float"
   ]
  },
  {
   "cell_type": "code",
   "execution_count": 26,
   "metadata": {},
   "outputs": [
    {
     "data": {
      "text/plain": [
       "'we can get fancier\\na='"
      ]
     },
     "execution_count": 26,
     "metadata": {},
     "output_type": "execute_result"
    }
   ],
   "source": [
    "output"
   ]
  },
  {
   "cell_type": "code",
   "execution_count": 27,
   "metadata": {},
   "outputs": [
    {
     "data": {
      "text/plain": [
       "'we can get fancier\\na='"
      ]
     },
     "execution_count": 27,
     "metadata": {},
     "output_type": "execute_result"
    }
   ],
   "source": [
    "str(output)"
   ]
  },
  {
   "cell_type": "markdown",
   "metadata": {},
   "source": [
    "The next set of calls shows you the formal way of formatting all your values.  Plus I added the \"\\\\\" (the slash doesn't always show up) to do a line break below.  Play with all the settings.  The format is an object oriented function you are calling to set the formating.  This [link](https://docs.python.org/3.6/tutorial/inputoutput.html) goes through some string stuff and this [link](https://docs.python.org/3.6/library/string.html#formatstrings) gets into the nitty-gritty detail of how to do the formatting.  You can set widths, spacing, decimals,and centering.  Go through and do some of your own!  Go through this slowly.  We will be using it a lot to make things nice.  You will come back to this!  \n",
    "\n",
    "### Take your time here and don't rush.  It will save you time later on making things look nice"
   ]
  },
  {
   "cell_type": "code",
   "execution_count": 28,
   "metadata": {},
   "outputs": [
    {
     "name": "stdout",
     "output_type": "stream",
     "text": [
      "The value of b is ****4.000***** the value of a is  6\n"
     ]
    }
   ],
   "source": [
    "#fancy formatting.  \n",
    "print ('The value of b is {0:*^14.3f}'.format(b),'the value of a is{0:3d}'.format(a))  \n",
    "#The 0 represents the first item in the list. The star represents the fill.  \n",
    "# the carrort says center it.  \n",
    "# The 14 represents the spaces. \n",
    "# The 3 repesents the decimals. the f is a float \n",
    "\n",
    "\n",
    "\n",
    "\n"
   ]
  },
  {
   "cell_type": "markdown",
   "metadata": {},
   "source": [
    "Now lets go through it step by step!"
   ]
  },
  {
   "cell_type": "code",
   "execution_count": 29,
   "metadata": {},
   "outputs": [
    {
     "name": "stdout",
     "output_type": "stream",
     "text": [
      "The value of b is 4 and the value of a is 6\n"
     ]
    }
   ],
   "source": [
    "print ('The value of b is {} and the value of a is {}'.format(b,a))\n",
    "# the brackets tell it were to inserst a value \n",
    "# and then you list the values in the format string.  \n",
    "# It by default takes the values in the format string in order"
   ]
  },
  {
   "cell_type": "code",
   "execution_count": 30,
   "metadata": {},
   "outputs": [
    {
     "name": "stdout",
     "output_type": "stream",
     "text": [
      "The value of b is 4 and the value of a is 6\n"
     ]
    }
   ],
   "source": [
    "print ('The value of b is {0} and the value of a is {1}'.format(b,a))\n",
    "# You can tell it what order to take the values in the format string.  \n",
    "#In Python we always start with 0."
   ]
  },
  {
   "cell_type": "code",
   "execution_count": 31,
   "metadata": {},
   "outputs": [
    {
     "name": "stdout",
     "output_type": "stream",
     "text": [
      "The value of b is 6 and the value of a is 4\n"
     ]
    }
   ],
   "source": [
    "print ('The value of b is {1} and the value of a is {0}'.format(b,a))"
   ]
  },
  {
   "cell_type": "code",
   "execution_count": 32,
   "metadata": {},
   "outputs": [
    {
     "name": "stdout",
     "output_type": "stream",
     "text": [
      "The value of b is 6 and the value of a is 6\n"
     ]
    }
   ],
   "source": [
    "print ('The value of b is {1} and the value of a is {1}'.format(b,a))"
   ]
  },
  {
   "cell_type": "markdown",
   "metadata": {},
   "source": [
    "Now you can format the values.  d is for integer and f is for float.  "
   ]
  },
  {
   "cell_type": "code",
   "execution_count": 33,
   "metadata": {},
   "outputs": [
    {
     "name": "stdout",
     "output_type": "stream",
     "text": [
      "The value of b is   4 and the value of a is 6.000\n"
     ]
    }
   ],
   "source": [
    "print ('The value of b is {:3d} and the value of a is {:.3f}'.format(int(b),float(a)))\n",
    "# or you can just not print the decimals for a float\n",
    "# The 3 in front of the d is for the number of spaces.  \n",
    "#The .3 in front of the f is the number of decimal places.  \n",
    "#The total number of spaces would be in front of\n",
    "# the decimal place.  "
   ]
  },
  {
   "cell_type": "code",
   "execution_count": 34,
   "metadata": {},
   "outputs": [
    {
     "data": {
      "text/plain": [
       "'          4.000'"
      ]
     },
     "execution_count": 34,
     "metadata": {},
     "output_type": "execute_result"
    }
   ],
   "source": [
    "#A tricky aside.\n",
    "format(b,'15.3f')\n",
    "#why this works both ways is because python is object oriented...."
   ]
  },
  {
   "cell_type": "code",
   "execution_count": 35,
   "metadata": {},
   "outputs": [
    {
     "name": "stdout",
     "output_type": "stream",
     "text": [
      "we are going to divide 6 by 4\n",
      "we could turn 6 into a float 6.000\n",
      "we could turn 6 into a float with 10 decimal places and 15 spots and a plus sign with stars and centered *+6.0000000000*\n"
     ]
    }
   ],
   "source": [
    "#lets do more fomatting.  If you want 2  #the slash allows us to split up a long line\n",
    "print ('we are going to divide {} by {}'.format(a,b))\n",
    "print ('we could turn {} into a float {:.3f}'.format(a,a))\n",
    "print ('we could turn {} into a float with 10 decimal places \\\n",
    "and 15 spots and a plus sign with stars and centered {:*^+15.10f}'.format(a,a))"
   ]
  },
  {
   "cell_type": "markdown",
   "metadata": {},
   "source": [
    "I just made all the formatting more complicated then it needs to be to teach you.  The key thing to remember is you can control the number of decimal places.  That is really nice to make output look nice especially as we start reporting variables on graphs etc (this is foreshadowing, remember this).  "
   ]
  },
  {
   "cell_type": "markdown",
   "metadata": {},
   "source": [
    "### I am sure I did a few things you missed.  So a review of the critical parts.\n",
    "1. Set your printed decimal points"
   ]
  },
  {
   "cell_type": "code",
   "execution_count": 8,
   "metadata": {},
   "outputs": [
    {
     "name": "stdout",
     "output_type": "stream",
     "text": [
      "pi is equal to 3.142\n"
     ]
    }
   ],
   "source": [
    "a=3.14159265\n",
    "print('pi is equal to {:.3f}'.format(a))"
   ]
  },
  {
   "cell_type": "markdown",
   "metadata": {},
   "source": [
    "2. You can line breaks wherever you want with \\n to make things look nice (or ugly)"
   ]
  },
  {
   "cell_type": "code",
   "execution_count": 12,
   "metadata": {},
   "outputs": [
    {
     "name": "stdout",
     "output_type": "stream",
     "text": [
      "pi is equal to 3.142\n",
      "But maybe I want 5 decimals: pi=3.14159\n"
     ]
    }
   ],
   "source": [
    "a=3.14159265\n",
    "print('pi is equal to {:.3f}\\nBut maybe I want 5 decimals: pi={:.5f}'.format(a,a))"
   ]
  },
  {
   "cell_type": "markdown",
   "metadata": {},
   "source": [
    "3.  a tab is \\t and adds a nice space"
   ]
  },
  {
   "cell_type": "code",
   "execution_count": 18,
   "metadata": {},
   "outputs": [
    {
     "name": "stdout",
     "output_type": "stream",
     "text": [
      "pi\tis equal to 3.142\n"
     ]
    }
   ],
   "source": [
    "a=3.14159265\n",
    "print('pi\\tis equal to {:.3f}'.format(a))"
   ]
  },
  {
   "cell_type": "code",
   "execution_count": null,
   "metadata": {},
   "outputs": [],
   "source": []
  }
 ],
 "metadata": {
  "kernelspec": {
   "display_name": "Python 3",
   "language": "python",
   "name": "python3"
  },
  "language_info": {
   "codemirror_mode": {
    "name": "ipython",
    "version": 3
   },
   "file_extension": ".py",
   "mimetype": "text/x-python",
   "name": "python",
   "nbconvert_exporter": "python",
   "pygments_lexer": "ipython3",
   "version": "3.8.5"
  }
 },
 "nbformat": 4,
 "nbformat_minor": 1
}
